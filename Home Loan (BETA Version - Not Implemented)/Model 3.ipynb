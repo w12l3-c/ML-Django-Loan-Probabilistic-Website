{
 "cells": [
  {
   "cell_type": "code",
   "execution_count": 1,
   "id": "8e006df8",
   "metadata": {},
   "outputs": [],
   "source": [
    "import numpy as np\n",
    "import pandas as pd\n",
    "import matplotlib.pyplot as plt\n",
    "import seaborn as sns\n",
    "%matplotlib inline\n",
    "\n",
    "from sklearn.preprocessing import MinMaxScaler\n",
    "\n",
    "from sklearn.model_selection import train_test_split\n",
    "from sklearn.linear_model import LogisticRegression\n",
    "from sklearn.ensemble import RandomForestClassifier\n",
    "from sklearn.metrics import confusion_matrix, classification_report"
   ]
  },
  {
   "cell_type": "code",
   "execution_count": 2,
   "id": "14780c2d",
   "metadata": {},
   "outputs": [],
   "source": [
    "df = pd.read_csv('Dataset 2.csv')"
   ]
  },
  {
   "cell_type": "markdown",
   "id": "b648c39c",
   "metadata": {},
   "source": [
    "# EDA / Feature Engineering"
   ]
  },
  {
   "cell_type": "code",
   "execution_count": 3,
   "id": "6902bc63",
   "metadata": {},
   "outputs": [
    {
     "data": {
      "text/html": [
       "<div>\n",
       "<style scoped>\n",
       "    .dataframe tbody tr th:only-of-type {\n",
       "        vertical-align: middle;\n",
       "    }\n",
       "\n",
       "    .dataframe tbody tr th {\n",
       "        vertical-align: top;\n",
       "    }\n",
       "\n",
       "    .dataframe thead th {\n",
       "        text-align: right;\n",
       "    }\n",
       "</style>\n",
       "<table border=\"1\" class=\"dataframe\">\n",
       "  <thead>\n",
       "    <tr style=\"text-align: right;\">\n",
       "      <th></th>\n",
       "      <th>CREDIT_SCORE</th>\n",
       "      <th>FIRST_PAYMENT_DATE</th>\n",
       "      <th>FIRST_TIME_HOMEBUYER_FLAG</th>\n",
       "      <th>MATURITY_DATE</th>\n",
       "      <th>METROPOLITAN_STATISTICAL_AREA</th>\n",
       "      <th>MORTGAGE_INSURANCE_PERCENTAGE</th>\n",
       "      <th>NUMBER_OF_UNITS</th>\n",
       "      <th>OCCUPANCY_STATUS</th>\n",
       "      <th>ORIGINAL_COMBINED_LOAN_TO_VALUE</th>\n",
       "      <th>ORIGINAL_DEBT_TO_INCOME_RATIO</th>\n",
       "      <th>...</th>\n",
       "      <th>PROPERTY_TYPE</th>\n",
       "      <th>POSTAL_CODE</th>\n",
       "      <th>LOAN_SEQUENCE_NUMBER</th>\n",
       "      <th>LOAN_PURPOSE</th>\n",
       "      <th>ORIGINAL_LOAN_TERM</th>\n",
       "      <th>NUMBER_OF_BORROWERS</th>\n",
       "      <th>SELLER_NAME</th>\n",
       "      <th>SERVICER_NAME</th>\n",
       "      <th>PREPAID</th>\n",
       "      <th>DELINQUENT</th>\n",
       "    </tr>\n",
       "  </thead>\n",
       "  <tbody>\n",
       "    <tr>\n",
       "      <th>0</th>\n",
       "      <td>669.0</td>\n",
       "      <td>200206</td>\n",
       "      <td>N</td>\n",
       "      <td>202901</td>\n",
       "      <td>NaN</td>\n",
       "      <td>0.0</td>\n",
       "      <td>1.0</td>\n",
       "      <td>O</td>\n",
       "      <td>80.0</td>\n",
       "      <td>33.0</td>\n",
       "      <td>...</td>\n",
       "      <td>SF</td>\n",
       "      <td>26100.0</td>\n",
       "      <td>F199Q1000004</td>\n",
       "      <td>P</td>\n",
       "      <td>320</td>\n",
       "      <td>2.0</td>\n",
       "      <td>Other sellers</td>\n",
       "      <td>Other servicers</td>\n",
       "      <td>True</td>\n",
       "      <td>False</td>\n",
       "    </tr>\n",
       "    <tr>\n",
       "      <th>1</th>\n",
       "      <td>732.0</td>\n",
       "      <td>199904</td>\n",
       "      <td>N</td>\n",
       "      <td>202903</td>\n",
       "      <td>17140.0</td>\n",
       "      <td>0.0</td>\n",
       "      <td>1.0</td>\n",
       "      <td>O</td>\n",
       "      <td>25.0</td>\n",
       "      <td>10.0</td>\n",
       "      <td>...</td>\n",
       "      <td>SF</td>\n",
       "      <td>45200.0</td>\n",
       "      <td>F199Q1000005</td>\n",
       "      <td>N</td>\n",
       "      <td>360</td>\n",
       "      <td>1.0</td>\n",
       "      <td>Other sellers</td>\n",
       "      <td>Other servicers</td>\n",
       "      <td>True</td>\n",
       "      <td>False</td>\n",
       "    </tr>\n",
       "    <tr>\n",
       "      <th>2</th>\n",
       "      <td>679.0</td>\n",
       "      <td>200208</td>\n",
       "      <td>N</td>\n",
       "      <td>202902</td>\n",
       "      <td>15940.0</td>\n",
       "      <td>30.0</td>\n",
       "      <td>1.0</td>\n",
       "      <td>O</td>\n",
       "      <td>91.0</td>\n",
       "      <td>48.0</td>\n",
       "      <td>...</td>\n",
       "      <td>SF</td>\n",
       "      <td>44700.0</td>\n",
       "      <td>F199Q1000007</td>\n",
       "      <td>P</td>\n",
       "      <td>319</td>\n",
       "      <td>1.0</td>\n",
       "      <td>Other sellers</td>\n",
       "      <td>Other servicers</td>\n",
       "      <td>True</td>\n",
       "      <td>False</td>\n",
       "    </tr>\n",
       "    <tr>\n",
       "      <th>3</th>\n",
       "      <td>721.0</td>\n",
       "      <td>200209</td>\n",
       "      <td>N</td>\n",
       "      <td>202902</td>\n",
       "      <td>38060.0</td>\n",
       "      <td>0.0</td>\n",
       "      <td>1.0</td>\n",
       "      <td>O</td>\n",
       "      <td>39.0</td>\n",
       "      <td>13.0</td>\n",
       "      <td>...</td>\n",
       "      <td>SF</td>\n",
       "      <td>85200.0</td>\n",
       "      <td>F199Q1000013</td>\n",
       "      <td>N</td>\n",
       "      <td>318</td>\n",
       "      <td>2.0</td>\n",
       "      <td>Other sellers</td>\n",
       "      <td>Other servicers</td>\n",
       "      <td>True</td>\n",
       "      <td>False</td>\n",
       "    </tr>\n",
       "    <tr>\n",
       "      <th>4</th>\n",
       "      <td>618.0</td>\n",
       "      <td>200210</td>\n",
       "      <td>N</td>\n",
       "      <td>202902</td>\n",
       "      <td>10420.0</td>\n",
       "      <td>25.0</td>\n",
       "      <td>1.0</td>\n",
       "      <td>O</td>\n",
       "      <td>85.0</td>\n",
       "      <td>24.0</td>\n",
       "      <td>...</td>\n",
       "      <td>SF</td>\n",
       "      <td>44200.0</td>\n",
       "      <td>F199Q1000015</td>\n",
       "      <td>N</td>\n",
       "      <td>317</td>\n",
       "      <td>2.0</td>\n",
       "      <td>Other sellers</td>\n",
       "      <td>Other servicers</td>\n",
       "      <td>True</td>\n",
       "      <td>False</td>\n",
       "    </tr>\n",
       "  </tbody>\n",
       "</table>\n",
       "<p>5 rows × 27 columns</p>\n",
       "</div>"
      ],
      "text/plain": [
       "   CREDIT_SCORE  FIRST_PAYMENT_DATE FIRST_TIME_HOMEBUYER_FLAG  MATURITY_DATE  \\\n",
       "0         669.0              200206                         N         202901   \n",
       "1         732.0              199904                         N         202903   \n",
       "2         679.0              200208                         N         202902   \n",
       "3         721.0              200209                         N         202902   \n",
       "4         618.0              200210                         N         202902   \n",
       "\n",
       "   METROPOLITAN_STATISTICAL_AREA  MORTGAGE_INSURANCE_PERCENTAGE  \\\n",
       "0                            NaN                            0.0   \n",
       "1                        17140.0                            0.0   \n",
       "2                        15940.0                           30.0   \n",
       "3                        38060.0                            0.0   \n",
       "4                        10420.0                           25.0   \n",
       "\n",
       "   NUMBER_OF_UNITS OCCUPANCY_STATUS  ORIGINAL_COMBINED_LOAN_TO_VALUE  \\\n",
       "0              1.0                O                             80.0   \n",
       "1              1.0                O                             25.0   \n",
       "2              1.0                O                             91.0   \n",
       "3              1.0                O                             39.0   \n",
       "4              1.0                O                             85.0   \n",
       "\n",
       "   ORIGINAL_DEBT_TO_INCOME_RATIO  ...  PROPERTY_TYPE  POSTAL_CODE  \\\n",
       "0                           33.0  ...             SF      26100.0   \n",
       "1                           10.0  ...             SF      45200.0   \n",
       "2                           48.0  ...             SF      44700.0   \n",
       "3                           13.0  ...             SF      85200.0   \n",
       "4                           24.0  ...             SF      44200.0   \n",
       "\n",
       "   LOAN_SEQUENCE_NUMBER LOAN_PURPOSE ORIGINAL_LOAN_TERM NUMBER_OF_BORROWERS  \\\n",
       "0          F199Q1000004            P                320                 2.0   \n",
       "1          F199Q1000005            N                360                 1.0   \n",
       "2          F199Q1000007            P                319                 1.0   \n",
       "3          F199Q1000013            N                318                 2.0   \n",
       "4          F199Q1000015            N                317                 2.0   \n",
       "\n",
       "     SELLER_NAME    SERVICER_NAME  PREPAID DELINQUENT  \n",
       "0  Other sellers  Other servicers     True      False  \n",
       "1  Other sellers  Other servicers     True      False  \n",
       "2  Other sellers  Other servicers     True      False  \n",
       "3  Other sellers  Other servicers     True      False  \n",
       "4  Other sellers  Other servicers     True      False  \n",
       "\n",
       "[5 rows x 27 columns]"
      ]
     },
     "execution_count": 3,
     "metadata": {},
     "output_type": "execute_result"
    }
   ],
   "source": [
    "df.head()"
   ]
  },
  {
   "cell_type": "code",
   "execution_count": 4,
   "id": "34b7f875",
   "metadata": {
    "scrolled": false
   },
   "outputs": [
    {
     "name": "stdout",
     "output_type": "stream",
     "text": [
      "<class 'pandas.core.frame.DataFrame'>\n",
      "RangeIndex: 500137 entries, 0 to 500136\n",
      "Data columns (total 27 columns):\n",
      " #   Column                            Non-Null Count   Dtype  \n",
      "---  ------                            --------------   -----  \n",
      " 0   CREDIT_SCORE                      497426 non-null  float64\n",
      " 1   FIRST_PAYMENT_DATE                500137 non-null  int64  \n",
      " 2   FIRST_TIME_HOMEBUYER_FLAG         369578 non-null  object \n",
      " 3   MATURITY_DATE                     500137 non-null  int64  \n",
      " 4   METROPOLITAN_STATISTICAL_AREA     429988 non-null  float64\n",
      " 5   MORTGAGE_INSURANCE_PERCENTAGE     449089 non-null  float64\n",
      " 6   NUMBER_OF_UNITS                   500134 non-null  float64\n",
      " 7   OCCUPANCY_STATUS                  500137 non-null  object \n",
      " 8   ORIGINAL_COMBINED_LOAN_TO_VALUE   500124 non-null  float64\n",
      " 9   ORIGINAL_DEBT_TO_INCOME_RATIO     485208 non-null  float64\n",
      " 10  ORIGINAL_UPB                      500137 non-null  int64  \n",
      " 11  ORIGINAL_LOAN_TO_VALUE            500128 non-null  float64\n",
      " 12  ORIGINAL_INTEREST_RATE            500137 non-null  float64\n",
      " 13  CHANNEL                           500137 non-null  object \n",
      " 14  PREPAYMENT_PENALTY_MORTGAGE_FLAG  494959 non-null  object \n",
      " 15  PRODUCT_TYPE                      500137 non-null  object \n",
      " 16  PROPERTY_STATE                    500137 non-null  object \n",
      " 17  PROPERTY_TYPE                     500042 non-null  object \n",
      " 18  POSTAL_CODE                       500106 non-null  float64\n",
      " 19  LOAN_SEQUENCE_NUMBER              500137 non-null  object \n",
      " 20  LOAN_PURPOSE                      500137 non-null  object \n",
      " 21  ORIGINAL_LOAN_TERM                500137 non-null  int64  \n",
      " 22  NUMBER_OF_BORROWERS               499890 non-null  float64\n",
      " 23  SELLER_NAME                       500137 non-null  object \n",
      " 24  SERVICER_NAME                     500137 non-null  object \n",
      " 25  PREPAID                           500137 non-null  bool   \n",
      " 26  DELINQUENT                        500137 non-null  bool   \n",
      "dtypes: bool(2), float64(10), int64(4), object(11)\n",
      "memory usage: 96.3+ MB\n"
     ]
    }
   ],
   "source": [
    "df.info()"
   ]
  },
  {
   "cell_type": "code",
   "execution_count": 5,
   "id": "ece7959b",
   "metadata": {},
   "outputs": [],
   "source": [
    "# Drop irrelevant features\n",
    "\n",
    "df.drop(['FIRST_PAYMENT_DATE', 'MATURITY_DATE', 'METROPOLITAN_STATISTICAL_AREA', 'MORTGAGE_INSURANCE_PERCENTAGE', 'NUMBER_OF_UNITS', 'ORIGINAL_COMBINED_LOAN_TO_VALUE', 'ORIGINAL_LOAN_TO_VALUE', 'ORIGINAL_INTEREST_RATE', 'CHANNEL', 'PREPAYMENT_PENALTY_MORTGAGE_FLAG', 'PRODUCT_TYPE', 'PROPERTY_STATE', 'POSTAL_CODE', 'LOAN_SEQUENCE_NUMBER', 'SELLER_NAME', 'SERVICER_NAME', 'PREPAID'], axis = 1, inplace = True)"
   ]
  },
  {
   "cell_type": "code",
   "execution_count": 6,
   "id": "2d929ce7",
   "metadata": {
    "scrolled": true
   },
   "outputs": [
    {
     "name": "stdout",
     "output_type": "stream",
     "text": [
      "<class 'pandas.core.frame.DataFrame'>\n",
      "RangeIndex: 500137 entries, 0 to 500136\n",
      "Data columns (total 10 columns):\n",
      " #   Column                         Non-Null Count   Dtype  \n",
      "---  ------                         --------------   -----  \n",
      " 0   CREDIT_SCORE                   497426 non-null  float64\n",
      " 1   FIRST_TIME_HOMEBUYER_FLAG      369578 non-null  object \n",
      " 2   OCCUPANCY_STATUS               500137 non-null  object \n",
      " 3   ORIGINAL_DEBT_TO_INCOME_RATIO  485208 non-null  float64\n",
      " 4   ORIGINAL_UPB                   500137 non-null  int64  \n",
      " 5   PROPERTY_TYPE                  500042 non-null  object \n",
      " 6   LOAN_PURPOSE                   500137 non-null  object \n",
      " 7   ORIGINAL_LOAN_TERM             500137 non-null  int64  \n",
      " 8   NUMBER_OF_BORROWERS            499890 non-null  float64\n",
      " 9   DELINQUENT                     500137 non-null  bool   \n",
      "dtypes: bool(1), float64(3), int64(2), object(4)\n",
      "memory usage: 34.8+ MB\n"
     ]
    }
   ],
   "source": [
    "df.info()"
   ]
  },
  {
   "cell_type": "code",
   "execution_count": 7,
   "id": "582f3334",
   "metadata": {},
   "outputs": [],
   "source": [
    "# rename columns to increase readability\n",
    "df.columns = ['FICO',\n",
    "              'First Time Homebuyer', \n",
    "              'Occupancy Status', \n",
    "              'DTI',\n",
    "              'UPB',\n",
    "              'Property Type',\n",
    "              'Loan Purpose',\n",
    "              'Loan Term',\n",
    "              'Number of Borrowers',\n",
    "              'Delinquent']"
   ]
  },
  {
   "cell_type": "code",
   "execution_count": 8,
   "id": "5d9ddaf8",
   "metadata": {},
   "outputs": [
    {
     "data": {
      "text/plain": [
       "[Text(0, 0, '482146'), Text(0, 0, '17991')]"
      ]
     },
     "execution_count": 8,
     "metadata": {},
     "output_type": "execute_result"
    },
    {
     "data": {
      "image/png": "[encoded data removed]",
      "text/plain": [
       "<Figure size 432x288 with 1 Axes>"
      ]
     },
     "metadata": {
      "needs_background": "light"
     },
     "output_type": "display_data"
    }
   ],
   "source": [
    "ax = sns.countplot(x = 'Delinquent', data = df)\n",
    "ax.bar_label(ax.containers[0])"
   ]
  },
  {
   "cell_type": "code",
   "execution_count": 9,
   "id": "e1f8336e",
   "metadata": {},
   "outputs": [],
   "source": [
    "df['Delinquent'] = df['Delinquent'].apply(lambda x: 1 if x == True else 0)"
   ]
  },
  {
   "cell_type": "code",
   "execution_count": 10,
   "id": "a33d7768",
   "metadata": {},
   "outputs": [
    {
     "data": {
      "text/plain": [
       "count    497426.000000\n",
       "mean        712.536212\n",
       "std          54.791262\n",
       "min         300.000000\n",
       "25%         676.000000\n",
       "50%         719.000000\n",
       "75%         756.000000\n",
       "max         839.000000\n",
       "Name: FICO, dtype: float64"
      ]
     },
     "execution_count": 10,
     "metadata": {},
     "output_type": "execute_result"
    }
   ],
   "source": [
    "df['FICO'].describe()"
   ]
  },
  {
   "cell_type": "code",
   "execution_count": 11,
   "id": "ccd6e21c",
   "metadata": {},
   "outputs": [
    {
     "data": {
      "text/plain": [
       "<seaborn.axisgrid.FacetGrid at 0x1dd274d51f0>"
      ]
     },
     "execution_count": 11,
     "metadata": {},
     "output_type": "execute_result"
    },
    {
     "data": {
      "image/png": "[encoded data removed]",
      "text/plain": [
       "<Figure size 360x360 with 1 Axes>"
      ]
     },
     "metadata": {
      "needs_background": "light"
     },
     "output_type": "display_data"
    }
   ],
   "source": [
    "sns.displot(df['FICO'], bins = 100)"
   ]
  },
  {
   "cell_type": "code",
   "execution_count": 12,
   "id": "4c8bf2a3",
   "metadata": {},
   "outputs": [
    {
     "data": {
      "text/plain": [
       "35988"
      ]
     },
     "execution_count": 12,
     "metadata": {},
     "output_type": "execute_result"
    }
   ],
   "source": [
    "# Number of bad credit borrowers\n",
    "sum(df['FICO'] < 630)"
   ]
  },
  {
   "cell_type": "code",
   "execution_count": 13,
   "id": "16635ef1",
   "metadata": {},
   "outputs": [
    {
     "name": "stdout",
     "output_type": "stream",
     "text": [
      "7.2 %\n"
     ]
    }
   ],
   "source": [
    "# Percent of bad credit borrowers\n",
    "print(str(round(sum(df['FICO'] < 630)*100 / len(df), 2)) + ' %')"
   ]
  },
  {
   "cell_type": "code",
   "execution_count": 14,
   "id": "8689f221",
   "metadata": {},
   "outputs": [
    {
     "data": {
      "text/plain": [
       "[Text(0, 0, '31295'), Text(0, 0, '4693')]"
      ]
     },
     "execution_count": 14,
     "metadata": {},
     "output_type": "execute_result"
    },
    {
     "data": {
      "image/png": "[encoded data removed]",
      "text/plain": [
       "<Figure size 432x288 with 1 Axes>"
      ]
     },
     "metadata": {
      "needs_background": "light"
     },
     "output_type": "display_data"
    }
   ],
   "source": [
    "# Checking Delinquency Rates Among Bad Credit Borrowers\n",
    "ax = sns.countplot(x = 'Delinquent', data = df[df['FICO'] < 630])\n",
    "ax.bar_label(ax.containers[0])"
   ]
  },
  {
   "cell_type": "code",
   "execution_count": 15,
   "id": "63b2ad5b",
   "metadata": {},
   "outputs": [
    {
     "name": "stdout",
     "output_type": "stream",
     "text": [
      "15 %\n"
     ]
    }
   ],
   "source": [
    "# Pretty High Delinquency Rate for Bad Credit Borrowers\n",
    "print(str(round((sum((df['FICO'] < 630) & (df['Delinquent'] == 1)) / sum((df['FICO'] < 630) & (df['Delinquent'] == 0)))*100)) + ' %')"
   ]
  },
  {
   "cell_type": "code",
   "execution_count": 16,
   "id": "18ec28b6",
   "metadata": {},
   "outputs": [],
   "source": [
    "for i in df[df['FICO'] == 0]['Delinquent'].index:\n",
    "    df.iloc[i]['Delinquent'] == 1"
   ]
  },
  {
   "cell_type": "code",
   "execution_count": 17,
   "id": "de50d76c",
   "metadata": {},
   "outputs": [
    {
     "data": {
      "text/plain": [
       "[Text(0, 0, '320418'), Text(0, 0, '49160')]"
      ]
     },
     "execution_count": 17,
     "metadata": {},
     "output_type": "execute_result"
    },
    {
     "data": {
      "image/png": "[encoded data removed]",
      "text/plain": [
       "<Figure size 432x288 with 1 Axes>"
      ]
     },
     "metadata": {
      "needs_background": "light"
     },
     "output_type": "display_data"
    }
   ],
   "source": [
    "ax = sns.countplot(x = 'First Time Homebuyer', data = df)\n",
    "ax.bar_label(ax.containers[0])"
   ]
  },
  {
   "cell_type": "code",
   "execution_count": 18,
   "id": "c67359fb",
   "metadata": {},
   "outputs": [],
   "source": [
    "df['First Time Homebuyer'] = df['First Time Homebuyer'].apply(lambda x: 1 if x == 'Y' else 0)"
   ]
  },
  {
   "cell_type": "code",
   "execution_count": 19,
   "id": "45810fd9",
   "metadata": {},
   "outputs": [
    {
     "data": {
      "text/plain": [
       "[Text(0, 0, '465817'), Text(0, 0, '14211'), Text(0, 0, '20109')]"
      ]
     },
     "execution_count": 19,
     "metadata": {},
     "output_type": "execute_result"
    },
    {
     "data": {
      "image/png": "[encoded data removed]",
      "text/plain": [
       "<Figure size 432x288 with 1 Axes>"
      ]
     },
     "metadata": {
      "needs_background": "light"
     },
     "output_type": "display_data"
    }
   ],
   "source": [
    "ax = sns.countplot(x = 'Occupancy Status', data = df)\n",
    "ax.bar_label(ax.containers[0])"
   ]
  },
  {
   "cell_type": "code",
   "execution_count": 20,
   "id": "e63c6538",
   "metadata": {},
   "outputs": [],
   "source": [
    "occupancy = pd.get_dummies(df['Occupancy Status'])\n",
    "occupancy.columns = ['Investment Property', 'Primary Residence', 'Secondary Residence']"
   ]
  },
  {
   "cell_type": "code",
   "execution_count": 21,
   "id": "a1edea8c",
   "metadata": {},
   "outputs": [
    {
     "data": {
      "text/plain": [
       "count    485208.000000\n",
       "mean         32.917541\n",
       "std          11.111800\n",
       "min           1.000000\n",
       "25%          25.000000\n",
       "50%          33.000000\n",
       "75%          41.000000\n",
       "max          65.000000\n",
       "Name: DTI, dtype: float64"
      ]
     },
     "execution_count": 21,
     "metadata": {},
     "output_type": "execute_result"
    }
   ],
   "source": [
    "df['DTI'].describe()"
   ]
  },
  {
   "cell_type": "code",
   "execution_count": 22,
   "id": "f7564af3",
   "metadata": {},
   "outputs": [
    {
     "data": {
      "text/plain": [
       "<seaborn.axisgrid.FacetGrid at 0x1dd27cf3670>"
      ]
     },
     "execution_count": 22,
     "metadata": {},
     "output_type": "execute_result"
    },
    {
     "data": {
      "image/png": "[encoded data removed]",
      "text/plain": [
       "<Figure size 360x360 with 1 Axes>"
      ]
     },
     "metadata": {
      "needs_background": "light"
     },
     "output_type": "display_data"
    }
   ],
   "source": [
    "sns.displot(df['DTI'], bins = 50, kde = True)"
   ]
  },
  {
   "cell_type": "code",
   "execution_count": 23,
   "id": "39260cd8",
   "metadata": {},
   "outputs": [
    {
     "data": {
      "text/plain": [
       "count    500137.000000\n",
       "mean     136493.484785\n",
       "std       60968.743066\n",
       "min        8000.000000\n",
       "25%       89000.000000\n",
       "50%      126000.000000\n",
       "75%      176000.000000\n",
       "max      578000.000000\n",
       "Name: UPB, dtype: float64"
      ]
     },
     "execution_count": 23,
     "metadata": {},
     "output_type": "execute_result"
    }
   ],
   "source": [
    "df['UPB'].describe()"
   ]
  },
  {
   "cell_type": "code",
   "execution_count": 24,
   "id": "e80f8ce3",
   "metadata": {},
   "outputs": [
    {
     "data": {
      "text/plain": [
       "<seaborn.axisgrid.FacetGrid at 0x1dd30caf040>"
      ]
     },
     "execution_count": 24,
     "metadata": {},
     "output_type": "execute_result"
    },
    {
     "data": {
      "image/png": "[encoded data removed]",
      "text/plain": [
       "<Figure size 360x360 with 1 Axes>"
      ]
     },
     "metadata": {
      "needs_background": "light"
     },
     "output_type": "display_data"
    }
   ],
   "source": [
    "sns.displot(df['UPB'], bins = 50, kde = True)"
   ]
  },
  {
   "cell_type": "code",
   "execution_count": 25,
   "id": "aac289e8",
   "metadata": {},
   "outputs": [
    {
     "data": {
      "text/plain": [
       "[Text(0, 0, '410630'),\n",
       " Text(0, 0, '53455'),\n",
       " Text(0, 0, '33639'),\n",
       " Text(0, 0, '1741'),\n",
       " Text(0, 0, '197'),\n",
       " Text(0, 0, '380')]"
      ]
     },
     "execution_count": 25,
     "metadata": {},
     "output_type": "execute_result"
    },
    {
     "data": {
      "image/png": "[encoded data removed]",
      "text/plain": [
       "<Figure size 432x288 with 1 Axes>"
      ]
     },
     "metadata": {
      "needs_background": "light"
     },
     "output_type": "display_data"
    }
   ],
   "source": [
    "ax = sns.countplot(x = 'Property Type', data = df)\n",
    "ax.bar_label(ax.containers[0])"
   ]
  },
  {
   "cell_type": "code",
   "execution_count": 26,
   "id": "73d71744",
   "metadata": {},
   "outputs": [],
   "source": [
    "property_type = pd.get_dummies(df['Property Type'])\n",
    "property_type.drop(['LH', 'CP'], axis = 1, inplace = True)\n",
    "property_type.columns = ['Condo', 'Manufactured Housing', 'Planned Unit Development', 'Single-Family']"
   ]
  },
  {
   "cell_type": "code",
   "execution_count": 27,
   "id": "3ad50bcf",
   "metadata": {},
   "outputs": [
    {
     "data": {
      "text/plain": [
       "[Text(0, 0, '214791'), Text(0, 0, '174293'), Text(0, 0, '111053')]"
      ]
     },
     "execution_count": 27,
     "metadata": {},
     "output_type": "execute_result"
    },
    {
     "data": {
      "image/png": "[encoded data removed]",
      "text/plain": [
       "<Figure size 432x288 with 1 Axes>"
      ]
     },
     "metadata": {
      "needs_background": "light"
     },
     "output_type": "display_data"
    }
   ],
   "source": [
    "ax = sns.countplot(x = 'Loan Purpose', data = df)\n",
    "ax.bar_label(ax.containers[0])"
   ]
  },
  {
   "cell_type": "code",
   "execution_count": 28,
   "id": "75252ffb",
   "metadata": {},
   "outputs": [],
   "source": [
    "loan_purpose = pd.get_dummies(df['Loan Purpose'])\n",
    "loan_purpose.columns = ['Refinance - Cash Out', 'Refinance - No Cash Out', 'Purchase']"
   ]
  },
  {
   "cell_type": "code",
   "execution_count": 29,
   "id": "ab261da7",
   "metadata": {},
   "outputs": [
    {
     "data": {
      "text/plain": [
       "360    495446\n",
       "354       607\n",
       "348       405\n",
       "349       282\n",
       "336       209\n",
       "        ...  \n",
       "319         6\n",
       "361         6\n",
       "304         5\n",
       "303         4\n",
       "362         1\n",
       "Name: Loan Term, Length: 62, dtype: int64"
      ]
     },
     "execution_count": 29,
     "metadata": {},
     "output_type": "execute_result"
    }
   ],
   "source": [
    "df['Loan Term'].value_counts()"
   ]
  },
  {
   "cell_type": "code",
   "execution_count": 30,
   "id": "8a6657d1",
   "metadata": {},
   "outputs": [],
   "source": [
    "df['Loan Term'] = df['Loan Term'].apply(lambda x: 1 if x == 360 else 0)"
   ]
  },
  {
   "cell_type": "code",
   "execution_count": 31,
   "id": "a50a7cb4",
   "metadata": {},
   "outputs": [
    {
     "data": {
      "text/plain": [
       "[Text(0, 0, '184812'), Text(0, 0, '315078')]"
      ]
     },
     "execution_count": 31,
     "metadata": {},
     "output_type": "execute_result"
    },
    {
     "data": {
      "image/png": "[encoded data removed]",
      "text/plain": [
       "<Figure size 432x288 with 1 Axes>"
      ]
     },
     "metadata": {
      "needs_background": "light"
     },
     "output_type": "display_data"
    }
   ],
   "source": [
    "# 1 if 1 borrower; else >1 applicant\n",
    "ax = sns.countplot(x = 'Number of Borrowers', data = df)\n",
    "ax.bar_label(ax.containers[0])"
   ]
  },
  {
   "cell_type": "code",
   "execution_count": 32,
   "id": "fed18623",
   "metadata": {},
   "outputs": [],
   "source": [
    "df = pd.concat([df, occupancy, property_type, loan_purpose], axis = 1)"
   ]
  },
  {
   "cell_type": "code",
   "execution_count": 33,
   "id": "d625e551",
   "metadata": {},
   "outputs": [],
   "source": [
    "df.drop(['Occupancy Status', 'Property Type', 'Loan Purpose'], axis = 1, inplace = True)"
   ]
  },
  {
   "cell_type": "code",
   "execution_count": 34,
   "id": "2e1dd692",
   "metadata": {},
   "outputs": [
    {
     "data": {
      "text/plain": [
       "<AxesSubplot:>"
      ]
     },
     "execution_count": 34,
     "metadata": {},
     "output_type": "execute_result"
    },
    {
     "data": {
      "image/png": "[encoded data removed]",
      "text/plain": [
       "<Figure size 432x288 with 2 Axes>"
      ]
     },
     "metadata": {
      "needs_background": "light"
     },
     "output_type": "display_data"
    }
   ],
   "source": [
    "sns.heatmap(df.isnull())"
   ]
  },
  {
   "cell_type": "markdown",
   "id": "4e047e74",
   "metadata": {},
   "source": [
    "## Final Preparation"
   ]
  },
  {
   "cell_type": "code",
   "execution_count": 35,
   "id": "6564b797",
   "metadata": {},
   "outputs": [],
   "source": [
    "sample = df\n",
    "sample.dropna(inplace = True)"
   ]
  },
  {
   "cell_type": "code",
   "execution_count": 36,
   "id": "c85cb3e5",
   "metadata": {},
   "outputs": [
    {
     "data": {
      "text/plain": [
       "[Text(0, 0, '465037'), Text(0, 0, '17443')]"
      ]
     },
     "execution_count": 36,
     "metadata": {},
     "output_type": "execute_result"
    },
    {
     "data": {
      "image/png": "[encoded data removed]",
      "text/plain": [
       "<Figure size 432x288 with 1 Axes>"
      ]
     },
     "metadata": {
      "needs_background": "light"
     },
     "output_type": "display_data"
    }
   ],
   "source": [
    "ax = sns.countplot(x = 'Delinquent', data = sample)\n",
    "ax.bar_label(ax.containers[0])"
   ]
  },
  {
   "cell_type": "code",
   "execution_count": 37,
   "id": "705dd09c",
   "metadata": {},
   "outputs": [
    {
     "data": {
      "text/plain": [
       "<AxesSubplot:>"
      ]
     },
     "execution_count": 37,
     "metadata": {},
     "output_type": "execute_result"
    },
    {
     "data": {
      "image/png": "[encoded data removed]",
      "text/plain": [
       "<Figure size 432x288 with 2 Axes>"
      ]
     },
     "metadata": {
      "needs_background": "light"
     },
     "output_type": "display_data"
    }
   ],
   "source": [
    "sns.heatmap(sample.corr(), cmap = 'coolwarm')"
   ]
  },
  {
   "cell_type": "code",
   "execution_count": 38,
   "id": "ba5d11a4",
   "metadata": {},
   "outputs": [],
   "source": [
    "# done the first time; can import sample for future references\n",
    "# sub1 = sample[sample['Delinquent'] == 0].sample(n = 17000)\n",
    "# sub2 = sample[sample['Delinquent'] == 1].sample(n = 17000)\n",
    "# sample = pd.concat([sub1, sub2])\n",
    "# sample.reset_index(inplace = True)\n",
    "# sample.drop('index', axis = 1, inplace = True)\n",
    "# sample.to_csv('Cleaned Data 2')"
   ]
  },
  {
   "cell_type": "code",
   "execution_count": 39,
   "id": "0c4fcd53",
   "metadata": {},
   "outputs": [],
   "source": [
    "sample = pd.read_csv('Cleaned Data 2')\n",
    "sample.drop('Unnamed: 0', axis = 1, inplace = True)"
   ]
  },
  {
   "cell_type": "code",
   "execution_count": 40,
   "id": "94868600",
   "metadata": {},
   "outputs": [],
   "source": [
    "scaler = MinMaxScaler()"
   ]
  },
  {
   "cell_type": "code",
   "execution_count": 41,
   "id": "d23f889b",
   "metadata": {},
   "outputs": [],
   "source": [
    "scaled_features = scaler.fit_transform(sample.drop('Delinquent', axis = 1))"
   ]
  },
  {
   "cell_type": "markdown",
   "id": "d4891563",
   "metadata": {},
   "source": [
    "## Model"
   ]
  },
  {
   "cell_type": "code",
   "execution_count": 42,
   "id": "689acd8e",
   "metadata": {},
   "outputs": [],
   "source": [
    "X = scaled_features #sample.drop('Delinquent', axis = 1)\n",
    "y = sample['Delinquent']"
   ]
  },
  {
   "cell_type": "code",
   "execution_count": 43,
   "id": "f787f77a",
   "metadata": {},
   "outputs": [],
   "source": [
    "X_train, X_test, y_train, y_test = train_test_split(X, y, test_size = 0.25, random_state = 0)"
   ]
  },
  {
   "cell_type": "code",
   "execution_count": 44,
   "id": "8515b6cf",
   "metadata": {},
   "outputs": [],
   "source": [
    "model = LogisticRegression(max_iter = 1000)"
   ]
  },
  {
   "cell_type": "code",
   "execution_count": 45,
   "id": "a5208f1b",
   "metadata": {
    "scrolled": false
   },
   "outputs": [
    {
     "data": {
      "text/plain": [
       "LogisticRegression(max_iter=1000)"
      ]
     },
     "execution_count": 45,
     "metadata": {},
     "output_type": "execute_result"
    }
   ],
   "source": [
    "model.fit(X_train, y_train)"
   ]
  },
  {
   "cell_type": "code",
   "execution_count": 50,
   "id": "58f54af1",
   "metadata": {},
   "outputs": [],
   "source": [
    "# Manual Coefficient Selection (based on prior tests) \n",
    "model.coef_ = np.array([[-9.57776116e+00, -6.84570883e-02,  1.06148006e+00, -3.05934753e+00,  8.97068608e-01, -7.74302081e-01, 2.65133660e-01, -1.02757117e-01, -1.56238705e-01, -3.91634695e-01,  1.43808361e+00, -2.70657859e-02, 2.56514945e-01, -2.85111041e-04,  4.94913571e-02, -4.30684080e-02]])"
   ]
  },
  {
   "cell_type": "code",
   "execution_count": 51,
   "id": "452e2956",
   "metadata": {},
   "outputs": [],
   "source": [
    "pred = model.predict(X_test)"
   ]
  },
  {
   "cell_type": "code",
   "execution_count": 52,
   "id": "3c3fe158",
   "metadata": {},
   "outputs": [
    {
     "name": "stdout",
     "output_type": "stream",
     "text": [
      "[[3029 1184]\n",
      " [1103 3184]]\n"
     ]
    }
   ],
   "source": [
    "print(confusion_matrix(y_test, pred))"
   ]
  },
  {
   "cell_type": "code",
   "execution_count": 53,
   "id": "acb547a9",
   "metadata": {},
   "outputs": [
    {
     "name": "stdout",
     "output_type": "stream",
     "text": [
      "              precision    recall  f1-score   support\n",
      "\n",
      "           0       0.73      0.72      0.73      4213\n",
      "           1       0.73      0.74      0.74      4287\n",
      "\n",
      "    accuracy                           0.73      8500\n",
      "   macro avg       0.73      0.73      0.73      8500\n",
      "weighted avg       0.73      0.73      0.73      8500\n",
      "\n"
     ]
    }
   ],
   "source": [
    "print(classification_report(y_test, pred))"
   ]
  },
  {
   "cell_type": "code",
   "execution_count": null,
   "id": "8edcf38c",
   "metadata": {},
   "outputs": [],
   "source": []
  }
 ],
 "metadata": {
  "kernelspec": {
   "display_name": "Python 3 (ipykernel)",
   "language": "python",
   "name": "python3"
  },
  "language_info": {
   "codemirror_mode": {
    "name": "ipython",
    "version": 3
   },
   "file_extension": ".py",
   "mimetype": "text/x-python",
   "name": "python",
   "nbconvert_exporter": "python",
   "pygments_lexer": "ipython3",
   "version": "3.9.7"
  }
 },
 "nbformat": 4,
 "nbformat_minor": 5
}
