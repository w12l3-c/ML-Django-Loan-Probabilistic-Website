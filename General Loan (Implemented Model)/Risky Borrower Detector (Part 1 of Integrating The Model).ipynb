{
 "cells": [
  {
   "cell_type": "code",
   "execution_count": 1,
   "id": "3e103ed6",
   "metadata": {},
   "outputs": [],
   "source": [
    "# Imports\n",
    "import numpy as np\n",
    "import pandas as pd\n",
    "from sklearn.preprocessing import MinMaxScaler\n",
    "from sklearn.linear_model import LogisticRegression"
   ]
  },
  {
   "cell_type": "code",
   "execution_count": 2,
   "id": "4eb7d51f",
   "metadata": {},
   "outputs": [],
   "source": [
    "# Data\n",
    "df = pd.read_csv('Cleaned Data')\n",
    "df.drop('Unnamed: 0', axis = 1, inplace = True)"
   ]
  },
  {
   "cell_type": "code",
   "execution_count": 3,
   "id": "a884742e",
   "metadata": {},
   "outputs": [],
   "source": [
    "# User Inputted Values\n",
    "test = pd.DataFrame(data = [[1, 1, 1, 1, 100]], columns = df.drop('Risky Borrower', axis = 1).columns)"
   ]
  },
  {
   "cell_type": "code",
   "execution_count": 5,
   "id": "8f59b543",
   "metadata": {},
   "outputs": [],
   "source": [
    "# Scaler Instantiation\n",
    "scaler = MinMaxScaler()"
   ]
  },
  {
   "cell_type": "code",
   "execution_count": 6,
   "id": "1ed7400e",
   "metadata": {},
   "outputs": [],
   "source": [
    "# Scaling of Features + Separating Features From Target\n",
    "X = df.drop('Risky Borrower', axis = 1).append(test, ignore_index = True)\n",
    "X = scaler.fit_transform(X)\n",
    "y = df['Risky Borrower']"
   ]
  },
  {
   "cell_type": "code",
   "execution_count": 7,
   "id": "3ff1b032",
   "metadata": {},
   "outputs": [],
   "source": [
    "# Separating User Inputted Value From Train Set\n",
    "test.loc[0] = X[-1]\n",
    "X = X[:-1]"
   ]
  },
  {
   "cell_type": "code",
   "execution_count": 8,
   "id": "8fc7f6c6",
   "metadata": {},
   "outputs": [],
   "source": [
    "# Model Instantiation\n",
    "model = LogisticRegression()"
   ]
  },
  {
   "cell_type": "code",
   "execution_count": 9,
   "id": "a9be2751",
   "metadata": {},
   "outputs": [
    {
     "data": {
      "text/plain": [
       "LogisticRegression()"
      ]
     },
     "execution_count": 9,
     "metadata": {},
     "output_type": "execute_result"
    }
   ],
   "source": [
    "# Model Training\n",
    "model.fit(X, y)"
   ]
  },
  {
   "cell_type": "code",
   "execution_count": 10,
   "id": "6afc0cad",
   "metadata": {},
   "outputs": [],
   "source": [
    "# Manual Coefficient Selection (based on prior tests) \n",
    "model.coef_ = np.array([[1.2161838, 132.85124146, 2.82177439, 4.45186543,  9.03341318]])"
   ]
  },
  {
   "cell_type": "code",
   "execution_count": 11,
   "id": "5a9957b6",
   "metadata": {},
   "outputs": [
    {
     "name": "stdout",
     "output_type": "stream",
     "text": [
      "0.999975325060694\n",
      "You will likely be classified by lending insitutions as a risky borrower.\n",
      "Model Conviction: HIGH\n"
     ]
    }
   ],
   "source": [
    "# Risky Borrower Detector\n",
    "print(model.predict_proba(test)[0][1])\n",
    "if model.predict_proba(test)[0][1] > 0.5:\n",
    "    print('You will likely be classified by lending insitutions as a risky borrower.')\n",
    "    if model.predict_proba(test)[0][1] > 0.7:\n",
    "        print('Model Conviction: HIGH')\n",
    "    elif model.predict_proba(test)[0][1] > 0.6:\n",
    "        print('Model Conviction: MEDIUM')\n",
    "    else:\n",
    "        print('Model Conviction: LOW')\n",
    "else:\n",
    "    print('You will likely be classified by lending institutions as a safe borrower.')\n",
    "    if model.predict_proba(test)[0][1] < 0.3:\n",
    "        print('Model Conviction: HIGH')\n",
    "    elif model.predict_proba(test)[0][1] < 0.4:\n",
    "        print('Model Conviction: MEDIUM')\n",
    "    else:\n",
    "        print('Model Conviction: LOW')"
   ]
  },
  {
   "cell_type": "code",
   "execution_count": null,
   "id": "a1d11dec",
   "metadata": {},
   "outputs": [],
   "source": []
  }
 ],
 "metadata": {
  "kernelspec": {
   "display_name": "Python 3 (ipykernel)",
   "language": "python",
   "name": "python3"
  },
  "language_info": {
   "codemirror_mode": {
    "name": "ipython",
    "version": 3
   },
   "file_extension": ".py",
   "mimetype": "text/x-python",
   "name": "python",
   "nbconvert_exporter": "python",
   "pygments_lexer": "ipython3",
   "version": "3.9.7"
  }
 },
 "nbformat": 4,
 "nbformat_minor": 5
}
