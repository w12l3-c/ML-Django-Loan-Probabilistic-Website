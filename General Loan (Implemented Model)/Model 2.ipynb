{
 "cells": [
  {
   "cell_type": "code",
   "execution_count": 1,
   "id": "22283009",
   "metadata": {},
   "outputs": [],
   "source": [
    "import numpy as np\n",
    "import pandas as pd\n",
    "import matplotlib.pyplot as plt\n",
    "import seaborn as sns\n",
    "%matplotlib inline\n",
    "\n",
    "from sklearn.preprocessing import MinMaxScaler\n",
    "\n",
    "from sklearn.model_selection import train_test_split\n",
    "from sklearn.linear_model import LogisticRegression\n",
    "from sklearn.ensemble import RandomForestClassifier\n",
    "from sklearn.metrics import confusion_matrix, classification_report"
   ]
  },
  {
   "cell_type": "code",
   "execution_count": 2,
   "id": "4eb7d51f",
   "metadata": {},
   "outputs": [],
   "source": [
    "df = pd.read_csv('Dataset 1.csv')"
   ]
  },
  {
   "cell_type": "markdown",
   "id": "17cef691",
   "metadata": {},
   "source": [
    "## Feature Engineering"
   ]
  },
  {
   "cell_type": "code",
   "execution_count": 3,
   "id": "0ba62e8e",
   "metadata": {},
   "outputs": [],
   "source": [
    "df.drop(['Unnamed: 0', 'MonthlyIncome', 'NumberOfDependents', 'age'], axis = 1, inplace = True)"
   ]
  },
  {
   "cell_type": "code",
   "execution_count": 4,
   "id": "efbccf26",
   "metadata": {},
   "outputs": [],
   "source": [
    "# renames columns to increase readability\n",
    "df.columns = ['Risky Borrower',\n",
    "              'Revolving Utilization',\n",
    "              'Late 1',\n",
    "              'Debt Ratio',\n",
    "              'Small Loans',\n",
    "              'Late 3',\n",
    "              'Real Estate Loans',\n",
    "              'Late 2']"
   ]
  },
  {
   "cell_type": "code",
   "execution_count": 5,
   "id": "42e59670",
   "metadata": {},
   "outputs": [],
   "source": [
    "def rem_outliers(val):\n",
    "    if val > 1 and val < 10:\n",
    "        return val / 10\n",
    "    elif val > 10 and val < 100:\n",
    "        return val / 100\n",
    "    elif val > 100 and val < 1000:\n",
    "        return val / 1000\n",
    "    elif val > 1000 and val < 10000:\n",
    "        return val / 10000\n",
    "    elif val > 10000:\n",
    "        return val / 100000\n",
    "    else:\n",
    "        return val"
   ]
  },
  {
   "cell_type": "code",
   "execution_count": 6,
   "id": "ef63ae76",
   "metadata": {},
   "outputs": [],
   "source": [
    "df['Revolving Utilization'] = df['Revolving Utilization'].apply(lambda x: rem_outliers(x))"
   ]
  },
  {
   "cell_type": "code",
   "execution_count": 7,
   "id": "156d2fc2",
   "metadata": {},
   "outputs": [],
   "source": [
    "df['Debt Ratio'] = df['Debt Ratio'].apply(lambda x: rem_outliers(x))"
   ]
  },
  {
   "cell_type": "code",
   "execution_count": 8,
   "id": "54186714",
   "metadata": {},
   "outputs": [],
   "source": [
    "df.drop(df[(df['Late 1'] > 20) | (df['Late 2'] > 20) | (df['Late 3'] > 20)].index, inplace = True)"
   ]
  },
  {
   "cell_type": "code",
   "execution_count": 9,
   "id": "e3b59192",
   "metadata": {},
   "outputs": [],
   "source": [
    "df['Light Delinquencies'] = df['Late 1'] + df['Late 2']\n",
    "df['Serious Delinquencies'] = df['Late 3']"
   ]
  },
  {
   "cell_type": "code",
   "execution_count": 10,
   "id": "06a5b758",
   "metadata": {
    "scrolled": false
   },
   "outputs": [],
   "source": [
    "df.drop(index = df[(df['Small Loans'] > 20) | (df['Real Estate Loans'] > 6)].index, inplace = True)"
   ]
  },
  {
   "cell_type": "code",
   "execution_count": 11,
   "id": "48d006d1",
   "metadata": {},
   "outputs": [],
   "source": [
    "lst = []\n",
    "for x in df.index:\n",
    "    if df['Small Loans'][x] + df['Real Estate Loans'][x] == 0:\n",
    "        lst.append(0)\n",
    "    else:\n",
    "        lst.append((df['Light Delinquencies'][x] + df['Serious Delinquencies'][x]) / (df['Small Loans'][x] + df['Real Estate Loans'][x])*100)"
   ]
  },
  {
   "cell_type": "code",
   "execution_count": 12,
   "id": "f9cf3730",
   "metadata": {},
   "outputs": [],
   "source": [
    "df['Percent Ever Delinquent'] = lst"
   ]
  },
  {
   "cell_type": "code",
   "execution_count": 13,
   "id": "0053030f",
   "metadata": {},
   "outputs": [],
   "source": [
    "df['Percent Ever Delinquent'] = df['Percent Ever Delinquent'].apply(lambda x: 100 if x > 100 else x)"
   ]
  },
  {
   "cell_type": "code",
   "execution_count": 14,
   "id": "aa11c0e4",
   "metadata": {},
   "outputs": [],
   "source": [
    "df.drop(['Late 1', 'Late 2', 'Late 3', 'Small Loans', 'Real Estate Loans'], axis = 1, inplace = True)"
   ]
  },
  {
   "cell_type": "code",
   "execution_count": 15,
   "id": "7e07290a",
   "metadata": {},
   "outputs": [],
   "source": [
    "# dataset is skewed; too many 0 vals relative to 1 vals\n",
    "\n",
    "sub1 = df[df['Risky Borrower'] == 0].sample(n = 9000)\n",
    "sub2 = df[df['Risky Borrower'] == 1].sample(n = 9000)\n",
    "sample = pd.concat([sub1, sub2])\n",
    "sample.reset_index(inplace = True)\n",
    "sample.drop('index', axis = 1, inplace = True)"
   ]
  },
  {
   "cell_type": "code",
   "execution_count": 16,
   "id": "3cac688a",
   "metadata": {},
   "outputs": [],
   "source": [
    "sample.to_csv('Cleaned Data')"
   ]
  },
  {
   "cell_type": "markdown",
   "id": "37e256dc",
   "metadata": {},
   "source": [
    "## Model"
   ]
  },
  {
   "cell_type": "code",
   "execution_count": 17,
   "id": "502b3e24",
   "metadata": {},
   "outputs": [],
   "source": [
    "scaler = MinMaxScaler()"
   ]
  },
  {
   "cell_type": "code",
   "execution_count": 18,
   "id": "c719d504",
   "metadata": {},
   "outputs": [],
   "source": [
    "scaled_features = scaler.fit_transform(sample.drop('Risky Borrower', axis = 1))"
   ]
  },
  {
   "cell_type": "code",
   "execution_count": 19,
   "id": "39839655",
   "metadata": {},
   "outputs": [],
   "source": [
    "X = scaled_features #sample.drop('Risky Borrower', axis = 1)\n",
    "y = sample['Risky Borrower']"
   ]
  },
  {
   "cell_type": "code",
   "execution_count": 20,
   "id": "81c5788d",
   "metadata": {},
   "outputs": [],
   "source": [
    "X_train, X_test, y_train, y_test = train_test_split(X, y, test_size = 0.25, random_state = 0)"
   ]
  },
  {
   "cell_type": "code",
   "execution_count": 21,
   "id": "8fc7f6c6",
   "metadata": {},
   "outputs": [],
   "source": [
    "model = LogisticRegression()"
   ]
  },
  {
   "cell_type": "code",
   "execution_count": 22,
   "id": "a9be2751",
   "metadata": {},
   "outputs": [
    {
     "data": {
      "text/plain": [
       "LogisticRegression()"
      ]
     },
     "execution_count": 22,
     "metadata": {},
     "output_type": "execute_result"
    }
   ],
   "source": [
    "model.fit(X_train, y_train)"
   ]
  },
  {
   "cell_type": "code",
   "execution_count": 23,
   "id": "c7257d06",
   "metadata": {},
   "outputs": [],
   "source": [
    "model.coef_ = np.array([[ 1.2161838, 132.85124146, 2.82177439, 4.45186543,  9.03341318]])"
   ]
  },
  {
   "cell_type": "code",
   "execution_count": 24,
   "id": "8430eb1d",
   "metadata": {},
   "outputs": [],
   "source": [
    "pred = model.predict(X_test)"
   ]
  },
  {
   "cell_type": "code",
   "execution_count": 25,
   "id": "33b8bfe7",
   "metadata": {},
   "outputs": [
    {
     "name": "stdout",
     "output_type": "stream",
     "text": [
      "[[1689  523]\n",
      " [ 571 1717]]\n"
     ]
    }
   ],
   "source": [
    "print(confusion_matrix(y_test, pred))"
   ]
  },
  {
   "cell_type": "code",
   "execution_count": 26,
   "id": "a92a6068",
   "metadata": {},
   "outputs": [
    {
     "name": "stdout",
     "output_type": "stream",
     "text": [
      "              precision    recall  f1-score   support\n",
      "\n",
      "           0       0.75      0.76      0.76      2212\n",
      "           1       0.77      0.75      0.76      2288\n",
      "\n",
      "    accuracy                           0.76      4500\n",
      "   macro avg       0.76      0.76      0.76      4500\n",
      "weighted avg       0.76      0.76      0.76      4500\n",
      "\n"
     ]
    }
   ],
   "source": [
    "print(classification_report(y_test, pred))"
   ]
  },
  {
   "cell_type": "code",
   "execution_count": null,
   "id": "c0b0d5d9",
   "metadata": {},
   "outputs": [],
   "source": []
  }
 ],
 "metadata": {
  "kernelspec": {
   "display_name": "Python 3 (ipykernel)",
   "language": "python",
   "name": "python3"
  },
  "language_info": {
   "codemirror_mode": {
    "name": "ipython",
    "version": 3
   },
   "file_extension": ".py",
   "mimetype": "text/x-python",
   "name": "python",
   "nbconvert_exporter": "python",
   "pygments_lexer": "ipython3",
   "version": "3.9.7"
  }
 },
 "nbformat": 4,
 "nbformat_minor": 5
}
