{
 "cells": [
  {
   "cell_type": "code",
   "execution_count": 1,
   "id": "16aebe3f",
   "metadata": {},
   "outputs": [],
   "source": [
    "import numpy as np\n",
    "import pandas as pd\n",
    "import matplotlib.pyplot as plt\n",
    "import seaborn as sns\n",
    "%matplotlib inline\n",
    "\n",
    "from sklearn.preprocessing import MinMaxScaler\n",
    "\n",
    "from sklearn.model_selection import train_test_split\n",
    "from sklearn.linear_model import LogisticRegression\n",
    "from sklearn.ensemble import RandomForestClassifier\n",
    "from sklearn.metrics import confusion_matrix, classification_report"
   ]
  },
  {
   "cell_type": "code",
   "execution_count": 2,
   "id": "e5a49d58",
   "metadata": {},
   "outputs": [],
   "source": [
    "df = pd.read_csv('Dataset 1.csv')"
   ]
  },
  {
   "cell_type": "markdown",
   "id": "b39aeafb",
   "metadata": {},
   "source": [
    "## EDA And Feature Engineering"
   ]
  },
  {
   "cell_type": "code",
   "execution_count": 3,
   "id": "efeb8a61",
   "metadata": {},
   "outputs": [
    {
     "data": {
      "text/html": [
       "<div>\n",
       "<style scoped>\n",
       "    .dataframe tbody tr th:only-of-type {\n",
       "        vertical-align: middle;\n",
       "    }\n",
       "\n",
       "    .dataframe tbody tr th {\n",
       "        vertical-align: top;\n",
       "    }\n",
       "\n",
       "    .dataframe thead th {\n",
       "        text-align: right;\n",
       "    }\n",
       "</style>\n",
       "<table border=\"1\" class=\"dataframe\">\n",
       "  <thead>\n",
       "    <tr style=\"text-align: right;\">\n",
       "      <th></th>\n",
       "      <th>Unnamed: 0</th>\n",
       "      <th>SeriousDlqin2yrs</th>\n",
       "      <th>RevolvingUtilizationOfUnsecuredLines</th>\n",
       "      <th>age</th>\n",
       "      <th>NumberOfTime30-59DaysPastDueNotWorse</th>\n",
       "      <th>DebtRatio</th>\n",
       "      <th>MonthlyIncome</th>\n",
       "      <th>NumberOfOpenCreditLinesAndLoans</th>\n",
       "      <th>NumberOfTimes90DaysLate</th>\n",
       "      <th>NumberRealEstateLoansOrLines</th>\n",
       "      <th>NumberOfTime60-89DaysPastDueNotWorse</th>\n",
       "      <th>NumberOfDependents</th>\n",
       "    </tr>\n",
       "  </thead>\n",
       "  <tbody>\n",
       "    <tr>\n",
       "      <th>0</th>\n",
       "      <td>1</td>\n",
       "      <td>1</td>\n",
       "      <td>0.766127</td>\n",
       "      <td>45</td>\n",
       "      <td>2</td>\n",
       "      <td>0.802982</td>\n",
       "      <td>9120.0</td>\n",
       "      <td>13</td>\n",
       "      <td>0</td>\n",
       "      <td>6</td>\n",
       "      <td>0</td>\n",
       "      <td>2.0</td>\n",
       "    </tr>\n",
       "    <tr>\n",
       "      <th>1</th>\n",
       "      <td>2</td>\n",
       "      <td>0</td>\n",
       "      <td>0.957151</td>\n",
       "      <td>40</td>\n",
       "      <td>0</td>\n",
       "      <td>0.121876</td>\n",
       "      <td>2600.0</td>\n",
       "      <td>4</td>\n",
       "      <td>0</td>\n",
       "      <td>0</td>\n",
       "      <td>0</td>\n",
       "      <td>1.0</td>\n",
       "    </tr>\n",
       "    <tr>\n",
       "      <th>2</th>\n",
       "      <td>3</td>\n",
       "      <td>0</td>\n",
       "      <td>0.658180</td>\n",
       "      <td>38</td>\n",
       "      <td>1</td>\n",
       "      <td>0.085113</td>\n",
       "      <td>3042.0</td>\n",
       "      <td>2</td>\n",
       "      <td>1</td>\n",
       "      <td>0</td>\n",
       "      <td>0</td>\n",
       "      <td>0.0</td>\n",
       "    </tr>\n",
       "    <tr>\n",
       "      <th>3</th>\n",
       "      <td>4</td>\n",
       "      <td>0</td>\n",
       "      <td>0.233810</td>\n",
       "      <td>30</td>\n",
       "      <td>0</td>\n",
       "      <td>0.036050</td>\n",
       "      <td>3300.0</td>\n",
       "      <td>5</td>\n",
       "      <td>0</td>\n",
       "      <td>0</td>\n",
       "      <td>0</td>\n",
       "      <td>0.0</td>\n",
       "    </tr>\n",
       "    <tr>\n",
       "      <th>4</th>\n",
       "      <td>5</td>\n",
       "      <td>0</td>\n",
       "      <td>0.907239</td>\n",
       "      <td>49</td>\n",
       "      <td>1</td>\n",
       "      <td>0.024926</td>\n",
       "      <td>63588.0</td>\n",
       "      <td>7</td>\n",
       "      <td>0</td>\n",
       "      <td>1</td>\n",
       "      <td>0</td>\n",
       "      <td>0.0</td>\n",
       "    </tr>\n",
       "  </tbody>\n",
       "</table>\n",
       "</div>"
      ],
      "text/plain": [
       "   Unnamed: 0  SeriousDlqin2yrs  RevolvingUtilizationOfUnsecuredLines  age  \\\n",
       "0           1                 1                              0.766127   45   \n",
       "1           2                 0                              0.957151   40   \n",
       "2           3                 0                              0.658180   38   \n",
       "3           4                 0                              0.233810   30   \n",
       "4           5                 0                              0.907239   49   \n",
       "\n",
       "   NumberOfTime30-59DaysPastDueNotWorse  DebtRatio  MonthlyIncome  \\\n",
       "0                                     2   0.802982         9120.0   \n",
       "1                                     0   0.121876         2600.0   \n",
       "2                                     1   0.085113         3042.0   \n",
       "3                                     0   0.036050         3300.0   \n",
       "4                                     1   0.024926        63588.0   \n",
       "\n",
       "   NumberOfOpenCreditLinesAndLoans  NumberOfTimes90DaysLate  \\\n",
       "0                               13                        0   \n",
       "1                                4                        0   \n",
       "2                                2                        1   \n",
       "3                                5                        0   \n",
       "4                                7                        0   \n",
       "\n",
       "   NumberRealEstateLoansOrLines  NumberOfTime60-89DaysPastDueNotWorse  \\\n",
       "0                             6                                     0   \n",
       "1                             0                                     0   \n",
       "2                             0                                     0   \n",
       "3                             0                                     0   \n",
       "4                             1                                     0   \n",
       "\n",
       "   NumberOfDependents  \n",
       "0                 2.0  \n",
       "1                 1.0  \n",
       "2                 0.0  \n",
       "3                 0.0  \n",
       "4                 0.0  "
      ]
     },
     "execution_count": 3,
     "metadata": {},
     "output_type": "execute_result"
    }
   ],
   "source": [
    "df.head()"
   ]
  },
  {
   "cell_type": "code",
   "execution_count": 4,
   "id": "475e37ee",
   "metadata": {},
   "outputs": [
    {
     "name": "stdout",
     "output_type": "stream",
     "text": [
      "<class 'pandas.core.frame.DataFrame'>\n",
      "RangeIndex: 150000 entries, 0 to 149999\n",
      "Data columns (total 12 columns):\n",
      " #   Column                                Non-Null Count   Dtype  \n",
      "---  ------                                --------------   -----  \n",
      " 0   Unnamed: 0                            150000 non-null  int64  \n",
      " 1   SeriousDlqin2yrs                      150000 non-null  int64  \n",
      " 2   RevolvingUtilizationOfUnsecuredLines  150000 non-null  float64\n",
      " 3   age                                   150000 non-null  int64  \n",
      " 4   NumberOfTime30-59DaysPastDueNotWorse  150000 non-null  int64  \n",
      " 5   DebtRatio                             150000 non-null  float64\n",
      " 6   MonthlyIncome                         120269 non-null  float64\n",
      " 7   NumberOfOpenCreditLinesAndLoans       150000 non-null  int64  \n",
      " 8   NumberOfTimes90DaysLate               150000 non-null  int64  \n",
      " 9   NumberRealEstateLoansOrLines          150000 non-null  int64  \n",
      " 10  NumberOfTime60-89DaysPastDueNotWorse  150000 non-null  int64  \n",
      " 11  NumberOfDependents                    146076 non-null  float64\n",
      "dtypes: float64(4), int64(8)\n",
      "memory usage: 13.7 MB\n"
     ]
    }
   ],
   "source": [
    "df.info()"
   ]
  },
  {
   "cell_type": "code",
   "execution_count": 5,
   "id": "ea955029",
   "metadata": {},
   "outputs": [],
   "source": [
    "# drops irrelevant col\n",
    "df.drop('Unnamed: 0', axis = 1, inplace = True)"
   ]
  },
  {
   "cell_type": "code",
   "execution_count": 6,
   "id": "530186d4",
   "metadata": {},
   "outputs": [],
   "source": [
    "# renames columns to increase readability\n",
    "df.columns = ['Risky Borrower', # target\n",
    "              'Revolving Utilization',\n",
    "              'Age',\n",
    "              '30-59 Days Late',\n",
    "              'Debt Ratio',\n",
    "              'Monthly Income',\n",
    "              'Open Credit Lines And Loans',\n",
    "              '90 Days Late',\n",
    "              'Real Estate Loans',\n",
    "              '60-89 Days Late',\n",
    "              'Dependents']"
   ]
  },
  {
   "cell_type": "code",
   "execution_count": 7,
   "id": "e13e4390",
   "metadata": {},
   "outputs": [
    {
     "data": {
      "text/plain": [
       "[Text(0, 0, '139974'), Text(0, 0, '10026')]"
      ]
     },
     "execution_count": 7,
     "metadata": {},
     "output_type": "execute_result"
    },
    {
     "data": {
      "image/png": "[encoded data removed]",
      "text/plain": [
       "<Figure size 432x288 with 1 Axes>"
      ]
     },
     "metadata": {
      "needs_background": "light"
     },
     "output_type": "display_data"
    }
   ],
   "source": [
    "ax = sns.countplot(x = 'Risky Borrower', data = df)\n",
    "ax.bar_label(ax.containers[0])"
   ]
  },
  {
   "cell_type": "code",
   "execution_count": 8,
   "id": "947b9a88",
   "metadata": {},
   "outputs": [
    {
     "data": {
      "text/plain": [
       "count    150000.000000\n",
       "mean          6.048438\n",
       "std         249.755371\n",
       "min           0.000000\n",
       "25%           0.029867\n",
       "50%           0.154181\n",
       "75%           0.559046\n",
       "max       50708.000000\n",
       "Name: Revolving Utilization, dtype: float64"
      ]
     },
     "execution_count": 8,
     "metadata": {},
     "output_type": "execute_result"
    }
   ],
   "source": [
    "# funny mean (likely skewed due to super high max)\n",
    "df['Revolving Utilization'].describe()"
   ]
  },
  {
   "cell_type": "code",
   "execution_count": 9,
   "id": "f5dbaeba",
   "metadata": {},
   "outputs": [
    {
     "data": {
      "text/html": [
       "<div>\n",
       "<style scoped>\n",
       "    .dataframe tbody tr th:only-of-type {\n",
       "        vertical-align: middle;\n",
       "    }\n",
       "\n",
       "    .dataframe tbody tr th {\n",
       "        vertical-align: top;\n",
       "    }\n",
       "\n",
       "    .dataframe thead th {\n",
       "        text-align: right;\n",
       "    }\n",
       "</style>\n",
       "<table border=\"1\" class=\"dataframe\">\n",
       "  <thead>\n",
       "    <tr style=\"text-align: right;\">\n",
       "      <th></th>\n",
       "      <th>Risky Borrower</th>\n",
       "      <th>Revolving Utilization</th>\n",
       "      <th>Age</th>\n",
       "      <th>30-59 Days Late</th>\n",
       "      <th>Debt Ratio</th>\n",
       "      <th>Monthly Income</th>\n",
       "      <th>Open Credit Lines And Loans</th>\n",
       "      <th>90 Days Late</th>\n",
       "      <th>Real Estate Loans</th>\n",
       "      <th>60-89 Days Late</th>\n",
       "      <th>Dependents</th>\n",
       "    </tr>\n",
       "  </thead>\n",
       "  <tbody>\n",
       "    <tr>\n",
       "      <th>162</th>\n",
       "      <td>1</td>\n",
       "      <td>1.046279</td>\n",
       "      <td>47</td>\n",
       "      <td>1</td>\n",
       "      <td>1.104301</td>\n",
       "      <td>5416.0</td>\n",
       "      <td>6</td>\n",
       "      <td>0</td>\n",
       "      <td>2</td>\n",
       "      <td>0</td>\n",
       "      <td>1.0</td>\n",
       "    </tr>\n",
       "    <tr>\n",
       "      <th>191</th>\n",
       "      <td>0</td>\n",
       "      <td>1.095083</td>\n",
       "      <td>53</td>\n",
       "      <td>5</td>\n",
       "      <td>0.536704</td>\n",
       "      <td>3500.0</td>\n",
       "      <td>7</td>\n",
       "      <td>1</td>\n",
       "      <td>1</td>\n",
       "      <td>2</td>\n",
       "      <td>0.0</td>\n",
       "    </tr>\n",
       "    <tr>\n",
       "      <th>226</th>\n",
       "      <td>1</td>\n",
       "      <td>1.953488</td>\n",
       "      <td>38</td>\n",
       "      <td>0</td>\n",
       "      <td>0.153500</td>\n",
       "      <td>3556.0</td>\n",
       "      <td>5</td>\n",
       "      <td>0</td>\n",
       "      <td>0</td>\n",
       "      <td>0</td>\n",
       "      <td>2.0</td>\n",
       "    </tr>\n",
       "    <tr>\n",
       "      <th>251</th>\n",
       "      <td>1</td>\n",
       "      <td>1.048211</td>\n",
       "      <td>58</td>\n",
       "      <td>7</td>\n",
       "      <td>0.151957</td>\n",
       "      <td>3500.0</td>\n",
       "      <td>12</td>\n",
       "      <td>0</td>\n",
       "      <td>0</td>\n",
       "      <td>0</td>\n",
       "      <td>0.0</td>\n",
       "    </tr>\n",
       "    <tr>\n",
       "      <th>293</th>\n",
       "      <td>0</td>\n",
       "      <td>2340.000000</td>\n",
       "      <td>45</td>\n",
       "      <td>0</td>\n",
       "      <td>0.339333</td>\n",
       "      <td>8333.0</td>\n",
       "      <td>7</td>\n",
       "      <td>0</td>\n",
       "      <td>2</td>\n",
       "      <td>0</td>\n",
       "      <td>2.0</td>\n",
       "    </tr>\n",
       "    <tr>\n",
       "      <th>...</th>\n",
       "      <td>...</td>\n",
       "      <td>...</td>\n",
       "      <td>...</td>\n",
       "      <td>...</td>\n",
       "      <td>...</td>\n",
       "      <td>...</td>\n",
       "      <td>...</td>\n",
       "      <td>...</td>\n",
       "      <td>...</td>\n",
       "      <td>...</td>\n",
       "      <td>...</td>\n",
       "    </tr>\n",
       "    <tr>\n",
       "      <th>149939</th>\n",
       "      <td>0</td>\n",
       "      <td>1.049900</td>\n",
       "      <td>26</td>\n",
       "      <td>0</td>\n",
       "      <td>0.073220</td>\n",
       "      <td>6500.0</td>\n",
       "      <td>6</td>\n",
       "      <td>0</td>\n",
       "      <td>0</td>\n",
       "      <td>1</td>\n",
       "      <td>0.0</td>\n",
       "    </tr>\n",
       "    <tr>\n",
       "      <th>149955</th>\n",
       "      <td>1</td>\n",
       "      <td>1.135552</td>\n",
       "      <td>41</td>\n",
       "      <td>2</td>\n",
       "      <td>0.845887</td>\n",
       "      <td>7500.0</td>\n",
       "      <td>12</td>\n",
       "      <td>0</td>\n",
       "      <td>4</td>\n",
       "      <td>1</td>\n",
       "      <td>0.0</td>\n",
       "    </tr>\n",
       "    <tr>\n",
       "      <th>149962</th>\n",
       "      <td>0</td>\n",
       "      <td>1.005733</td>\n",
       "      <td>48</td>\n",
       "      <td>0</td>\n",
       "      <td>0.248896</td>\n",
       "      <td>2944.0</td>\n",
       "      <td>4</td>\n",
       "      <td>3</td>\n",
       "      <td>0</td>\n",
       "      <td>0</td>\n",
       "      <td>1.0</td>\n",
       "    </tr>\n",
       "    <tr>\n",
       "      <th>149964</th>\n",
       "      <td>0</td>\n",
       "      <td>1.010934</td>\n",
       "      <td>63</td>\n",
       "      <td>0</td>\n",
       "      <td>0.608211</td>\n",
       "      <td>6015.0</td>\n",
       "      <td>8</td>\n",
       "      <td>0</td>\n",
       "      <td>1</td>\n",
       "      <td>0</td>\n",
       "      <td>0.0</td>\n",
       "    </tr>\n",
       "    <tr>\n",
       "      <th>149973</th>\n",
       "      <td>0</td>\n",
       "      <td>1.026395</td>\n",
       "      <td>44</td>\n",
       "      <td>0</td>\n",
       "      <td>0.494819</td>\n",
       "      <td>5500.0</td>\n",
       "      <td>7</td>\n",
       "      <td>0</td>\n",
       "      <td>1</td>\n",
       "      <td>0</td>\n",
       "      <td>1.0</td>\n",
       "    </tr>\n",
       "  </tbody>\n",
       "</table>\n",
       "<p>3321 rows × 11 columns</p>\n",
       "</div>"
      ],
      "text/plain": [
       "        Risky Borrower  Revolving Utilization  Age  30-59 Days Late  \\\n",
       "162                  1               1.046279   47                1   \n",
       "191                  0               1.095083   53                5   \n",
       "226                  1               1.953488   38                0   \n",
       "251                  1               1.048211   58                7   \n",
       "293                  0            2340.000000   45                0   \n",
       "...                ...                    ...  ...              ...   \n",
       "149939               0               1.049900   26                0   \n",
       "149955               1               1.135552   41                2   \n",
       "149962               0               1.005733   48                0   \n",
       "149964               0               1.010934   63                0   \n",
       "149973               0               1.026395   44                0   \n",
       "\n",
       "        Debt Ratio  Monthly Income  Open Credit Lines And Loans  90 Days Late  \\\n",
       "162       1.104301          5416.0                            6             0   \n",
       "191       0.536704          3500.0                            7             1   \n",
       "226       0.153500          3556.0                            5             0   \n",
       "251       0.151957          3500.0                           12             0   \n",
       "293       0.339333          8333.0                            7             0   \n",
       "...            ...             ...                          ...           ...   \n",
       "149939    0.073220          6500.0                            6             0   \n",
       "149955    0.845887          7500.0                           12             0   \n",
       "149962    0.248896          2944.0                            4             3   \n",
       "149964    0.608211          6015.0                            8             0   \n",
       "149973    0.494819          5500.0                            7             0   \n",
       "\n",
       "        Real Estate Loans  60-89 Days Late  Dependents  \n",
       "162                     2                0         1.0  \n",
       "191                     1                2         0.0  \n",
       "226                     0                0         2.0  \n",
       "251                     0                0         0.0  \n",
       "293                     2                0         2.0  \n",
       "...                   ...              ...         ...  \n",
       "149939                  0                1         0.0  \n",
       "149955                  4                1         0.0  \n",
       "149962                  0                0         1.0  \n",
       "149964                  1                0         0.0  \n",
       "149973                  1                0         1.0  \n",
       "\n",
       "[3321 rows x 11 columns]"
      ]
     },
     "execution_count": 9,
     "metadata": {},
     "output_type": "execute_result"
    }
   ],
   "source": [
    "# 3000 values where revol_util greater than 1 which doesn't make sense\n",
    "df[df['Revolving Utilization'] > 1]"
   ]
  },
  {
   "cell_type": "code",
   "execution_count": 10,
   "id": "b2b7b0b1",
   "metadata": {
    "scrolled": false
   },
   "outputs": [
    {
     "data": {
      "text/html": [
       "<div>\n",
       "<style scoped>\n",
       "    .dataframe tbody tr th:only-of-type {\n",
       "        vertical-align: middle;\n",
       "    }\n",
       "\n",
       "    .dataframe tbody tr th {\n",
       "        vertical-align: top;\n",
       "    }\n",
       "\n",
       "    .dataframe thead th {\n",
       "        text-align: right;\n",
       "    }\n",
       "</style>\n",
       "<table border=\"1\" class=\"dataframe\">\n",
       "  <thead>\n",
       "    <tr style=\"text-align: right;\">\n",
       "      <th></th>\n",
       "      <th>Risky Borrower</th>\n",
       "      <th>Revolving Utilization</th>\n",
       "      <th>Age</th>\n",
       "      <th>30-59 Days Late</th>\n",
       "      <th>Debt Ratio</th>\n",
       "      <th>Monthly Income</th>\n",
       "      <th>Open Credit Lines And Loans</th>\n",
       "      <th>90 Days Late</th>\n",
       "      <th>Real Estate Loans</th>\n",
       "      <th>60-89 Days Late</th>\n",
       "      <th>Dependents</th>\n",
       "    </tr>\n",
       "  </thead>\n",
       "  <tbody>\n",
       "    <tr>\n",
       "      <th>191</th>\n",
       "      <td>0</td>\n",
       "      <td>1.095083</td>\n",
       "      <td>53</td>\n",
       "      <td>5</td>\n",
       "      <td>0.536704</td>\n",
       "      <td>3500.0</td>\n",
       "      <td>7</td>\n",
       "      <td>1</td>\n",
       "      <td>1</td>\n",
       "      <td>2</td>\n",
       "      <td>0.0</td>\n",
       "    </tr>\n",
       "    <tr>\n",
       "      <th>293</th>\n",
       "      <td>0</td>\n",
       "      <td>2340.000000</td>\n",
       "      <td>45</td>\n",
       "      <td>0</td>\n",
       "      <td>0.339333</td>\n",
       "      <td>8333.0</td>\n",
       "      <td>7</td>\n",
       "      <td>0</td>\n",
       "      <td>2</td>\n",
       "      <td>0</td>\n",
       "      <td>2.0</td>\n",
       "    </tr>\n",
       "    <tr>\n",
       "      <th>319</th>\n",
       "      <td>0</td>\n",
       "      <td>1.002647</td>\n",
       "      <td>38</td>\n",
       "      <td>2</td>\n",
       "      <td>0.472543</td>\n",
       "      <td>3550.0</td>\n",
       "      <td>8</td>\n",
       "      <td>1</td>\n",
       "      <td>0</td>\n",
       "      <td>1</td>\n",
       "      <td>4.0</td>\n",
       "    </tr>\n",
       "    <tr>\n",
       "      <th>369</th>\n",
       "      <td>0</td>\n",
       "      <td>1.047496</td>\n",
       "      <td>35</td>\n",
       "      <td>2</td>\n",
       "      <td>0.314566</td>\n",
       "      <td>3871.0</td>\n",
       "      <td>8</td>\n",
       "      <td>0</td>\n",
       "      <td>2</td>\n",
       "      <td>1</td>\n",
       "      <td>3.0</td>\n",
       "    </tr>\n",
       "    <tr>\n",
       "      <th>541</th>\n",
       "      <td>0</td>\n",
       "      <td>1.245847</td>\n",
       "      <td>24</td>\n",
       "      <td>1</td>\n",
       "      <td>499.000000</td>\n",
       "      <td>NaN</td>\n",
       "      <td>4</td>\n",
       "      <td>1</td>\n",
       "      <td>0</td>\n",
       "      <td>0</td>\n",
       "      <td>NaN</td>\n",
       "    </tr>\n",
       "    <tr>\n",
       "      <th>...</th>\n",
       "      <td>...</td>\n",
       "      <td>...</td>\n",
       "      <td>...</td>\n",
       "      <td>...</td>\n",
       "      <td>...</td>\n",
       "      <td>...</td>\n",
       "      <td>...</td>\n",
       "      <td>...</td>\n",
       "      <td>...</td>\n",
       "      <td>...</td>\n",
       "      <td>...</td>\n",
       "    </tr>\n",
       "    <tr>\n",
       "      <th>149927</th>\n",
       "      <td>0</td>\n",
       "      <td>3.603566</td>\n",
       "      <td>71</td>\n",
       "      <td>0</td>\n",
       "      <td>0.054401</td>\n",
       "      <td>12370.0</td>\n",
       "      <td>5</td>\n",
       "      <td>0</td>\n",
       "      <td>0</td>\n",
       "      <td>0</td>\n",
       "      <td>1.0</td>\n",
       "    </tr>\n",
       "    <tr>\n",
       "      <th>149939</th>\n",
       "      <td>0</td>\n",
       "      <td>1.049900</td>\n",
       "      <td>26</td>\n",
       "      <td>0</td>\n",
       "      <td>0.073220</td>\n",
       "      <td>6500.0</td>\n",
       "      <td>6</td>\n",
       "      <td>0</td>\n",
       "      <td>0</td>\n",
       "      <td>1</td>\n",
       "      <td>0.0</td>\n",
       "    </tr>\n",
       "    <tr>\n",
       "      <th>149962</th>\n",
       "      <td>0</td>\n",
       "      <td>1.005733</td>\n",
       "      <td>48</td>\n",
       "      <td>0</td>\n",
       "      <td>0.248896</td>\n",
       "      <td>2944.0</td>\n",
       "      <td>4</td>\n",
       "      <td>3</td>\n",
       "      <td>0</td>\n",
       "      <td>0</td>\n",
       "      <td>1.0</td>\n",
       "    </tr>\n",
       "    <tr>\n",
       "      <th>149964</th>\n",
       "      <td>0</td>\n",
       "      <td>1.010934</td>\n",
       "      <td>63</td>\n",
       "      <td>0</td>\n",
       "      <td>0.608211</td>\n",
       "      <td>6015.0</td>\n",
       "      <td>8</td>\n",
       "      <td>0</td>\n",
       "      <td>1</td>\n",
       "      <td>0</td>\n",
       "      <td>0.0</td>\n",
       "    </tr>\n",
       "    <tr>\n",
       "      <th>149973</th>\n",
       "      <td>0</td>\n",
       "      <td>1.026395</td>\n",
       "      <td>44</td>\n",
       "      <td>0</td>\n",
       "      <td>0.494819</td>\n",
       "      <td>5500.0</td>\n",
       "      <td>7</td>\n",
       "      <td>0</td>\n",
       "      <td>1</td>\n",
       "      <td>0</td>\n",
       "      <td>1.0</td>\n",
       "    </tr>\n",
       "  </tbody>\n",
       "</table>\n",
       "<p>2084 rows × 11 columns</p>\n",
       "</div>"
      ],
      "text/plain": [
       "        Risky Borrower  Revolving Utilization  Age  30-59 Days Late  \\\n",
       "191                  0               1.095083   53                5   \n",
       "293                  0            2340.000000   45                0   \n",
       "319                  0               1.002647   38                2   \n",
       "369                  0               1.047496   35                2   \n",
       "541                  0               1.245847   24                1   \n",
       "...                ...                    ...  ...              ...   \n",
       "149927               0               3.603566   71                0   \n",
       "149939               0               1.049900   26                0   \n",
       "149962               0               1.005733   48                0   \n",
       "149964               0               1.010934   63                0   \n",
       "149973               0               1.026395   44                0   \n",
       "\n",
       "        Debt Ratio  Monthly Income  Open Credit Lines And Loans  90 Days Late  \\\n",
       "191       0.536704          3500.0                            7             1   \n",
       "293       0.339333          8333.0                            7             0   \n",
       "319       0.472543          3550.0                            8             1   \n",
       "369       0.314566          3871.0                            8             0   \n",
       "541     499.000000             NaN                            4             1   \n",
       "...            ...             ...                          ...           ...   \n",
       "149927    0.054401         12370.0                            5             0   \n",
       "149939    0.073220          6500.0                            6             0   \n",
       "149962    0.248896          2944.0                            4             3   \n",
       "149964    0.608211          6015.0                            8             0   \n",
       "149973    0.494819          5500.0                            7             0   \n",
       "\n",
       "        Real Estate Loans  60-89 Days Late  Dependents  \n",
       "191                     1                2         0.0  \n",
       "293                     2                0         2.0  \n",
       "319                     0                1         4.0  \n",
       "369                     2                1         3.0  \n",
       "541                     0                0         NaN  \n",
       "...                   ...              ...         ...  \n",
       "149927                  0                0         1.0  \n",
       "149939                  0                1         0.0  \n",
       "149962                  0                0         1.0  \n",
       "149964                  1                0         0.0  \n",
       "149973                  1                0         1.0  \n",
       "\n",
       "[2084 rows x 11 columns]"
      ]
     },
     "execution_count": 10,
     "metadata": {},
     "output_type": "execute_result"
    }
   ],
   "source": [
    "# a lot of borrowers with weird revol_util have been classified as non-risky borrowers; suggests that weird values are typos\n",
    "df[(df['Revolving Utilization'] > 1) & (df['Risky Borrower'] == 0)]"
   ]
  },
  {
   "cell_type": "code",
   "execution_count": 11,
   "id": "d6215484",
   "metadata": {},
   "outputs": [],
   "source": [
    "# thesis: revol util vals greater than 1 and less than 100 are likely listed as percentages\n",
    "# e.g. 25% instead of 0.25\n",
    "# hence we will divide them by 100 to get their decimal score once again\n",
    "df['Revolving Utilization'] = df['Revolving Utilization'].apply(lambda x: x/100 if x >= 1 and x < 100 else x)"
   ]
  },
  {
   "cell_type": "code",
   "execution_count": 12,
   "id": "45041353",
   "metadata": {},
   "outputs": [],
   "source": [
    "# drop rows where revol_util greater than 100\n",
    "df.drop(index = df[df['Revolving Utilization'] > 100].index, inplace = True)"
   ]
  },
  {
   "cell_type": "code",
   "execution_count": 13,
   "id": "e6317423",
   "metadata": {},
   "outputs": [
    {
     "data": {
      "text/plain": [
       "count    149777.000000\n",
       "mean          0.297692\n",
       "std           0.336880\n",
       "min           0.000000\n",
       "25%           0.025178\n",
       "50%           0.135982\n",
       "75%           0.507695\n",
       "max           1.000000\n",
       "Name: Revolving Utilization, dtype: float64"
      ]
     },
     "execution_count": 13,
     "metadata": {},
     "output_type": "execute_result"
    }
   ],
   "source": [
    "# these values make more sense\n",
    "df['Revolving Utilization'].describe()"
   ]
  },
  {
   "cell_type": "code",
   "execution_count": 14,
   "id": "0a4ffe4d",
   "metadata": {},
   "outputs": [
    {
     "data": {
      "text/plain": [
       "<seaborn.axisgrid.FacetGrid at 0x1e9c994caf0>"
      ]
     },
     "execution_count": 14,
     "metadata": {},
     "output_type": "execute_result"
    },
    {
     "data": {
      "image/png": "[encoded data removed]",
      "text/plain": [
       "<Figure size 360x360 with 1 Axes>"
      ]
     },
     "metadata": {
      "needs_background": "light"
     },
     "output_type": "display_data"
    }
   ],
   "source": [
    "# sudden uptick near 1 because people may have maxed out their credit limits; overall, distribution makes sense\n",
    "sns.displot(df['Revolving Utilization'])"
   ]
  },
  {
   "cell_type": "code",
   "execution_count": 15,
   "id": "c47f4366",
   "metadata": {},
   "outputs": [
    {
     "data": {
      "text/plain": [
       "count    149777.000000\n",
       "mean         52.297749\n",
       "std          14.771745\n",
       "min           0.000000\n",
       "25%          41.000000\n",
       "50%          52.000000\n",
       "75%          63.000000\n",
       "max         109.000000\n",
       "Name: Age, dtype: float64"
      ]
     },
     "execution_count": 15,
     "metadata": {},
     "output_type": "execute_result"
    }
   ],
   "source": [
    "df['Age'].describe()"
   ]
  },
  {
   "cell_type": "code",
   "execution_count": 16,
   "id": "3920bc22",
   "metadata": {},
   "outputs": [
    {
     "data": {
      "text/plain": [
       "<seaborn.axisgrid.FacetGrid at 0x1e9c90f89d0>"
      ]
     },
     "execution_count": 16,
     "metadata": {},
     "output_type": "execute_result"
    },
    {
     "data": {
      "image/png": "[encoded data removed]",
      "text/plain": [
       "<Figure size 360x360 with 1 Axes>"
      ]
     },
     "metadata": {
      "needs_background": "light"
     },
     "output_type": "display_data"
    }
   ],
   "source": [
    "sns.displot(df['Age'], bins = 50, kde = True)"
   ]
  },
  {
   "cell_type": "code",
   "execution_count": 17,
   "id": "53b0b61c",
   "metadata": {
    "scrolled": true
   },
   "outputs": [
    {
     "data": {
      "text/html": [
       "<div>\n",
       "<style scoped>\n",
       "    .dataframe tbody tr th:only-of-type {\n",
       "        vertical-align: middle;\n",
       "    }\n",
       "\n",
       "    .dataframe tbody tr th {\n",
       "        vertical-align: top;\n",
       "    }\n",
       "\n",
       "    .dataframe thead th {\n",
       "        text-align: right;\n",
       "    }\n",
       "</style>\n",
       "<table border=\"1\" class=\"dataframe\">\n",
       "  <thead>\n",
       "    <tr style=\"text-align: right;\">\n",
       "      <th></th>\n",
       "      <th>Risky Borrower</th>\n",
       "      <th>Revolving Utilization</th>\n",
       "      <th>Age</th>\n",
       "      <th>30-59 Days Late</th>\n",
       "      <th>Debt Ratio</th>\n",
       "      <th>Monthly Income</th>\n",
       "      <th>Open Credit Lines And Loans</th>\n",
       "      <th>90 Days Late</th>\n",
       "      <th>Real Estate Loans</th>\n",
       "      <th>60-89 Days Late</th>\n",
       "      <th>Dependents</th>\n",
       "    </tr>\n",
       "  </thead>\n",
       "  <tbody>\n",
       "    <tr>\n",
       "      <th>65695</th>\n",
       "      <td>0</td>\n",
       "      <td>1.0</td>\n",
       "      <td>0</td>\n",
       "      <td>1</td>\n",
       "      <td>0.436927</td>\n",
       "      <td>6000.0</td>\n",
       "      <td>6</td>\n",
       "      <td>0</td>\n",
       "      <td>2</td>\n",
       "      <td>0</td>\n",
       "      <td>2.0</td>\n",
       "    </tr>\n",
       "  </tbody>\n",
       "</table>\n",
       "</div>"
      ],
      "text/plain": [
       "       Risky Borrower  Revolving Utilization  Age  30-59 Days Late  \\\n",
       "65695               0                    1.0    0                1   \n",
       "\n",
       "       Debt Ratio  Monthly Income  Open Credit Lines And Loans  90 Days Late  \\\n",
       "65695    0.436927          6000.0                            6             0   \n",
       "\n",
       "       Real Estate Loans  60-89 Days Late  Dependents  \n",
       "65695                  2                0         2.0  "
      ]
     },
     "execution_count": 17,
     "metadata": {},
     "output_type": "execute_result"
    }
   ],
   "source": [
    "# there is one borrower under the age of 18; seems like a bad piece of data so we can drop it\n",
    "df[df['Age'] < 18]"
   ]
  },
  {
   "cell_type": "code",
   "execution_count": 18,
   "id": "34ec8bd5",
   "metadata": {},
   "outputs": [],
   "source": [
    "df.drop(index = 65695, inplace = True)"
   ]
  },
  {
   "cell_type": "code",
   "execution_count": 19,
   "id": "e65c9a0c",
   "metadata": {},
   "outputs": [
    {
     "data": {
      "text/plain": [
       "4929"
      ]
     },
     "execution_count": 19,
     "metadata": {},
     "output_type": "execute_result"
    }
   ],
   "source": [
    "sum(df['Age'] > 80)"
   ]
  },
  {
   "cell_type": "code",
   "execution_count": 20,
   "id": "8a34abea",
   "metadata": {
    "scrolled": false
   },
   "outputs": [
    {
     "data": {
      "text/html": [
       "<div>\n",
       "<style scoped>\n",
       "    .dataframe tbody tr th:only-of-type {\n",
       "        vertical-align: middle;\n",
       "    }\n",
       "\n",
       "    .dataframe tbody tr th {\n",
       "        vertical-align: top;\n",
       "    }\n",
       "\n",
       "    .dataframe thead th {\n",
       "        text-align: right;\n",
       "    }\n",
       "</style>\n",
       "<table border=\"1\" class=\"dataframe\">\n",
       "  <thead>\n",
       "    <tr style=\"text-align: right;\">\n",
       "      <th></th>\n",
       "      <th>Risky Borrower</th>\n",
       "      <th>Revolving Utilization</th>\n",
       "      <th>Age</th>\n",
       "      <th>30-59 Days Late</th>\n",
       "      <th>Debt Ratio</th>\n",
       "      <th>Monthly Income</th>\n",
       "      <th>Open Credit Lines And Loans</th>\n",
       "      <th>90 Days Late</th>\n",
       "      <th>Real Estate Loans</th>\n",
       "      <th>60-89 Days Late</th>\n",
       "      <th>Dependents</th>\n",
       "    </tr>\n",
       "  </thead>\n",
       "  <tbody>\n",
       "    <tr>\n",
       "      <th>572</th>\n",
       "      <td>1</td>\n",
       "      <td>0.339504</td>\n",
       "      <td>89</td>\n",
       "      <td>1</td>\n",
       "      <td>0.549380</td>\n",
       "      <td>2500.0</td>\n",
       "      <td>9</td>\n",
       "      <td>3</td>\n",
       "      <td>0</td>\n",
       "      <td>1</td>\n",
       "      <td>0.0</td>\n",
       "    </tr>\n",
       "    <tr>\n",
       "      <th>856</th>\n",
       "      <td>1</td>\n",
       "      <td>0.778719</td>\n",
       "      <td>81</td>\n",
       "      <td>0</td>\n",
       "      <td>0.538013</td>\n",
       "      <td>4287.0</td>\n",
       "      <td>11</td>\n",
       "      <td>0</td>\n",
       "      <td>2</td>\n",
       "      <td>0</td>\n",
       "      <td>0.0</td>\n",
       "    </tr>\n",
       "    <tr>\n",
       "      <th>4423</th>\n",
       "      <td>1</td>\n",
       "      <td>0.003952</td>\n",
       "      <td>87</td>\n",
       "      <td>0</td>\n",
       "      <td>269.000000</td>\n",
       "      <td>NaN</td>\n",
       "      <td>7</td>\n",
       "      <td>0</td>\n",
       "      <td>1</td>\n",
       "      <td>0</td>\n",
       "      <td>NaN</td>\n",
       "    </tr>\n",
       "    <tr>\n",
       "      <th>6070</th>\n",
       "      <td>1</td>\n",
       "      <td>0.000000</td>\n",
       "      <td>82</td>\n",
       "      <td>5</td>\n",
       "      <td>2146.000000</td>\n",
       "      <td>NaN</td>\n",
       "      <td>5</td>\n",
       "      <td>1</td>\n",
       "      <td>1</td>\n",
       "      <td>1</td>\n",
       "      <td>0.0</td>\n",
       "    </tr>\n",
       "    <tr>\n",
       "      <th>9492</th>\n",
       "      <td>1</td>\n",
       "      <td>0.004021</td>\n",
       "      <td>83</td>\n",
       "      <td>1</td>\n",
       "      <td>1368.000000</td>\n",
       "      <td>NaN</td>\n",
       "      <td>10</td>\n",
       "      <td>0</td>\n",
       "      <td>1</td>\n",
       "      <td>0</td>\n",
       "      <td>0.0</td>\n",
       "    </tr>\n",
       "    <tr>\n",
       "      <th>...</th>\n",
       "      <td>...</td>\n",
       "      <td>...</td>\n",
       "      <td>...</td>\n",
       "      <td>...</td>\n",
       "      <td>...</td>\n",
       "      <td>...</td>\n",
       "      <td>...</td>\n",
       "      <td>...</td>\n",
       "      <td>...</td>\n",
       "      <td>...</td>\n",
       "      <td>...</td>\n",
       "    </tr>\n",
       "    <tr>\n",
       "      <th>140023</th>\n",
       "      <td>1</td>\n",
       "      <td>0.000148</td>\n",
       "      <td>83</td>\n",
       "      <td>0</td>\n",
       "      <td>0.001371</td>\n",
       "      <td>2916.0</td>\n",
       "      <td>14</td>\n",
       "      <td>0</td>\n",
       "      <td>0</td>\n",
       "      <td>0</td>\n",
       "      <td>0.0</td>\n",
       "    </tr>\n",
       "    <tr>\n",
       "      <th>146007</th>\n",
       "      <td>1</td>\n",
       "      <td>0.365548</td>\n",
       "      <td>82</td>\n",
       "      <td>1</td>\n",
       "      <td>0.218297</td>\n",
       "      <td>6000.0</td>\n",
       "      <td>16</td>\n",
       "      <td>0</td>\n",
       "      <td>0</td>\n",
       "      <td>0</td>\n",
       "      <td>0.0</td>\n",
       "    </tr>\n",
       "    <tr>\n",
       "      <th>147593</th>\n",
       "      <td>1</td>\n",
       "      <td>0.010278</td>\n",
       "      <td>87</td>\n",
       "      <td>7</td>\n",
       "      <td>1.466540</td>\n",
       "      <td>7351.0</td>\n",
       "      <td>14</td>\n",
       "      <td>3</td>\n",
       "      <td>3</td>\n",
       "      <td>5</td>\n",
       "      <td>1.0</td>\n",
       "    </tr>\n",
       "    <tr>\n",
       "      <th>148365</th>\n",
       "      <td>1</td>\n",
       "      <td>1.000000</td>\n",
       "      <td>84</td>\n",
       "      <td>0</td>\n",
       "      <td>36.000000</td>\n",
       "      <td>NaN</td>\n",
       "      <td>0</td>\n",
       "      <td>0</td>\n",
       "      <td>0</td>\n",
       "      <td>0</td>\n",
       "      <td>0.0</td>\n",
       "    </tr>\n",
       "    <tr>\n",
       "      <th>148805</th>\n",
       "      <td>1</td>\n",
       "      <td>0.010107</td>\n",
       "      <td>85</td>\n",
       "      <td>2</td>\n",
       "      <td>0.221926</td>\n",
       "      <td>3000.0</td>\n",
       "      <td>10</td>\n",
       "      <td>2</td>\n",
       "      <td>0</td>\n",
       "      <td>0</td>\n",
       "      <td>0.0</td>\n",
       "    </tr>\n",
       "  </tbody>\n",
       "</table>\n",
       "<p>100 rows × 11 columns</p>\n",
       "</div>"
      ],
      "text/plain": [
       "        Risky Borrower  Revolving Utilization  Age  30-59 Days Late  \\\n",
       "572                  1               0.339504   89                1   \n",
       "856                  1               0.778719   81                0   \n",
       "4423                 1               0.003952   87                0   \n",
       "6070                 1               0.000000   82                5   \n",
       "9492                 1               0.004021   83                1   \n",
       "...                ...                    ...  ...              ...   \n",
       "140023               1               0.000148   83                0   \n",
       "146007               1               0.365548   82                1   \n",
       "147593               1               0.010278   87                7   \n",
       "148365               1               1.000000   84                0   \n",
       "148805               1               0.010107   85                2   \n",
       "\n",
       "         Debt Ratio  Monthly Income  Open Credit Lines And Loans  \\\n",
       "572        0.549380          2500.0                            9   \n",
       "856        0.538013          4287.0                           11   \n",
       "4423     269.000000             NaN                            7   \n",
       "6070    2146.000000             NaN                            5   \n",
       "9492    1368.000000             NaN                           10   \n",
       "...             ...             ...                          ...   \n",
       "140023     0.001371          2916.0                           14   \n",
       "146007     0.218297          6000.0                           16   \n",
       "147593     1.466540          7351.0                           14   \n",
       "148365    36.000000             NaN                            0   \n",
       "148805     0.221926          3000.0                           10   \n",
       "\n",
       "        90 Days Late  Real Estate Loans  60-89 Days Late  Dependents  \n",
       "572                3                  0                1         0.0  \n",
       "856                0                  2                0         0.0  \n",
       "4423               0                  1                0         NaN  \n",
       "6070               1                  1                1         0.0  \n",
       "9492               0                  1                0         0.0  \n",
       "...              ...                ...              ...         ...  \n",
       "140023             0                  0                0         0.0  \n",
       "146007             0                  0                0         0.0  \n",
       "147593             3                  3                5         1.0  \n",
       "148365             0                  0                0         0.0  \n",
       "148805             2                  0                0         0.0  \n",
       "\n",
       "[100 rows x 11 columns]"
      ]
     },
     "execution_count": 20,
     "metadata": {},
     "output_type": "execute_result"
    }
   ],
   "source": [
    "df[(df['Age'] > 80) & (df['Risky Borrower'] == 1)]"
   ]
  },
  {
   "cell_type": "code",
   "execution_count": 21,
   "id": "dec36ff8",
   "metadata": {},
   "outputs": [],
   "source": [
    "# we can drop data points of people over the age of 80; data doesn't seem reliable and this isn't part of tagret demographic\n",
    "df.drop(index = df[df['Age'] > 80].index, inplace = True)"
   ]
  },
  {
   "cell_type": "code",
   "execution_count": 22,
   "id": "8c8d5378",
   "metadata": {},
   "outputs": [
    {
     "data": {
      "text/plain": [
       "count    141472.000000\n",
       "mean          0.777624\n",
       "std           1.124833\n",
       "min           0.000000\n",
       "25%           0.000000\n",
       "50%           0.000000\n",
       "75%           1.000000\n",
       "max          20.000000\n",
       "Name: Dependents, dtype: float64"
      ]
     },
     "execution_count": 22,
     "metadata": {},
     "output_type": "execute_result"
    }
   ],
   "source": [
    "df['Dependents'].describe()"
   ]
  },
  {
   "cell_type": "code",
   "execution_count": 23,
   "id": "9ddaa115",
   "metadata": {},
   "outputs": [
    {
     "data": {
      "text/plain": [
       "<AxesSubplot:xlabel='Dependents', ylabel='count'>"
      ]
     },
     "execution_count": 23,
     "metadata": {},
     "output_type": "execute_result"
    },
    {
     "data": {
      "image/png": "[encoded data removed]",
      "text/plain": [
       "<Figure size 432x288 with 1 Axes>"
      ]
     },
     "metadata": {
      "needs_background": "light"
     },
     "output_type": "display_data"
    }
   ],
   "source": [
    "sns.countplot(x = 'Dependents', data = df)"
   ]
  },
  {
   "cell_type": "code",
   "execution_count": 24,
   "id": "49eafe50",
   "metadata": {},
   "outputs": [],
   "source": [
    "# beyond scope\n",
    "df.drop(index = df[df['Dependents'] > 6].index, inplace = True)"
   ]
  },
  {
   "cell_type": "code",
   "execution_count": 25,
   "id": "807ec1ad",
   "metadata": {},
   "outputs": [
    {
     "data": {
      "text/plain": [
       "count    1.169190e+05\n",
       "mean     6.701208e+03\n",
       "std      1.443360e+04\n",
       "min      0.000000e+00\n",
       "25%      3.416000e+03\n",
       "50%      5.416000e+03\n",
       "75%      8.300000e+03\n",
       "max      3.008750e+06\n",
       "Name: Monthly Income, dtype: float64"
      ]
     },
     "execution_count": 25,
     "metadata": {},
     "output_type": "execute_result"
    }
   ],
   "source": [
    "df['Monthly Income'].describe()"
   ]
  },
  {
   "cell_type": "code",
   "execution_count": 26,
   "id": "d202df0f",
   "metadata": {},
   "outputs": [
    {
     "data": {
      "text/plain": [
       "<seaborn.axisgrid.FacetGrid at 0x1e9c8d094f0>"
      ]
     },
     "execution_count": 26,
     "metadata": {},
     "output_type": "execute_result"
    },
    {
     "data": {
      "image/png": "[encoded data removed]",
      "text/plain": [
       "<Figure size 360x360 with 1 Axes>"
      ]
     },
     "metadata": {
      "needs_background": "light"
     },
     "output_type": "display_data"
    }
   ],
   "source": [
    "# very few values, very far from mean (i.e. very skewed max)\n",
    "sns.displot(df['Monthly Income'])"
   ]
  },
  {
   "cell_type": "code",
   "execution_count": 27,
   "id": "c29a9e17",
   "metadata": {},
   "outputs": [],
   "source": [
    "# people with monthly incomes greater than 30,000 will be beyond the scope of this model\n",
    "sum(df['Monthly Income'] > 30000)\n",
    "df.drop(index = df[df['Monthly Income'] > 30000].index, inplace = True)"
   ]
  },
  {
   "cell_type": "code",
   "execution_count": 28,
   "id": "4d7bfb32",
   "metadata": {},
   "outputs": [
    {
     "data": {
      "text/plain": [
       "<seaborn.axisgrid.FacetGrid at 0x1e9c8d09370>"
      ]
     },
     "execution_count": 28,
     "metadata": {},
     "output_type": "execute_result"
    },
    {
     "data": {
      "image/png": "[encoded data removed]",
      "text/plain": [
       "<Figure size 360x360 with 1 Axes>"
      ]
     },
     "metadata": {
      "needs_background": "light"
     },
     "output_type": "display_data"
    }
   ],
   "source": [
    "sns.displot(df['Monthly Income'], bins = 50, kde = True)"
   ]
  },
  {
   "cell_type": "code",
   "execution_count": 29,
   "id": "d0793b3d",
   "metadata": {},
   "outputs": [
    {
     "data": {
      "text/plain": [
       "Risky Borrower                     0\n",
       "Revolving Utilization              0\n",
       "Age                                0\n",
       "30-59 Days Late                    0\n",
       "Debt Ratio                         0\n",
       "Monthly Income                 27841\n",
       "Open Credit Lines And Loans        0\n",
       "90 Days Late                       0\n",
       "Real Estate Loans                  0\n",
       "60-89 Days Late                    0\n",
       "Dependents                      3375\n",
       "dtype: int64"
      ]
     },
     "execution_count": 29,
     "metadata": {},
     "output_type": "execute_result"
    }
   ],
   "source": [
    "df.isnull().sum()"
   ]
  },
  {
   "cell_type": "code",
   "execution_count": 30,
   "id": "f189373f",
   "metadata": {},
   "outputs": [],
   "source": [
    "df.drop(index = df[df['Monthly Income'].isnull()].index, inplace = True)"
   ]
  },
  {
   "cell_type": "code",
   "execution_count": 31,
   "id": "65f5b807",
   "metadata": {},
   "outputs": [
    {
     "data": {
      "text/plain": [
       "count    116144.000000\n",
       "mean         26.563425\n",
       "std         387.333171\n",
       "min           0.000000\n",
       "25%           0.152383\n",
       "50%           0.302428\n",
       "75%           0.488636\n",
       "max       60212.000000\n",
       "Name: Debt Ratio, dtype: float64"
      ]
     },
     "execution_count": 31,
     "metadata": {},
     "output_type": "execute_result"
    }
   ],
   "source": [
    "# skewed max\n",
    "df['Debt Ratio'].describe()"
   ]
  },
  {
   "cell_type": "code",
   "execution_count": 32,
   "id": "2078d69d",
   "metadata": {},
   "outputs": [
    {
     "name": "stdout",
     "output_type": "stream",
     "text": [
      "Debt Ratio > 1        ---   7106\n",
      "Debt Ratio > 100      ---   1661\n",
      "\n",
      "1 < Debt Ratio < 100  ---   5443\n",
      "1 < Debt Ratio < 10   ---   5042\n",
      "1 < Debt Ratio < 5    ---   4804\n",
      "1 < Debt Ratio < 3    ---   4472\n"
     ]
    }
   ],
   "source": [
    "# identifying where exactly outlier values are\n",
    "\n",
    "print('Debt Ratio > 1        ---  ', sum(df['Debt Ratio'] > 1))\n",
    "print('Debt Ratio > 100      ---  ', sum(df['Debt Ratio'] > 100))\n",
    "print()\n",
    "print('1 < Debt Ratio < 100  ---  ', sum((df['Debt Ratio'] > 1) & (df['Debt Ratio'] < 100)))\n",
    "print('1 < Debt Ratio < 10   ---  ', sum((df['Debt Ratio'] > 1) & (df['Debt Ratio'] < 10)))\n",
    "print('1 < Debt Ratio < 5    ---  ', sum((df['Debt Ratio'] > 1) & (df['Debt Ratio'] < 5)))\n",
    "print('1 < Debt Ratio < 3    ---  ', sum((df['Debt Ratio'] > 1) & (df['Debt Ratio'] < 3)))"
   ]
  },
  {
   "cell_type": "code",
   "execution_count": 33,
   "id": "4cc238f3",
   "metadata": {},
   "outputs": [
    {
     "data": {
      "text/plain": [
       "25        1.595253\n",
       "63        1.051398\n",
       "79        2.797699\n",
       "82        2.604511\n",
       "111       1.382629\n",
       "            ...   \n",
       "149807    1.059708\n",
       "149808    1.055178\n",
       "149823    2.094595\n",
       "149841    1.061506\n",
       "149907    1.124589\n",
       "Name: Debt Ratio, Length: 5042, dtype: float64"
      ]
     },
     "execution_count": 33,
     "metadata": {},
     "output_type": "execute_result"
    }
   ],
   "source": [
    "df[(df['Debt Ratio'] > 1) & (df['Debt Ratio'] < 10)]['Debt Ratio']"
   ]
  },
  {
   "cell_type": "code",
   "execution_count": 34,
   "id": "b530b3b3",
   "metadata": {},
   "outputs": [],
   "source": [
    "# divide dti that fall under above category by 10\n",
    "df['Debt Ratio'] = df['Debt Ratio'].apply(lambda x: x / 10 if x > 1 and x < 10 else x)"
   ]
  },
  {
   "cell_type": "code",
   "execution_count": 35,
   "id": "70118c19",
   "metadata": {},
   "outputs": [
    {
     "data": {
      "text/plain": [
       "count     2055.000000\n",
       "mean       120.395134\n",
       "std        974.018737\n",
       "min          0.000000\n",
       "25%          0.000000\n",
       "50%          0.000000\n",
       "75%          1.000000\n",
       "max      16500.000000\n",
       "Name: Monthly Income, dtype: float64"
      ]
     },
     "execution_count": 35,
     "metadata": {},
     "output_type": "execute_result"
    }
   ],
   "source": [
    "# incomes are extremely low for people with debt ratio greater than 10; indicates that these are bad datapoints\n",
    "df[df['Debt Ratio'] > 10]['Monthly Income'].describe()"
   ]
  },
  {
   "cell_type": "code",
   "execution_count": 36,
   "id": "c0a1c37e",
   "metadata": {},
   "outputs": [],
   "source": [
    "df.drop(index = df[df['Debt Ratio'] >= 10].index, inplace = True)"
   ]
  },
  {
   "cell_type": "code",
   "execution_count": 37,
   "id": "91708412",
   "metadata": {},
   "outputs": [
    {
     "data": {
      "text/plain": [
       "<seaborn.axisgrid.FacetGrid at 0x1e9c8b5d850>"
      ]
     },
     "execution_count": 37,
     "metadata": {},
     "output_type": "execute_result"
    },
    {
     "data": {
      "image/png": "[encoded data removed]",
      "text/plain": [
       "<Figure size 360x360 with 1 Axes>"
      ]
     },
     "metadata": {
      "needs_background": "light"
     },
     "output_type": "display_data"
    }
   ],
   "source": [
    "sns.displot(df['Debt Ratio'], bins = 50)"
   ]
  },
  {
   "cell_type": "code",
   "execution_count": 38,
   "id": "89edef93",
   "metadata": {},
   "outputs": [
    {
     "data": {
      "text/plain": [
       "count    114080.000000\n",
       "mean          8.784721\n",
       "std           5.164261\n",
       "min           0.000000\n",
       "25%           5.000000\n",
       "50%           8.000000\n",
       "75%          11.000000\n",
       "max          58.000000\n",
       "Name: Open Credit Lines And Loans, dtype: float64"
      ]
     },
     "execution_count": 38,
     "metadata": {},
     "output_type": "execute_result"
    }
   ],
   "source": [
    "df['Open Credit Lines And Loans'].describe()"
   ]
  },
  {
   "cell_type": "code",
   "execution_count": 39,
   "id": "1cf451da",
   "metadata": {},
   "outputs": [
    {
     "data": {
      "text/plain": [
       "6    10227\n",
       "7    10200\n",
       "8     9844\n",
       "5     9524\n",
       "9     8996\n",
       "Name: Open Credit Lines And Loans, dtype: int64"
      ]
     },
     "execution_count": 39,
     "metadata": {},
     "output_type": "execute_result"
    }
   ],
   "source": [
    "df['Open Credit Lines And Loans'].value_counts().head(5)"
   ]
  },
  {
   "cell_type": "code",
   "execution_count": 40,
   "id": "abfbfdd5",
   "metadata": {},
   "outputs": [],
   "source": [
    "# beyond scope\n",
    "df.drop(index = df[(df['Open Credit Lines And Loans'] > 20)].index, inplace = True)"
   ]
  },
  {
   "cell_type": "code",
   "execution_count": 41,
   "id": "879b57ba",
   "metadata": {},
   "outputs": [
    {
     "data": {
      "text/plain": [
       "count    110800.000000\n",
       "mean          1.033475\n",
       "std           1.054421\n",
       "min           0.000000\n",
       "25%           0.000000\n",
       "50%           1.000000\n",
       "75%           2.000000\n",
       "max          13.000000\n",
       "Name: Real Estate Loans, dtype: float64"
      ]
     },
     "execution_count": 41,
     "metadata": {},
     "output_type": "execute_result"
    }
   ],
   "source": [
    "df['Real Estate Loans'].describe()"
   ]
  },
  {
   "cell_type": "code",
   "execution_count": 42,
   "id": "16993295",
   "metadata": {},
   "outputs": [
    {
     "data": {
      "text/plain": [
       "0    39819\n",
       "1    39122\n",
       "2    24566\n",
       "3     4789\n",
       "4     1598\n",
       "Name: Real Estate Loans, dtype: int64"
      ]
     },
     "execution_count": 42,
     "metadata": {},
     "output_type": "execute_result"
    }
   ],
   "source": [
    "df['Real Estate Loans'].value_counts().head()"
   ]
  },
  {
   "cell_type": "code",
   "execution_count": 43,
   "id": "0e91b067",
   "metadata": {},
   "outputs": [],
   "source": [
    "# beyond scope\n",
    "df.drop(index = df[df['Real Estate Loans'] > 5].index, inplace = True)"
   ]
  },
  {
   "cell_type": "code",
   "execution_count": 44,
   "id": "57fae913",
   "metadata": {},
   "outputs": [],
   "source": [
    "# dropping outlier delinquency vals\n",
    "df.drop(index = df[df['30-59 Days Late'] > 60].index, inplace = True)\n",
    "df.drop(index = df[df['60-89 Days Late'] > 60].index, inplace = True)\n",
    "df.drop(index = df[df['90 Days Late'] > 60].index, inplace = True)"
   ]
  },
  {
   "cell_type": "code",
   "execution_count": 45,
   "id": "6297a287",
   "metadata": {},
   "outputs": [],
   "source": [
    "df.dropna(inplace = True)\n",
    "df.reset_index(inplace = True)\n",
    "df.drop('index', axis = 1, inplace = True)"
   ]
  },
  {
   "cell_type": "code",
   "execution_count": 46,
   "id": "71e67b66",
   "metadata": {},
   "outputs": [
    {
     "data": {
      "text/plain": [
       "<AxesSubplot:>"
      ]
     },
     "execution_count": 46,
     "metadata": {},
     "output_type": "execute_result"
    },
    {
     "data": {
      "image/png": "[encoded data removed]",
      "text/plain": [
       "<Figure size 432x288 with 2 Axes>"
      ]
     },
     "metadata": {
      "needs_background": "light"
     },
     "output_type": "display_data"
    }
   ],
   "source": [
    "sns.heatmap(df.corr())"
   ]
  },
  {
   "cell_type": "code",
   "execution_count": 47,
   "id": "0f4ede8f",
   "metadata": {},
   "outputs": [
    {
     "data": {
      "text/plain": [
       "[Text(0, 0, '102473'), Text(0, 0, '7735')]"
      ]
     },
     "execution_count": 47,
     "metadata": {},
     "output_type": "execute_result"
    },
    {
     "data": {
      "image/png": "[encoded data removed]",
      "text/plain": [
       "<Figure size 432x288 with 1 Axes>"
      ]
     },
     "metadata": {
      "needs_background": "light"
     },
     "output_type": "display_data"
    }
   ],
   "source": [
    "ax = sns.countplot(x = 'Risky Borrower', data = df)\n",
    "ax.bar_label(ax.containers[0])"
   ]
  },
  {
   "cell_type": "code",
   "execution_count": 64,
   "id": "6ab51204",
   "metadata": {},
   "outputs": [],
   "source": [
    "# dataset is skewed; too many 0 vals relative to 1 vals\n",
    "\n",
    "sub1 = df[df['Risky Borrower'] == 0].sample(n = 10000)\n",
    "sub2 = df[df['Risky Borrower'] == 1]\n",
    "sample = pd.concat([sub1, sub2])\n",
    "sample.reset_index(inplace = True)\n",
    "sample.drop('index', axis = 1, inplace = True)"
   ]
  },
  {
   "cell_type": "code",
   "execution_count": 65,
   "id": "7b5250d4",
   "metadata": {},
   "outputs": [
    {
     "data": {
      "text/html": [
       "<div>\n",
       "<style scoped>\n",
       "    .dataframe tbody tr th:only-of-type {\n",
       "        vertical-align: middle;\n",
       "    }\n",
       "\n",
       "    .dataframe tbody tr th {\n",
       "        vertical-align: top;\n",
       "    }\n",
       "\n",
       "    .dataframe thead th {\n",
       "        text-align: right;\n",
       "    }\n",
       "</style>\n",
       "<table border=\"1\" class=\"dataframe\">\n",
       "  <thead>\n",
       "    <tr style=\"text-align: right;\">\n",
       "      <th></th>\n",
       "      <th>Risky Borrower</th>\n",
       "      <th>Revolving Utilization</th>\n",
       "      <th>Age</th>\n",
       "      <th>30-59 Days Late</th>\n",
       "      <th>Debt Ratio</th>\n",
       "      <th>Monthly Income</th>\n",
       "      <th>Open Credit Lines And Loans</th>\n",
       "      <th>90 Days Late</th>\n",
       "      <th>Real Estate Loans</th>\n",
       "      <th>60-89 Days Late</th>\n",
       "      <th>Dependents</th>\n",
       "    </tr>\n",
       "  </thead>\n",
       "  <tbody>\n",
       "    <tr>\n",
       "      <th>0</th>\n",
       "      <td>0</td>\n",
       "      <td>0.236476</td>\n",
       "      <td>74</td>\n",
       "      <td>0</td>\n",
       "      <td>0.152656</td>\n",
       "      <td>8207.0</td>\n",
       "      <td>8</td>\n",
       "      <td>0</td>\n",
       "      <td>1</td>\n",
       "      <td>0</td>\n",
       "      <td>0.0</td>\n",
       "    </tr>\n",
       "    <tr>\n",
       "      <th>1</th>\n",
       "      <td>0</td>\n",
       "      <td>0.358540</td>\n",
       "      <td>66</td>\n",
       "      <td>0</td>\n",
       "      <td>0.665454</td>\n",
       "      <td>6046.0</td>\n",
       "      <td>7</td>\n",
       "      <td>0</td>\n",
       "      <td>2</td>\n",
       "      <td>0</td>\n",
       "      <td>0.0</td>\n",
       "    </tr>\n",
       "    <tr>\n",
       "      <th>2</th>\n",
       "      <td>0</td>\n",
       "      <td>0.021111</td>\n",
       "      <td>65</td>\n",
       "      <td>0</td>\n",
       "      <td>0.159051</td>\n",
       "      <td>800.0</td>\n",
       "      <td>8</td>\n",
       "      <td>0</td>\n",
       "      <td>1</td>\n",
       "      <td>0</td>\n",
       "      <td>0.0</td>\n",
       "    </tr>\n",
       "    <tr>\n",
       "      <th>3</th>\n",
       "      <td>0</td>\n",
       "      <td>0.000000</td>\n",
       "      <td>38</td>\n",
       "      <td>0</td>\n",
       "      <td>0.155077</td>\n",
       "      <td>4500.0</td>\n",
       "      <td>11</td>\n",
       "      <td>0</td>\n",
       "      <td>0</td>\n",
       "      <td>0</td>\n",
       "      <td>1.0</td>\n",
       "    </tr>\n",
       "    <tr>\n",
       "      <th>4</th>\n",
       "      <td>0</td>\n",
       "      <td>0.067672</td>\n",
       "      <td>52</td>\n",
       "      <td>0</td>\n",
       "      <td>0.169566</td>\n",
       "      <td>5000.0</td>\n",
       "      <td>8</td>\n",
       "      <td>0</td>\n",
       "      <td>2</td>\n",
       "      <td>0</td>\n",
       "      <td>0.0</td>\n",
       "    </tr>\n",
       "  </tbody>\n",
       "</table>\n",
       "</div>"
      ],
      "text/plain": [
       "   Risky Borrower  Revolving Utilization  Age  30-59 Days Late  Debt Ratio  \\\n",
       "0               0               0.236476   74                0    0.152656   \n",
       "1               0               0.358540   66                0    0.665454   \n",
       "2               0               0.021111   65                0    0.159051   \n",
       "3               0               0.000000   38                0    0.155077   \n",
       "4               0               0.067672   52                0    0.169566   \n",
       "\n",
       "   Monthly Income  Open Credit Lines And Loans  90 Days Late  \\\n",
       "0          8207.0                            8             0   \n",
       "1          6046.0                            7             0   \n",
       "2           800.0                            8             0   \n",
       "3          4500.0                           11             0   \n",
       "4          5000.0                            8             0   \n",
       "\n",
       "   Real Estate Loans  60-89 Days Late  Dependents  \n",
       "0                  1                0         0.0  \n",
       "1                  2                0         0.0  \n",
       "2                  1                0         0.0  \n",
       "3                  0                0         1.0  \n",
       "4                  2                0         0.0  "
      ]
     },
     "execution_count": 65,
     "metadata": {},
     "output_type": "execute_result"
    }
   ],
   "source": [
    "sample.head()"
   ]
  },
  {
   "cell_type": "code",
   "execution_count": 66,
   "id": "ce525aec",
   "metadata": {},
   "outputs": [],
   "source": [
    "scaler = MinMaxScaler()"
   ]
  },
  {
   "cell_type": "code",
   "execution_count": 68,
   "id": "efe9f858",
   "metadata": {},
   "outputs": [],
   "source": [
    "scaled_features = scaler.fit_transform(sample.drop('Risky Borrower', axis = 1))"
   ]
  },
  {
   "cell_type": "markdown",
   "id": "80189068",
   "metadata": {},
   "source": [
    "## Model"
   ]
  },
  {
   "cell_type": "code",
   "execution_count": 69,
   "id": "550814ae",
   "metadata": {},
   "outputs": [],
   "source": [
    "X = scaled_features\n",
    "y = sample['Risky Borrower'].values"
   ]
  },
  {
   "cell_type": "code",
   "execution_count": 70,
   "id": "769a8524",
   "metadata": {},
   "outputs": [],
   "source": [
    "X_train, X_test, y_train, y_test = train_test_split(X, y, test_size = 0.3, random_state = 0)"
   ]
  },
  {
   "cell_type": "code",
   "execution_count": null,
   "id": "30526d50",
   "metadata": {},
   "outputs": [],
   "source": []
  },
  {
   "cell_type": "code",
   "execution_count": 71,
   "id": "07250cb4",
   "metadata": {},
   "outputs": [],
   "source": [
    "model = LogisticRegression()"
   ]
  },
  {
   "cell_type": "code",
   "execution_count": 72,
   "id": "5a563839",
   "metadata": {},
   "outputs": [
    {
     "data": {
      "text/plain": [
       "LogisticRegression()"
      ]
     },
     "execution_count": 72,
     "metadata": {},
     "output_type": "execute_result"
    }
   ],
   "source": [
    "model.fit(X_train, y_train)"
   ]
  },
  {
   "cell_type": "code",
   "execution_count": 73,
   "id": "72e14fbb",
   "metadata": {},
   "outputs": [],
   "source": [
    "pred = model.predict(X_test)"
   ]
  },
  {
   "cell_type": "code",
   "execution_count": 74,
   "id": "97e4a3e8",
   "metadata": {},
   "outputs": [
    {
     "name": "stdout",
     "output_type": "stream",
     "text": [
      "[[2566  922]\n",
      " [ 397 1436]]\n"
     ]
    }
   ],
   "source": [
    "print(confusion_matrix(pred, y_test))"
   ]
  },
  {
   "cell_type": "code",
   "execution_count": 75,
   "id": "05d11879",
   "metadata": {},
   "outputs": [
    {
     "name": "stdout",
     "output_type": "stream",
     "text": [
      "              precision    recall  f1-score   support\n",
      "\n",
      "           0       0.87      0.74      0.80      3488\n",
      "           1       0.61      0.78      0.69      1833\n",
      "\n",
      "    accuracy                           0.75      5321\n",
      "   macro avg       0.74      0.76      0.74      5321\n",
      "weighted avg       0.78      0.75      0.76      5321\n",
      "\n"
     ]
    }
   ],
   "source": [
    "print(classification_report(pred, y_test))"
   ]
  },
  {
   "cell_type": "code",
   "execution_count": 81,
   "id": "ebc8eab7",
   "metadata": {},
   "outputs": [
    {
     "data": {
      "text/plain": [
       "Index(['Revolving Utilization', 'Age', '30-59 Days Late', 'Debt Ratio',\n",
       "       'Monthly Income', 'Open Credit Lines And Loans', '90 Days Late',\n",
       "       'Real Estate Loans', '60-89 Days Late', 'Dependents'],\n",
       "      dtype='object')"
      ]
     },
     "execution_count": 81,
     "metadata": {},
     "output_type": "execute_result"
    }
   ],
   "source": [
    "sample.drop('Risky Borrower', axis = 1).columns"
   ]
  },
  {
   "cell_type": "code",
   "execution_count": 77,
   "id": "d63f9d2c",
   "metadata": {},
   "outputs": [
    {
     "data": {
      "text/plain": [
       "array([[ 1.44199559, -1.15171588,  8.27256345,  0.27278415, -1.35449547,\n",
       "         0.23838032, 11.36689583,  0.3560153 ,  7.34071696,  0.32359964]])"
      ]
     },
     "execution_count": 77,
     "metadata": {},
     "output_type": "execute_result"
    }
   ],
   "source": [
    "model.coef_"
   ]
  },
  {
   "cell_type": "code",
   "execution_count": 59,
   "id": "14c81d2f",
   "metadata": {},
   "outputs": [],
   "source": [
    "model = RandomForestClassifier()"
   ]
  },
  {
   "cell_type": "code",
   "execution_count": 60,
   "id": "571e1e01",
   "metadata": {},
   "outputs": [
    {
     "data": {
      "text/plain": [
       "RandomForestClassifier()"
      ]
     },
     "execution_count": 60,
     "metadata": {},
     "output_type": "execute_result"
    }
   ],
   "source": [
    "model.fit(X_train, y_train)"
   ]
  },
  {
   "cell_type": "code",
   "execution_count": 61,
   "id": "22b5683b",
   "metadata": {},
   "outputs": [],
   "source": [
    "pred = model.predict(X_test)"
   ]
  },
  {
   "cell_type": "code",
   "execution_count": 62,
   "id": "768b06aa",
   "metadata": {},
   "outputs": [
    {
     "name": "stdout",
     "output_type": "stream",
     "text": [
      "[[1814  608]\n",
      " [ 492 1727]]\n"
     ]
    }
   ],
   "source": [
    "print(confusion_matrix(pred, y_test))"
   ]
  },
  {
   "cell_type": "code",
   "execution_count": 63,
   "id": "a5e0a630",
   "metadata": {
    "scrolled": true
   },
   "outputs": [
    {
     "name": "stdout",
     "output_type": "stream",
     "text": [
      "              precision    recall  f1-score   support\n",
      "\n",
      "           0       0.79      0.75      0.77      2422\n",
      "           1       0.74      0.78      0.76      2219\n",
      "\n",
      "    accuracy                           0.76      4641\n",
      "   macro avg       0.76      0.76      0.76      4641\n",
      "weighted avg       0.76      0.76      0.76      4641\n",
      "\n"
     ]
    }
   ],
   "source": [
    "print(classification_report(pred, y_test))"
   ]
  },
  {
   "cell_type": "markdown",
   "id": "3c0d8ce0",
   "metadata": {},
   "source": [
    "## Extended Analysis"
   ]
  },
  {
   "cell_type": "code",
   "execution_count": 80,
   "id": "2548aa8a",
   "metadata": {},
   "outputs": [],
   "source": [
    "prob = []\n",
    "total = 0\n",
    "for x in model.predict_proba(X_test):\n",
    "    for y in x:\n",
    "        total += 1\n",
    "        if total % 2 == 0:\n",
    "            prob.append(y)"
   ]
  },
  {
   "cell_type": "code",
   "execution_count": 83,
   "id": "ed1f63a7",
   "metadata": {},
   "outputs": [],
   "source": [
    "new_pred = []\n",
    "for val in prob:\n",
    "    if val > 0.6:\n",
    "        new_pred.append(1)\n",
    "    elif val < 0.4:\n",
    "        new_pred.append(0)\n",
    "    else:\n",
    "        new_pred.append('Unclear')"
   ]
  },
  {
   "cell_type": "code",
   "execution_count": 84,
   "id": "15e3717c",
   "metadata": {},
   "outputs": [],
   "source": [
    "unclear = []\n",
    "for x in range(len(new_pred)):\n",
    "    if new_pred[x] == 'Unclear':\n",
    "        unclear.append(x)"
   ]
  },
  {
   "cell_type": "code",
   "execution_count": 85,
   "id": "100ad706",
   "metadata": {},
   "outputs": [],
   "source": [
    "y_test = list(y_test)\n",
    "for x in unclear:\n",
    "    y_test[x] = 'Unclear'"
   ]
  },
  {
   "cell_type": "code",
   "execution_count": 86,
   "id": "e3e8fda4",
   "metadata": {},
   "outputs": [
    {
     "data": {
      "text/plain": [
       "795"
      ]
     },
     "execution_count": 86,
     "metadata": {},
     "output_type": "execute_result"
    }
   ],
   "source": [
    "y_test.count('Unclear')"
   ]
  },
  {
   "cell_type": "code",
   "execution_count": 87,
   "id": "444a6824",
   "metadata": {},
   "outputs": [
    {
     "name": "stdout",
     "output_type": "stream",
     "text": [
      "True\n",
      "True\n",
      "True\n",
      "True\n",
      "True\n",
      "True\n",
      "True\n",
      "True\n",
      "True\n",
      "True\n",
      "True\n",
      "True\n",
      "True\n",
      "True\n",
      "True\n",
      "True\n",
      "True\n",
      "True\n",
      "True\n",
      "True\n",
      "True\n",
      "True\n",
      "True\n",
      "True\n",
      "True\n",
      "True\n",
      "True\n",
      "True\n",
      "True\n",
      "True\n",
      "True\n",
      "True\n",
      "True\n",
      "True\n",
      "True\n",
      "True\n",
      "True\n",
      "True\n",
      "True\n",
      "True\n",
      "True\n",
      "True\n",
      "True\n",
      "True\n",
      "True\n",
      "True\n",
      "True\n",
      "True\n",
      "True\n",
      "True\n",
      "True\n",
      "True\n",
      "True\n",
      "True\n",
      "True\n",
      "True\n",
      "True\n",
      "True\n",
      "True\n",
      "True\n",
      "True\n",
      "True\n",
      "True\n",
      "True\n",
      "True\n",
      "True\n",
      "True\n",
      "True\n",
      "True\n",
      "True\n",
      "True\n",
      "True\n",
      "True\n",
      "True\n",
      "True\n",
      "True\n",
      "True\n",
      "True\n",
      "True\n",
      "True\n",
      "True\n",
      "True\n",
      "True\n",
      "True\n",
      "True\n",
      "True\n",
      "True\n",
      "True\n",
      "True\n",
      "True\n",
      "True\n",
      "True\n",
      "True\n",
      "True\n",
      "True\n",
      "True\n",
      "True\n",
      "True\n",
      "True\n",
      "True\n",
      "True\n",
      "True\n",
      "True\n",
      "True\n",
      "True\n",
      "True\n",
      "True\n",
      "True\n",
      "True\n",
      "True\n",
      "True\n",
      "True\n",
      "True\n",
      "True\n",
      "True\n",
      "True\n",
      "True\n",
      "True\n",
      "True\n",
      "True\n",
      "True\n",
      "True\n",
      "True\n",
      "True\n",
      "True\n",
      "True\n",
      "True\n",
      "True\n",
      "True\n",
      "True\n",
      "True\n",
      "True\n",
      "True\n",
      "True\n",
      "True\n",
      "True\n",
      "True\n",
      "True\n",
      "True\n",
      "True\n",
      "True\n",
      "True\n",
      "True\n",
      "True\n",
      "True\n",
      "True\n",
      "True\n",
      "True\n",
      "True\n",
      "True\n",
      "True\n",
      "True\n",
      "True\n",
      "True\n",
      "True\n",
      "True\n",
      "True\n",
      "True\n",
      "True\n",
      "True\n",
      "True\n",
      "True\n",
      "True\n",
      "True\n",
      "True\n",
      "True\n",
      "True\n",
      "True\n",
      "True\n",
      "True\n",
      "True\n",
      "True\n",
      "True\n",
      "True\n",
      "True\n",
      "True\n",
      "True\n",
      "True\n",
      "True\n",
      "True\n",
      "True\n",
      "True\n",
      "True\n",
      "True\n",
      "True\n",
      "True\n",
      "True\n",
      "True\n",
      "True\n",
      "True\n",
      "True\n",
      "True\n",
      "True\n",
      "True\n",
      "True\n",
      "True\n",
      "True\n",
      "True\n",
      "True\n",
      "True\n",
      "True\n",
      "True\n",
      "True\n",
      "True\n",
      "True\n",
      "True\n",
      "True\n",
      "True\n",
      "True\n",
      "True\n",
      "True\n",
      "True\n",
      "True\n",
      "True\n",
      "True\n",
      "True\n",
      "True\n",
      "True\n",
      "True\n",
      "True\n",
      "True\n",
      "True\n",
      "True\n",
      "True\n",
      "True\n",
      "True\n",
      "True\n",
      "True\n",
      "True\n",
      "True\n",
      "True\n",
      "True\n",
      "True\n",
      "True\n",
      "True\n",
      "True\n",
      "True\n",
      "True\n",
      "True\n",
      "True\n",
      "True\n",
      "True\n",
      "True\n",
      "True\n",
      "True\n",
      "True\n",
      "True\n",
      "True\n",
      "True\n",
      "True\n",
      "True\n",
      "True\n",
      "True\n",
      "True\n",
      "True\n",
      "True\n",
      "True\n",
      "True\n",
      "True\n",
      "True\n",
      "True\n",
      "True\n",
      "True\n",
      "True\n",
      "True\n",
      "True\n",
      "True\n",
      "True\n",
      "True\n",
      "True\n",
      "True\n",
      "True\n",
      "True\n",
      "True\n",
      "True\n",
      "True\n",
      "True\n",
      "True\n",
      "True\n",
      "True\n",
      "True\n",
      "True\n",
      "True\n",
      "True\n",
      "True\n",
      "True\n",
      "True\n",
      "True\n",
      "True\n",
      "True\n",
      "True\n",
      "True\n",
      "True\n",
      "True\n",
      "True\n",
      "True\n",
      "True\n",
      "True\n",
      "True\n",
      "True\n",
      "True\n",
      "True\n",
      "True\n",
      "True\n",
      "True\n",
      "True\n",
      "True\n",
      "True\n",
      "True\n",
      "True\n",
      "True\n",
      "True\n",
      "True\n",
      "True\n",
      "True\n",
      "True\n",
      "True\n",
      "True\n",
      "True\n",
      "True\n",
      "True\n",
      "True\n",
      "True\n",
      "True\n",
      "True\n",
      "True\n",
      "True\n",
      "True\n",
      "True\n",
      "True\n",
      "True\n",
      "True\n",
      "True\n",
      "True\n",
      "True\n",
      "True\n",
      "True\n",
      "True\n",
      "True\n",
      "True\n",
      "True\n",
      "True\n",
      "True\n",
      "True\n",
      "True\n",
      "True\n",
      "True\n",
      "True\n",
      "True\n",
      "True\n",
      "True\n",
      "True\n",
      "True\n",
      "True\n",
      "True\n",
      "True\n",
      "True\n",
      "True\n",
      "True\n",
      "True\n",
      "True\n",
      "True\n",
      "True\n",
      "True\n",
      "True\n",
      "True\n",
      "True\n",
      "True\n",
      "True\n",
      "True\n",
      "True\n",
      "True\n",
      "True\n",
      "True\n",
      "True\n",
      "True\n",
      "True\n",
      "True\n",
      "True\n",
      "True\n",
      "True\n",
      "True\n",
      "True\n",
      "True\n",
      "True\n",
      "True\n",
      "True\n",
      "True\n",
      "True\n",
      "True\n",
      "True\n",
      "True\n",
      "True\n",
      "True\n",
      "True\n",
      "True\n",
      "True\n",
      "True\n",
      "True\n",
      "True\n",
      "True\n",
      "True\n",
      "True\n",
      "True\n",
      "True\n",
      "True\n",
      "True\n",
      "True\n",
      "True\n",
      "True\n",
      "True\n",
      "True\n",
      "True\n",
      "True\n",
      "True\n",
      "True\n",
      "True\n",
      "True\n",
      "True\n",
      "True\n",
      "True\n",
      "True\n",
      "True\n",
      "True\n",
      "True\n",
      "True\n",
      "True\n",
      "True\n",
      "True\n",
      "True\n",
      "True\n",
      "True\n",
      "True\n",
      "True\n",
      "True\n",
      "True\n",
      "True\n",
      "True\n",
      "True\n",
      "True\n",
      "True\n",
      "True\n",
      "True\n",
      "True\n",
      "True\n",
      "True\n",
      "True\n",
      "True\n",
      "True\n",
      "True\n",
      "True\n",
      "True\n",
      "True\n",
      "True\n",
      "True\n",
      "True\n",
      "True\n",
      "True\n",
      "True\n",
      "True\n",
      "True\n",
      "True\n",
      "True\n",
      "True\n",
      "True\n",
      "True\n",
      "True\n",
      "True\n",
      "True\n",
      "True\n",
      "True\n",
      "True\n",
      "True\n",
      "True\n",
      "True\n",
      "True\n",
      "True\n",
      "True\n",
      "True\n",
      "True\n",
      "True\n",
      "True\n",
      "True\n",
      "True\n",
      "True\n",
      "True\n",
      "True\n",
      "True\n",
      "True\n",
      "True\n",
      "True\n",
      "True\n",
      "True\n",
      "True\n",
      "True\n",
      "True\n",
      "True\n",
      "True\n",
      "True\n",
      "True\n",
      "True\n",
      "True\n",
      "True\n",
      "True\n",
      "True\n",
      "True\n",
      "True\n",
      "True\n",
      "True\n",
      "True\n",
      "True\n",
      "True\n",
      "True\n",
      "True\n",
      "True\n",
      "True\n",
      "True\n",
      "True\n",
      "True\n",
      "True\n",
      "True\n",
      "True\n",
      "True\n",
      "True\n",
      "True\n",
      "True\n",
      "True\n",
      "True\n",
      "True\n",
      "True\n",
      "True\n",
      "True\n",
      "True\n",
      "True\n",
      "True\n",
      "True\n",
      "True\n",
      "True\n",
      "True\n",
      "True\n",
      "True\n",
      "True\n",
      "True\n",
      "True\n",
      "True\n",
      "True\n",
      "True\n",
      "True\n",
      "True\n",
      "True\n",
      "True\n",
      "True\n",
      "True\n",
      "True\n",
      "True\n",
      "True\n",
      "True\n",
      "True\n",
      "True\n",
      "True\n",
      "True\n",
      "True\n",
      "True\n",
      "True\n",
      "True\n",
      "True\n",
      "True\n",
      "True\n",
      "True\n",
      "True\n",
      "True\n",
      "True\n",
      "True\n",
      "True\n",
      "True\n",
      "True\n",
      "True\n",
      "True\n",
      "True\n",
      "True\n",
      "True\n",
      "True\n",
      "True\n",
      "True\n",
      "True\n",
      "True\n",
      "True\n",
      "True\n",
      "True\n",
      "True\n",
      "True\n",
      "True\n",
      "True\n",
      "True\n",
      "True\n",
      "True\n",
      "True\n",
      "True\n",
      "True\n",
      "True\n",
      "True\n",
      "True\n",
      "True\n",
      "True\n",
      "True\n",
      "True\n",
      "True\n",
      "True\n",
      "True\n",
      "True\n",
      "True\n",
      "True\n",
      "True\n",
      "True\n",
      "True\n",
      "True\n",
      "True\n",
      "True\n",
      "True\n",
      "True\n",
      "True\n",
      "True\n",
      "True\n",
      "True\n",
      "True\n",
      "True\n",
      "True\n",
      "True\n",
      "True\n",
      "True\n",
      "True\n",
      "True\n",
      "True\n",
      "True\n",
      "True\n",
      "True\n",
      "True\n",
      "True\n",
      "True\n",
      "True\n",
      "True\n",
      "True\n",
      "True\n",
      "True\n",
      "True\n",
      "True\n",
      "True\n",
      "True\n",
      "True\n",
      "True\n",
      "True\n",
      "True\n",
      "True\n",
      "True\n",
      "True\n",
      "True\n",
      "True\n",
      "True\n",
      "True\n",
      "True\n",
      "True\n",
      "True\n",
      "True\n",
      "True\n",
      "True\n",
      "True\n",
      "True\n",
      "True\n",
      "True\n",
      "True\n",
      "True\n",
      "True\n",
      "True\n",
      "True\n",
      "True\n",
      "True\n",
      "True\n",
      "True\n",
      "True\n",
      "True\n",
      "True\n",
      "True\n",
      "True\n",
      "True\n",
      "True\n",
      "True\n",
      "True\n",
      "True\n",
      "True\n",
      "True\n",
      "True\n",
      "True\n",
      "True\n",
      "True\n",
      "True\n",
      "True\n",
      "True\n",
      "True\n",
      "True\n",
      "True\n",
      "True\n",
      "True\n",
      "True\n",
      "True\n",
      "True\n",
      "True\n",
      "True\n",
      "True\n",
      "True\n",
      "True\n",
      "True\n",
      "True\n",
      "True\n",
      "True\n",
      "True\n",
      "True\n",
      "True\n",
      "True\n",
      "True\n",
      "True\n",
      "True\n",
      "True\n",
      "True\n",
      "True\n",
      "True\n",
      "True\n",
      "True\n",
      "True\n",
      "True\n",
      "True\n",
      "True\n",
      "True\n",
      "True\n",
      "True\n",
      "True\n",
      "True\n",
      "True\n",
      "True\n",
      "True\n",
      "True\n",
      "True\n",
      "True\n",
      "True\n",
      "True\n",
      "True\n",
      "True\n",
      "True\n",
      "True\n",
      "True\n",
      "True\n",
      "True\n",
      "True\n",
      "True\n",
      "True\n",
      "True\n",
      "True\n",
      "True\n",
      "True\n",
      "True\n",
      "True\n",
      "True\n",
      "True\n",
      "True\n",
      "True\n",
      "True\n",
      "True\n",
      "True\n",
      "True\n",
      "True\n",
      "True\n",
      "True\n",
      "True\n",
      "True\n",
      "True\n",
      "True\n",
      "True\n",
      "True\n",
      "True\n",
      "True\n",
      "True\n",
      "True\n",
      "True\n",
      "True\n",
      "True\n",
      "True\n",
      "True\n",
      "True\n",
      "True\n",
      "True\n",
      "True\n",
      "True\n",
      "True\n",
      "True\n",
      "True\n",
      "False\n"
     ]
    }
   ],
   "source": [
    "while 'Unclear' in y_test:\n",
    "    y_test.remove('Unclear')"
   ]
  },
  {
   "cell_type": "code",
   "execution_count": 88,
   "id": "7a086561",
   "metadata": {},
   "outputs": [],
   "source": [
    "while 'Unclear' in new_pred:\n",
    "    new_pred.remove('Unclear')"
   ]
  },
  {
   "cell_type": "code",
   "execution_count": 89,
   "id": "7a52d2b6",
   "metadata": {},
   "outputs": [
    {
     "name": "stdout",
     "output_type": "stream",
     "text": [
      "              precision    recall  f1-score   support\n",
      "\n",
      "           0       0.82      0.79      0.80      1997\n",
      "           1       0.78      0.81      0.79      1849\n",
      "\n",
      "    accuracy                           0.80      3846\n",
      "   macro avg       0.80      0.80      0.80      3846\n",
      "weighted avg       0.80      0.80      0.80      3846\n",
      "\n"
     ]
    }
   ],
   "source": [
    "print(classification_report(new_pred, y_test))"
   ]
  },
  {
   "cell_type": "code",
   "execution_count": null,
   "id": "e92d8c47",
   "metadata": {},
   "outputs": [],
   "source": []
  }
 ],
 "metadata": {
  "kernelspec": {
   "display_name": "Python 3 (ipykernel)",
   "language": "python",
   "name": "python3"
  },
  "language_info": {
   "codemirror_mode": {
    "name": "ipython",
    "version": 3
   },
   "file_extension": ".py",
   "mimetype": "text/x-python",
   "name": "python",
   "nbconvert_exporter": "python",
   "pygments_lexer": "ipython3",
   "version": "3.9.7"
  }
 },
 "nbformat": 4,
 "nbformat_minor": 5
}
