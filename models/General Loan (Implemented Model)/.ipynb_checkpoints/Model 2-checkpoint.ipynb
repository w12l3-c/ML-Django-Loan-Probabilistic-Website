{
 "cells": [
  {
   "cell_type": "code",
   "execution_count": 1,
   "id": "22283009",
   "metadata": {},
   "outputs": [],
   "source": [
    "import numpy as np\n",
    "import pandas as pd\n",
    "import matplotlib.pyplot as plt\n",
    "import seaborn as sns\n",
    "%matplotlib inline\n",
    "\n",
    "from sklearn.preprocessing import MinMaxScaler\n",
    "\n",
    "from sklearn.model_selection import train_test_split\n",
    "from sklearn.linear_model import LogisticRegression\n",
    "from sklearn.ensemble import RandomForestClassifier\n",
    "from sklearn.metrics import confusion_matrix, classification_report"
   ]
  },
  {
   "cell_type": "code",
   "execution_count": 2,
   "id": "4eb7d51f",
   "metadata": {},
   "outputs": [],
   "source": [
    "df = pd.read_csv('Dataset 5.csv')"
   ]
  },
  {
   "cell_type": "markdown",
   "id": "17cef691",
   "metadata": {},
   "source": [
    "## Feature Engineering"
   ]
  },
  {
   "cell_type": "code",
   "execution_count": 3,
   "id": "0ba62e8e",
   "metadata": {},
   "outputs": [],
   "source": [
    "df.drop(['Unnamed: 0', 'MonthlyIncome', 'NumberOfDependents', 'age'], axis = 1, inplace = True)"
   ]
  },
  {
   "cell_type": "code",
   "execution_count": 4,
   "id": "efbccf26",
   "metadata": {},
   "outputs": [],
   "source": [
    "# renames columns to increase readability\n",
    "df.columns = ['Risky Borrower',\n",
    "              'Revolving Utilization',\n",
    "              'Late 1',\n",
    "              'Debt Ratio',\n",
    "              'Small Loans',\n",
    "              'Late 3',\n",
    "              'Real Estate Loans',\n",
    "              'Late 2']"
   ]
  },
  {
   "cell_type": "code",
   "execution_count": 5,
   "id": "42e59670",
   "metadata": {},
   "outputs": [],
   "source": [
    "def rem_outliers(val):\n",
    "    if val > 1 and val < 10:\n",
    "        return val / 10\n",
    "    elif val > 10 and val < 100:\n",
    "        return val / 100\n",
    "    elif val > 100 and val < 1000:\n",
    "        return val / 1000\n",
    "    elif val > 1000 and val < 10000:\n",
    "        return val / 10000\n",
    "    elif val > 10000:\n",
    "        return val / 100000\n",
    "    else:\n",
    "        return val"
   ]
  },
  {
   "cell_type": "code",
   "execution_count": 6,
   "id": "ef63ae76",
   "metadata": {},
   "outputs": [],
   "source": [
    "df['Revolving Utilization'] = df['Revolving Utilization'].apply(lambda x: rem_outliers(x))"
   ]
  },
  {
   "cell_type": "code",
   "execution_count": 7,
   "id": "156d2fc2",
   "metadata": {},
   "outputs": [],
   "source": [
    "df['Debt Ratio'] = df['Debt Ratio'].apply(lambda x: rem_outliers(x))"
   ]
  },
  {
   "cell_type": "code",
   "execution_count": 8,
   "id": "54186714",
   "metadata": {},
   "outputs": [],
   "source": [
    "df.drop(df[(df['Late 1'] > 20) | (df['Late 2'] > 20) | (df['Late 3'] > 20)].index, inplace = True)"
   ]
  },
  {
   "cell_type": "code",
   "execution_count": 9,
   "id": "e3b59192",
   "metadata": {},
   "outputs": [],
   "source": [
    "df['Light Delinquencies'] = df['Late 1'] + df['Late 2']\n",
    "df['Serious Delinquencies'] = df['Late 3']"
   ]
  },
  {
   "cell_type": "code",
   "execution_count": 10,
   "id": "06a5b758",
   "metadata": {
    "scrolled": false
   },
   "outputs": [],
   "source": [
    "df.drop(index = df[(df['Small Loans'] > 20) | (df['Real Estate Loans'] > 6)].index, inplace = True)"
   ]
  },
  {
   "cell_type": "code",
   "execution_count": 11,
   "id": "48d006d1",
   "metadata": {},
   "outputs": [],
   "source": [
    "lst = []\n",
    "for x in df.index:\n",
    "    if df['Small Loans'][x] + df['Real Estate Loans'][x] == 0:\n",
    "        lst.append(0)\n",
    "    else:\n",
    "        lst.append((df['Light Delinquencies'][x] + df['Serious Delinquencies'][x]) / (df['Small Loans'][x] + df['Real Estate Loans'][x]))"
   ]
  },
  {
   "cell_type": "code",
   "execution_count": 12,
   "id": "1fadc61b",
   "metadata": {},
   "outputs": [],
   "source": [
    "for x in lst:\n",
    "    if x > 1:\n",
    "        x = 1"
   ]
  },
  {
   "cell_type": "code",
   "execution_count": 13,
   "id": "f9cf3730",
   "metadata": {},
   "outputs": [],
   "source": [
    "df['Percent Ever Delinquent'] = lst"
   ]
  },
  {
   "cell_type": "code",
   "execution_count": 14,
   "id": "aa11c0e4",
   "metadata": {},
   "outputs": [],
   "source": [
    "df.drop(['Late 1', 'Late 2', 'Late 3', 'Small Loans', 'Real Estate Loans'], axis = 1, inplace = True)"
   ]
  },
  {
   "cell_type": "code",
   "execution_count": 15,
   "id": "7e07290a",
   "metadata": {},
   "outputs": [],
   "source": [
    "# dataset is skewed; too many 0 vals relative to 1 vals\n",
    "\n",
    "sub1 = df[df['Risky Borrower'] == 0].sample(n = 9000)\n",
    "sub2 = df[df['Risky Borrower'] == 1].sample(n = 9000)\n",
    "sample = pd.concat([sub1, sub2])\n",
    "sample.reset_index(inplace = True)\n",
    "sample.drop('index', axis = 1, inplace = True)"
   ]
  },
  {
   "cell_type": "code",
   "execution_count": 16,
   "id": "3cac688a",
   "metadata": {},
   "outputs": [],
   "source": [
    "sample.to_csv('Cleaned Data')"
   ]
  },
  {
   "cell_type": "markdown",
   "id": "37e256dc",
   "metadata": {},
   "source": [
    "# Test"
   ]
  },
  {
   "cell_type": "code",
   "execution_count": 17,
   "id": "39839655",
   "metadata": {},
   "outputs": [],
   "source": [
    "X = sample.drop('Risky Borrower', axis = 1)\n",
    "y = sample['Risky Borrower']"
   ]
  },
  {
   "cell_type": "code",
   "execution_count": 18,
   "id": "81c5788d",
   "metadata": {},
   "outputs": [],
   "source": [
    "X_train, X_test, y_train, y_test = train_test_split(X, y, test_size = 0.25, random_state = 0)"
   ]
  },
  {
   "cell_type": "code",
   "execution_count": 19,
   "id": "8fc7f6c6",
   "metadata": {},
   "outputs": [],
   "source": [
    "model = LogisticRegression()"
   ]
  },
  {
   "cell_type": "code",
   "execution_count": 20,
   "id": "a9be2751",
   "metadata": {},
   "outputs": [
    {
     "data": {
      "text/plain": [
       "LogisticRegression()"
      ]
     },
     "execution_count": 20,
     "metadata": {},
     "output_type": "execute_result"
    }
   ],
   "source": [
    "model.fit(X_train, y_train)"
   ]
  },
  {
   "cell_type": "code",
   "execution_count": 264,
   "id": "c7257d06",
   "metadata": {},
   "outputs": [],
   "source": [
    "model.coef_ = np.array([[1.73453, 1.3275, 0.191847, 0.39283, 1.94902]])"
   ]
  },
  {
   "cell_type": "code",
   "execution_count": 265,
   "id": "8430eb1d",
   "metadata": {},
   "outputs": [],
   "source": [
    "pred = model.predict(X_test)"
   ]
  },
  {
   "cell_type": "code",
   "execution_count": 266,
   "id": "33b8bfe7",
   "metadata": {},
   "outputs": [
    {
     "name": "stdout",
     "output_type": "stream",
     "text": [
      "[[1698  514]\n",
      " [ 567 1721]]\n"
     ]
    }
   ],
   "source": [
    "print(confusion_matrix(y_test, pred))"
   ]
  },
  {
   "cell_type": "code",
   "execution_count": 267,
   "id": "a92a6068",
   "metadata": {},
   "outputs": [
    {
     "name": "stdout",
     "output_type": "stream",
     "text": [
      "              precision    recall  f1-score   support\n",
      "\n",
      "           0       0.75      0.77      0.76      2212\n",
      "           1       0.77      0.75      0.76      2288\n",
      "\n",
      "    accuracy                           0.76      4500\n",
      "   macro avg       0.76      0.76      0.76      4500\n",
      "weighted avg       0.76      0.76      0.76      4500\n",
      "\n"
     ]
    }
   ],
   "source": [
    "print(classification_report(y_test, pred))"
   ]
  },
  {
   "cell_type": "code",
   "execution_count": 289,
   "id": "a884742e",
   "metadata": {},
   "outputs": [],
   "source": [
    "test = pd.DataFrame(data = [[0, 0, 0, 0, 0]], columns = sample.drop('Risky Borrower', axis = 1).columns)"
   ]
  },
  {
   "cell_type": "code",
   "execution_count": 290,
   "id": "5a9957b6",
   "metadata": {},
   "outputs": [
    {
     "name": "stdout",
     "output_type": "stream",
     "text": [
      "0.17593625618354905\n",
      "You will likely be classified by lending institutions as a safe borrower.\n",
      "Model Conviction: HIGH\n"
     ]
    }
   ],
   "source": [
    "print(model.predict_proba(test)[0][1])\n",
    "if model.predict_proba(test)[0][1] > 0.6:\n",
    "    print('You will likely be classified by lending insitutions as a risky borrower.')\n",
    "    if model.predict_proba(test)[0][1] > 0.8:\n",
    "        print('Model Conviction: HIGH')\n",
    "elif model.predict_proba(test)[0][1]:\n",
    "    print('You will likely be classified by lending institutions as a safe borrower.')\n",
    "    if model.predict_proba(test)[0][1] < 0.2:\n",
    "        print('Model Conviction: HIGH')\n",
    "else:\n",
    "    print('Based on the feature you have inputted, it is unclear whether you will be classified as safe or risky. Your classification may depend on other factors.')"
   ]
  },
  {
   "cell_type": "code",
   "execution_count": null,
   "id": "c0b0d5d9",
   "metadata": {},
   "outputs": [],
   "source": []
  }
 ],
 "metadata": {
  "kernelspec": {
   "display_name": "Python 3 (ipykernel)",
   "language": "python",
   "name": "python3"
  },
  "language_info": {
   "codemirror_mode": {
    "name": "ipython",
    "version": 3
   },
   "file_extension": ".py",
   "mimetype": "text/x-python",
   "name": "python",
   "nbconvert_exporter": "python",
   "pygments_lexer": "ipython3",
   "version": "3.9.7"
  }
 },
 "nbformat": 4,
 "nbformat_minor": 5
}
