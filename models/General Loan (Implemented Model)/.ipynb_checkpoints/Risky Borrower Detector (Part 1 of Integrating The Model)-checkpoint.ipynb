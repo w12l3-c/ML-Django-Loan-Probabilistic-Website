{
 "cells": [
  {
   "cell_type": "code",
   "execution_count": 1,
   "id": "3e103ed6",
   "metadata": {},
   "outputs": [],
   "source": [
    "# Imports\n",
    "import numpy as np\n",
    "import pandas as pd\n",
    "from sklearn.preprocessing import MinMaxScaler\n",
    "from sklearn.linear_model import LogisticRegression"
   ]
  },
  {
   "cell_type": "code",
   "execution_count": 2,
   "id": "4eb7d51f",
   "metadata": {},
   "outputs": [],
   "source": [
    "# Data\n",
    "df = pd.read_csv('Cleaned Data')\n",
    "df.drop('Unnamed: 0', axis = 1, inplace = True)"
   ]
  },
  {
   "cell_type": "code",
   "execution_count": 3,
   "id": "a884742e",
   "metadata": {},
   "outputs": [],
   "source": [
    "# User Inputted Values\n",
    "test = pd.DataFrame(data = [[1, 1, 1, 1, 100]], columns = df.drop('Risky Borrower', axis = 1).columns)"
   ]
  },
  {
   "cell_type": "code",
   "execution_count": 4,
   "id": "9aed7fee",
   "metadata": {},
   "outputs": [
    {
     "data": {
      "text/html": [
       "<div>\n",
       "<style scoped>\n",
       "    .dataframe tbody tr th:only-of-type {\n",
       "        vertical-align: middle;\n",
       "    }\n",
       "\n",
       "    .dataframe tbody tr th {\n",
       "        vertical-align: top;\n",
       "    }\n",
       "\n",
       "    .dataframe thead th {\n",
       "        text-align: right;\n",
       "    }\n",
       "</style>\n",
       "<table border=\"1\" class=\"dataframe\">\n",
       "  <thead>\n",
       "    <tr style=\"text-align: right;\">\n",
       "      <th></th>\n",
       "      <th>Risky Borrower</th>\n",
       "      <th>Revolving Utilization</th>\n",
       "      <th>Debt Ratio</th>\n",
       "      <th>Light Delinquencies</th>\n",
       "      <th>Serious Delinquencies</th>\n",
       "      <th>Percent Ever Delinquent</th>\n",
       "    </tr>\n",
       "  </thead>\n",
       "  <tbody>\n",
       "    <tr>\n",
       "      <th>0</th>\n",
       "      <td>0</td>\n",
       "      <td>0.100614</td>\n",
       "      <td>0.169609</td>\n",
       "      <td>6</td>\n",
       "      <td>0</td>\n",
       "      <td>100.000000</td>\n",
       "    </tr>\n",
       "    <tr>\n",
       "      <th>1</th>\n",
       "      <td>0</td>\n",
       "      <td>0.043283</td>\n",
       "      <td>0.111000</td>\n",
       "      <td>0</td>\n",
       "      <td>0</td>\n",
       "      <td>0.000000</td>\n",
       "    </tr>\n",
       "    <tr>\n",
       "      <th>2</th>\n",
       "      <td>0</td>\n",
       "      <td>0.023324</td>\n",
       "      <td>0.250250</td>\n",
       "      <td>0</td>\n",
       "      <td>0</td>\n",
       "      <td>0.000000</td>\n",
       "    </tr>\n",
       "    <tr>\n",
       "      <th>3</th>\n",
       "      <td>0</td>\n",
       "      <td>0.943450</td>\n",
       "      <td>0.281802</td>\n",
       "      <td>0</td>\n",
       "      <td>0</td>\n",
       "      <td>0.000000</td>\n",
       "    </tr>\n",
       "    <tr>\n",
       "      <th>4</th>\n",
       "      <td>0</td>\n",
       "      <td>0.000000</td>\n",
       "      <td>0.000000</td>\n",
       "      <td>0</td>\n",
       "      <td>0</td>\n",
       "      <td>0.000000</td>\n",
       "    </tr>\n",
       "    <tr>\n",
       "      <th>...</th>\n",
       "      <td>...</td>\n",
       "      <td>...</td>\n",
       "      <td>...</td>\n",
       "      <td>...</td>\n",
       "      <td>...</td>\n",
       "      <td>...</td>\n",
       "    </tr>\n",
       "    <tr>\n",
       "      <th>17995</th>\n",
       "      <td>1</td>\n",
       "      <td>0.892931</td>\n",
       "      <td>0.399769</td>\n",
       "      <td>3</td>\n",
       "      <td>0</td>\n",
       "      <td>20.000000</td>\n",
       "    </tr>\n",
       "    <tr>\n",
       "      <th>17996</th>\n",
       "      <td>1</td>\n",
       "      <td>0.134394</td>\n",
       "      <td>0.071774</td>\n",
       "      <td>2</td>\n",
       "      <td>0</td>\n",
       "      <td>15.384615</td>\n",
       "    </tr>\n",
       "    <tr>\n",
       "      <th>17997</th>\n",
       "      <td>1</td>\n",
       "      <td>1.000000</td>\n",
       "      <td>0.378333</td>\n",
       "      <td>0</td>\n",
       "      <td>1</td>\n",
       "      <td>33.333333</td>\n",
       "    </tr>\n",
       "    <tr>\n",
       "      <th>17998</th>\n",
       "      <td>1</td>\n",
       "      <td>0.775941</td>\n",
       "      <td>0.954662</td>\n",
       "      <td>0</td>\n",
       "      <td>0</td>\n",
       "      <td>0.000000</td>\n",
       "    </tr>\n",
       "    <tr>\n",
       "      <th>17999</th>\n",
       "      <td>1</td>\n",
       "      <td>0.918945</td>\n",
       "      <td>0.313000</td>\n",
       "      <td>3</td>\n",
       "      <td>0</td>\n",
       "      <td>42.857143</td>\n",
       "    </tr>\n",
       "  </tbody>\n",
       "</table>\n",
       "<p>18000 rows × 6 columns</p>\n",
       "</div>"
      ],
      "text/plain": [
       "       Risky Borrower  Revolving Utilization  Debt Ratio  Light Delinquencies  \\\n",
       "0                   0               0.100614    0.169609                    6   \n",
       "1                   0               0.043283    0.111000                    0   \n",
       "2                   0               0.023324    0.250250                    0   \n",
       "3                   0               0.943450    0.281802                    0   \n",
       "4                   0               0.000000    0.000000                    0   \n",
       "...               ...                    ...         ...                  ...   \n",
       "17995               1               0.892931    0.399769                    3   \n",
       "17996               1               0.134394    0.071774                    2   \n",
       "17997               1               1.000000    0.378333                    0   \n",
       "17998               1               0.775941    0.954662                    0   \n",
       "17999               1               0.918945    0.313000                    3   \n",
       "\n",
       "       Serious Delinquencies  Percent Ever Delinquent  \n",
       "0                          0               100.000000  \n",
       "1                          0                 0.000000  \n",
       "2                          0                 0.000000  \n",
       "3                          0                 0.000000  \n",
       "4                          0                 0.000000  \n",
       "...                      ...                      ...  \n",
       "17995                      0                20.000000  \n",
       "17996                      0                15.384615  \n",
       "17997                      1                33.333333  \n",
       "17998                      0                 0.000000  \n",
       "17999                      0                42.857143  \n",
       "\n",
       "[18000 rows x 6 columns]"
      ]
     },
     "execution_count": 4,
     "metadata": {},
     "output_type": "execute_result"
    }
   ],
   "source": [
    "df"
   ]
  },
  {
   "cell_type": "code",
   "execution_count": 5,
   "id": "8f59b543",
   "metadata": {},
   "outputs": [],
   "source": [
    "# Scaler Instantiation\n",
    "scaler = MinMaxScaler()"
   ]
  },
  {
   "cell_type": "code",
   "execution_count": 6,
   "id": "1ed7400e",
   "metadata": {},
   "outputs": [],
   "source": [
    "# Scaling of Features + Separating Features From Target\n",
    "X = df.drop('Risky Borrower', axis = 1).append(test, ignore_index = True)\n",
    "X = scaler.fit_transform(X)\n",
    "y = df['Risky Borrower']"
   ]
  },
  {
   "cell_type": "code",
   "execution_count": 7,
   "id": "3ff1b032",
   "metadata": {},
   "outputs": [],
   "source": [
    "# Separating User Inputted Value From Train Set\n",
    "test.loc[0] = X[-1]\n",
    "X = X[:-1]"
   ]
  },
  {
   "cell_type": "code",
   "execution_count": 8,
   "id": "8fc7f6c6",
   "metadata": {},
   "outputs": [],
   "source": [
    "# Model Instantiation\n",
    "model = LogisticRegression()"
   ]
  },
  {
   "cell_type": "code",
   "execution_count": 9,
   "id": "a9be2751",
   "metadata": {},
   "outputs": [
    {
     "data": {
      "text/plain": [
       "LogisticRegression()"
      ]
     },
     "execution_count": 9,
     "metadata": {},
     "output_type": "execute_result"
    }
   ],
   "source": [
    "# Model Training\n",
    "model.fit(df.drop('Risky Borrower', axis = 1), df['Risky Borrower'])"
   ]
  },
  {
   "cell_type": "code",
   "execution_count": 10,
   "id": "6afc0cad",
   "metadata": {},
   "outputs": [],
   "source": [
    "# Manual Coefficient Selection (based on prior tests) \n",
    "model.coef_ = np.array([[1.2161838, 132.85124146, 2.82177439, 4.45186543,  9.03341318]])"
   ]
  },
  {
   "cell_type": "code",
   "execution_count": 11,
   "id": "5a9957b6",
   "metadata": {},
   "outputs": [
    {
     "name": "stdout",
     "output_type": "stream",
     "text": [
      "0.9999743706148391\n",
      "You will likely be classified by lending insitutions as a risky borrower.\n",
      "Model Conviction: HIGH\n"
     ]
    }
   ],
   "source": [
    "# Risky Borrower Detector\n",
    "print(model.predict_proba(test)[0][1])\n",
    "if model.predict_proba(test)[0][1] > 0.5:\n",
    "    print('You will likely be classified by lending insitutions as a risky borrower.')\n",
    "    if model.predict_proba(test)[0][1] > 0.7:\n",
    "        print('Model Conviction: HIGH')\n",
    "    elif model.predict_proba(test)[0][1] > 0.6:\n",
    "        print('Model Conviction: MEDIUM')\n",
    "    else:\n",
    "        print('Model Conviction: LOW')\n",
    "else:\n",
    "    print('You will likely be classified by lending institutions as a safe borrower.')\n",
    "    if model.predict_proba(test)[0][1] < 0.3:\n",
    "        print('Model Conviction: HIGH')\n",
    "    elif model.predict_proba(test)[0][1] < 0.4:\n",
    "        print('Model Conviction: MEDIUM')\n",
    "    else:\n",
    "        print('Model Conviction: LOW')"
   ]
  },
  {
   "cell_type": "code",
   "execution_count": null,
   "id": "a1d11dec",
   "metadata": {},
   "outputs": [],
   "source": []
  }
 ],
 "metadata": {
  "kernelspec": {
   "display_name": "Python 3 (ipykernel)",
   "language": "python",
   "name": "python3"
  },
  "language_info": {
   "codemirror_mode": {
    "name": "ipython",
    "version": 3
   },
   "file_extension": ".py",
   "mimetype": "text/x-python",
   "name": "python",
   "nbconvert_exporter": "python",
   "pygments_lexer": "ipython3",
   "version": "3.9.7"
  }
 },
 "nbformat": 4,
 "nbformat_minor": 5
}
