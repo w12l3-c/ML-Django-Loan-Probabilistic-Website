{
 "cells": [
  {
   "cell_type": "code",
   "execution_count": 1,
   "id": "8c6f2665",
   "metadata": {},
   "outputs": [],
   "source": [
    "# Imports\n",
    "import numpy as np\n",
    "import pandas as pd\n",
    "from sklearn.preprocessing import MinMaxScaler\n",
    "from sklearn.linear_model import LogisticRegression"
   ]
  },
  {
   "cell_type": "code",
   "execution_count": 2,
   "id": "8a901492",
   "metadata": {},
   "outputs": [],
   "source": [
    "# Data\n",
    "df = pd.read_csv('Cleaned Data 2')\n",
    "df.drop('Unnamed: 0', axis = 1, inplace = True)"
   ]
  },
  {
   "cell_type": "code",
   "execution_count": 19,
   "id": "acaf74da",
   "metadata": {},
   "outputs": [],
   "source": [
    "# User Inputted Values\n",
    "test = pd.DataFrame(data = [[680, 0, 10, 10000, 1, 1, 0, 1, 0, 0, 0, 0, 1, 0, 0, 1]], columns = df.drop('Delinquent', axis = 1).columns)"
   ]
  },
  {
   "cell_type": "code",
   "execution_count": 20,
   "id": "65f27e9d",
   "metadata": {},
   "outputs": [],
   "source": [
    "# Scaler Instantiation\n",
    "scaler = MinMaxScaler()"
   ]
  },
  {
   "cell_type": "code",
   "execution_count": 21,
   "id": "1ae3db3b",
   "metadata": {},
   "outputs": [],
   "source": [
    "# Scaling of Features + Separating Features From Target\n",
    "X = df.drop('Delinquent', axis = 1).append(test, ignore_index = True)\n",
    "X = scaler.fit_transform(X)\n",
    "y = df['Delinquent']"
   ]
  },
  {
   "cell_type": "code",
   "execution_count": 22,
   "id": "dd1921d2",
   "metadata": {},
   "outputs": [],
   "source": [
    "# Separating User Inputted Value From Train Set\n",
    "test.loc[0] = X[-1]\n",
    "X = X[:-1]"
   ]
  },
  {
   "cell_type": "code",
   "execution_count": 23,
   "id": "873d5ed5",
   "metadata": {},
   "outputs": [],
   "source": [
    "# Model Instantiation\n",
    "model = LogisticRegression(max_iter = 1000)"
   ]
  },
  {
   "cell_type": "code",
   "execution_count": 24,
   "id": "69c8e975",
   "metadata": {},
   "outputs": [
    {
     "data": {
      "text/plain": [
       "LogisticRegression(max_iter=1000)"
      ]
     },
     "execution_count": 24,
     "metadata": {},
     "output_type": "execute_result"
    }
   ],
   "source": [
    "# Model Training\n",
    "model.fit(X, y)"
   ]
  },
  {
   "cell_type": "code",
   "execution_count": 25,
   "id": "3d11eda4",
   "metadata": {},
   "outputs": [],
   "source": [
    "# Manual Coefficient Selection (based on prior tests) \n",
    "model.coef_ = np.array([[-9.57776116e+00, -6.84570883e-02,  1.06148006e+00, -3.05934753e+00,  8.97068608e-01, -7.74302081e-01, 2.65133660e-01, -1.02757117e-01, -1.56238705e-01, -3.91634695e-01,  1.43808361e+00, -2.70657859e-02, 2.56514945e-01, -2.85111041e-04,  4.94913571e-02, -4.30684080e-02]])"
   ]
  },
  {
   "cell_type": "code",
   "execution_count": 26,
   "id": "16952bb8",
   "metadata": {},
   "outputs": [
    {
     "name": "stdout",
     "output_type": "stream",
     "text": [
      "0.8220745787075528\n",
      "You will likely be classified by lending insitutions as a risky borrower.\n",
      "Model Conviction: HIGH\n"
     ]
    }
   ],
   "source": [
    "# Risky Borrower Detector\n",
    "print(model.predict_proba(test)[0][1])\n",
    "if model.predict_proba(test)[0][1] > 0.5:\n",
    "    print('You will likely be classified by lending insitutions as a risky borrower.')\n",
    "    if model.predict_proba(test)[0][1] > 0.7:\n",
    "        print('Model Conviction: HIGH')\n",
    "else:\n",
    "    print('You will likely be classified by lending institutions as a safe borrower.')\n",
    "    if model.predict_proba(test)[0][1] < 0.2:\n",
    "        print('Model Conviction: HIGH')"
   ]
  },
  {
   "cell_type": "code",
   "execution_count": null,
   "id": "e96c872f",
   "metadata": {},
   "outputs": [],
   "source": []
  }
 ],
 "metadata": {
  "kernelspec": {
   "display_name": "Python 3 (ipykernel)",
   "language": "python",
   "name": "python3"
  },
  "language_info": {
   "codemirror_mode": {
    "name": "ipython",
    "version": 3
   },
   "file_extension": ".py",
   "mimetype": "text/x-python",
   "name": "python",
   "nbconvert_exporter": "python",
   "pygments_lexer": "ipython3",
   "version": "3.9.7"
  }
 },
 "nbformat": 4,
 "nbformat_minor": 5
}
