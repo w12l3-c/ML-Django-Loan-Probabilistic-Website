{
 "cells": [
  {
   "cell_type": "markdown",
   "id": "0c390ef2",
   "metadata": {},
   "source": [
    "This model was a preliminary attempt at tackling the Lending Club Dataset. It was, in a word, unsuccessful. We encoutnered numerous challenges in the process, the first of which was the vast bulk of data supplied. Furthermore, the dataset had to be comrpehensviely altered to fit our particular purpose. For instance, numerous columns had to be dropped since they would be unknown at the point of loan approval. The vast swaths of missing values in numerous key features and the bulk of object type features also made the task more challenging. Model 3 is better at modelling this dataset."
   ]
  },
  {
   "cell_type": "code",
   "execution_count": 1,
   "id": "ef1b038a",
   "metadata": {},
   "outputs": [],
   "source": [
    "import numpy as np\n",
    "import pandas as pd\n",
    "import matplotlib.pyplot as plt\n",
    "import seaborn as sns"
   ]
  },
  {
   "cell_type": "code",
   "execution_count": 2,
   "id": "6021e107",
   "metadata": {},
   "outputs": [],
   "source": [
    "df = pd.read_csv('Dataset 2.gzip', low_memory = False)"
   ]
  },
  {
   "cell_type": "code",
   "execution_count": 3,
   "id": "027015bd",
   "metadata": {},
   "outputs": [
    {
     "data": {
      "text/html": [
       "<div>\n",
       "<style scoped>\n",
       "    .dataframe tbody tr th:only-of-type {\n",
       "        vertical-align: middle;\n",
       "    }\n",
       "\n",
       "    .dataframe tbody tr th {\n",
       "        vertical-align: top;\n",
       "    }\n",
       "\n",
       "    .dataframe thead th {\n",
       "        text-align: right;\n",
       "    }\n",
       "</style>\n",
       "<table border=\"1\" class=\"dataframe\">\n",
       "  <thead>\n",
       "    <tr style=\"text-align: right;\">\n",
       "      <th></th>\n",
       "      <th>Unnamed: 0</th>\n",
       "      <th>id</th>\n",
       "      <th>loan_amnt</th>\n",
       "      <th>funded_amnt</th>\n",
       "      <th>funded_amnt_inv</th>\n",
       "      <th>term</th>\n",
       "      <th>int_rate</th>\n",
       "      <th>installment</th>\n",
       "      <th>grade</th>\n",
       "      <th>sub_grade</th>\n",
       "      <th>...</th>\n",
       "      <th>hardship_start_date</th>\n",
       "      <th>hardship_end_date</th>\n",
       "      <th>payment_plan_start_date</th>\n",
       "      <th>hardship_length</th>\n",
       "      <th>hardship_dpd</th>\n",
       "      <th>hardship_loan_status</th>\n",
       "      <th>orig_projected_additional_accrued_interest</th>\n",
       "      <th>hardship_payoff_balance_amount</th>\n",
       "      <th>hardship_last_payment_amount</th>\n",
       "      <th>debt_settlement_flag</th>\n",
       "    </tr>\n",
       "  </thead>\n",
       "  <tbody>\n",
       "    <tr>\n",
       "      <th>0</th>\n",
       "      <td>0</td>\n",
       "      <td>1077501</td>\n",
       "      <td>5000.0</td>\n",
       "      <td>5000.0</td>\n",
       "      <td>4975.0</td>\n",
       "      <td>36 months</td>\n",
       "      <td>10.65%</td>\n",
       "      <td>162.87</td>\n",
       "      <td>B</td>\n",
       "      <td>B2</td>\n",
       "      <td>...</td>\n",
       "      <td>NaN</td>\n",
       "      <td>NaN</td>\n",
       "      <td>NaN</td>\n",
       "      <td>NaN</td>\n",
       "      <td>NaN</td>\n",
       "      <td>NaN</td>\n",
       "      <td>NaN</td>\n",
       "      <td>NaN</td>\n",
       "      <td>NaN</td>\n",
       "      <td>N</td>\n",
       "    </tr>\n",
       "    <tr>\n",
       "      <th>1</th>\n",
       "      <td>1</td>\n",
       "      <td>1077430</td>\n",
       "      <td>2500.0</td>\n",
       "      <td>2500.0</td>\n",
       "      <td>2500.0</td>\n",
       "      <td>60 months</td>\n",
       "      <td>15.27%</td>\n",
       "      <td>59.83</td>\n",
       "      <td>C</td>\n",
       "      <td>C4</td>\n",
       "      <td>...</td>\n",
       "      <td>NaN</td>\n",
       "      <td>NaN</td>\n",
       "      <td>NaN</td>\n",
       "      <td>NaN</td>\n",
       "      <td>NaN</td>\n",
       "      <td>NaN</td>\n",
       "      <td>NaN</td>\n",
       "      <td>NaN</td>\n",
       "      <td>NaN</td>\n",
       "      <td>N</td>\n",
       "    </tr>\n",
       "    <tr>\n",
       "      <th>2</th>\n",
       "      <td>2</td>\n",
       "      <td>1077175</td>\n",
       "      <td>2400.0</td>\n",
       "      <td>2400.0</td>\n",
       "      <td>2400.0</td>\n",
       "      <td>36 months</td>\n",
       "      <td>15.96%</td>\n",
       "      <td>84.33</td>\n",
       "      <td>C</td>\n",
       "      <td>C5</td>\n",
       "      <td>...</td>\n",
       "      <td>NaN</td>\n",
       "      <td>NaN</td>\n",
       "      <td>NaN</td>\n",
       "      <td>NaN</td>\n",
       "      <td>NaN</td>\n",
       "      <td>NaN</td>\n",
       "      <td>NaN</td>\n",
       "      <td>NaN</td>\n",
       "      <td>NaN</td>\n",
       "      <td>N</td>\n",
       "    </tr>\n",
       "    <tr>\n",
       "      <th>3</th>\n",
       "      <td>3</td>\n",
       "      <td>1076863</td>\n",
       "      <td>10000.0</td>\n",
       "      <td>10000.0</td>\n",
       "      <td>10000.0</td>\n",
       "      <td>36 months</td>\n",
       "      <td>13.49%</td>\n",
       "      <td>339.31</td>\n",
       "      <td>C</td>\n",
       "      <td>C1</td>\n",
       "      <td>...</td>\n",
       "      <td>NaN</td>\n",
       "      <td>NaN</td>\n",
       "      <td>NaN</td>\n",
       "      <td>NaN</td>\n",
       "      <td>NaN</td>\n",
       "      <td>NaN</td>\n",
       "      <td>NaN</td>\n",
       "      <td>NaN</td>\n",
       "      <td>NaN</td>\n",
       "      <td>N</td>\n",
       "    </tr>\n",
       "    <tr>\n",
       "      <th>4</th>\n",
       "      <td>4</td>\n",
       "      <td>1075358</td>\n",
       "      <td>3000.0</td>\n",
       "      <td>3000.0</td>\n",
       "      <td>3000.0</td>\n",
       "      <td>60 months</td>\n",
       "      <td>12.69%</td>\n",
       "      <td>67.79</td>\n",
       "      <td>B</td>\n",
       "      <td>B5</td>\n",
       "      <td>...</td>\n",
       "      <td>NaN</td>\n",
       "      <td>NaN</td>\n",
       "      <td>NaN</td>\n",
       "      <td>NaN</td>\n",
       "      <td>NaN</td>\n",
       "      <td>NaN</td>\n",
       "      <td>NaN</td>\n",
       "      <td>NaN</td>\n",
       "      <td>NaN</td>\n",
       "      <td>N</td>\n",
       "    </tr>\n",
       "  </tbody>\n",
       "</table>\n",
       "<p>5 rows × 142 columns</p>\n",
       "</div>"
      ],
      "text/plain": [
       "   Unnamed: 0       id  loan_amnt  funded_amnt  funded_amnt_inv        term  \\\n",
       "0           0  1077501     5000.0       5000.0           4975.0   36 months   \n",
       "1           1  1077430     2500.0       2500.0           2500.0   60 months   \n",
       "2           2  1077175     2400.0       2400.0           2400.0   36 months   \n",
       "3           3  1076863    10000.0      10000.0          10000.0   36 months   \n",
       "4           4  1075358     3000.0       3000.0           3000.0   60 months   \n",
       "\n",
       "  int_rate  installment grade sub_grade  ... hardship_start_date  \\\n",
       "0   10.65%       162.87     B        B2  ...                 NaN   \n",
       "1   15.27%        59.83     C        C4  ...                 NaN   \n",
       "2   15.96%        84.33     C        C5  ...                 NaN   \n",
       "3   13.49%       339.31     C        C1  ...                 NaN   \n",
       "4   12.69%        67.79     B        B5  ...                 NaN   \n",
       "\n",
       "  hardship_end_date payment_plan_start_date  hardship_length hardship_dpd  \\\n",
       "0               NaN                     NaN              NaN          NaN   \n",
       "1               NaN                     NaN              NaN          NaN   \n",
       "2               NaN                     NaN              NaN          NaN   \n",
       "3               NaN                     NaN              NaN          NaN   \n",
       "4               NaN                     NaN              NaN          NaN   \n",
       "\n",
       "  hardship_loan_status orig_projected_additional_accrued_interest  \\\n",
       "0                  NaN                                        NaN   \n",
       "1                  NaN                                        NaN   \n",
       "2                  NaN                                        NaN   \n",
       "3                  NaN                                        NaN   \n",
       "4                  NaN                                        NaN   \n",
       "\n",
       "  hardship_payoff_balance_amount hardship_last_payment_amount  \\\n",
       "0                            NaN                          NaN   \n",
       "1                            NaN                          NaN   \n",
       "2                            NaN                          NaN   \n",
       "3                            NaN                          NaN   \n",
       "4                            NaN                          NaN   \n",
       "\n",
       "  debt_settlement_flag  \n",
       "0                    N  \n",
       "1                    N  \n",
       "2                    N  \n",
       "3                    N  \n",
       "4                    N  \n",
       "\n",
       "[5 rows x 142 columns]"
      ]
     },
     "execution_count": 3,
     "metadata": {},
     "output_type": "execute_result"
    }
   ],
   "source": [
    "df.head()"
   ]
  },
  {
   "cell_type": "code",
   "execution_count": 4,
   "id": "fca07ed2",
   "metadata": {
    "scrolled": true
   },
   "outputs": [
    {
     "name": "stdout",
     "output_type": "stream",
     "text": [
      "<class 'pandas.core.frame.DataFrame'>\n",
      "RangeIndex: 2925493 entries, 0 to 2925492\n",
      "Columns: 142 entries, Unnamed: 0 to debt_settlement_flag\n",
      "dtypes: float64(106), int64(1), object(35)\n",
      "memory usage: 3.1+ GB\n"
     ]
    }
   ],
   "source": [
    "df.info()"
   ]
  },
  {
   "cell_type": "markdown",
   "id": "dcf63f30",
   "metadata": {},
   "source": [
    "## Creating A Target Feature"
   ]
  },
  {
   "cell_type": "code",
   "execution_count": 5,
   "id": "4aed4b7d",
   "metadata": {},
   "outputs": [
    {
     "data": {
      "text/plain": [
       "0           Fully Paid\n",
       "1          Charged Off\n",
       "2           Fully Paid\n",
       "3           Fully Paid\n",
       "4           Fully Paid\n",
       "              ...     \n",
       "2925488    Charged Off\n",
       "2925489     Fully Paid\n",
       "2925490    Charged Off\n",
       "2925491     Fully Paid\n",
       "2925492    Charged Off\n",
       "Name: loan_status, Length: 2925493, dtype: object"
      ]
     },
     "execution_count": 5,
     "metadata": {},
     "output_type": "execute_result"
    }
   ],
   "source": [
    "df['loan_status']"
   ]
  },
  {
   "cell_type": "code",
   "execution_count": 6,
   "id": "a3947cf2",
   "metadata": {},
   "outputs": [
    {
     "data": {
      "text/plain": [
       "Fully Paid                                             1497783\n",
       "Current                                                1031016\n",
       "Charged Off                                             362548\n",
       "Late (31-120 days)                                       16154\n",
       "In Grace Period                                          10028\n",
       "Late (16-30 days)                                         2719\n",
       "Issued                                                    2062\n",
       "Does not meet the credit policy. Status:Fully Paid        1988\n",
       "Does not meet the credit policy. Status:Charged Off        761\n",
       "Default                                                    433\n",
       "Name: loan_status, dtype: int64"
      ]
     },
     "execution_count": 6,
     "metadata": {},
     "output_type": "execute_result"
    }
   ],
   "source": [
    "df['loan_status'].value_counts()"
   ]
  },
  {
   "cell_type": "code",
   "execution_count": 7,
   "id": "9609af69",
   "metadata": {
    "scrolled": true
   },
   "outputs": [],
   "source": [
    "# compilation of indices where the type of loan status is not needed\n",
    "unwanted_indices = df[(df['loan_status'] == 'Current') | (df['loan_status'] == 'Issued') | (df['loan_status'] == 'Does not meet the credit policy. Status:Fully Paid') | (df['loan_status'] == 'Does not meet the credit policy. Status:Charged Off') | (df['loan_status'] == 'Default')].index"
   ]
  },
  {
   "cell_type": "code",
   "execution_count": 8,
   "id": "500f0424",
   "metadata": {},
   "outputs": [],
   "source": [
    "# dropping data where the type of loan status is not required\n",
    "df.drop(index = unwanted_indices, inplace = True)"
   ]
  },
  {
   "cell_type": "code",
   "execution_count": 9,
   "id": "8ce72255",
   "metadata": {},
   "outputs": [
    {
     "data": {
      "text/plain": [
       "Fully Paid            1497783\n",
       "Charged Off            362548\n",
       "Late (31-120 days)      16154\n",
       "In Grace Period         10028\n",
       "Late (16-30 days)        2719\n",
       "Name: loan_status, dtype: int64"
      ]
     },
     "execution_count": 9,
     "metadata": {},
     "output_type": "execute_result"
    }
   ],
   "source": [
    "df['loan_status'].value_counts()"
   ]
  },
  {
   "cell_type": "code",
   "execution_count": 10,
   "id": "3709ece2",
   "metadata": {},
   "outputs": [],
   "source": [
    "df['loan_repaid'] = df['loan_status'].apply(lambda status: 1 if status == 'Fully Paid' else 0)"
   ]
  },
  {
   "cell_type": "code",
   "execution_count": 11,
   "id": "6e1298fd",
   "metadata": {},
   "outputs": [
    {
     "data": {
      "text/plain": [
       "0          1\n",
       "1          0\n",
       "2          1\n",
       "3          1\n",
       "4          1\n",
       "          ..\n",
       "2925488    0\n",
       "2925489    1\n",
       "2925490    0\n",
       "2925491    1\n",
       "2925492    0\n",
       "Name: loan_repaid, Length: 1889233, dtype: int64"
      ]
     },
     "execution_count": 11,
     "metadata": {},
     "output_type": "execute_result"
    }
   ],
   "source": [
    "df['loan_repaid']"
   ]
  },
  {
   "cell_type": "code",
   "execution_count": 12,
   "id": "68ecd3f6",
   "metadata": {},
   "outputs": [
    {
     "data": {
      "text/plain": [
       "1    1497783\n",
       "0     391450\n",
       "Name: loan_repaid, dtype: int64"
      ]
     },
     "execution_count": 12,
     "metadata": {},
     "output_type": "execute_result"
    }
   ],
   "source": [
    "# Loan Repaid Is Target Col\n",
    "df['loan_repaid'].value_counts()"
   ]
  },
  {
   "cell_type": "code",
   "execution_count": 13,
   "id": "0bcfef03",
   "metadata": {},
   "outputs": [],
   "source": [
    "df.drop('loan_status', axis = 1, inplace = True)"
   ]
  },
  {
   "cell_type": "markdown",
   "id": "d8390ab5",
   "metadata": {},
   "source": [
    "## Feature Engineering"
   ]
  },
  {
   "cell_type": "code",
   "execution_count": 14,
   "id": "dff73f8b",
   "metadata": {},
   "outputs": [
    {
     "data": {
      "text/plain": [
       "['Unnamed: 0',\n",
       " 'id',\n",
       " 'loan_amnt',\n",
       " 'funded_amnt',\n",
       " 'funded_amnt_inv',\n",
       " 'term',\n",
       " 'int_rate',\n",
       " 'installment',\n",
       " 'grade',\n",
       " 'sub_grade',\n",
       " 'emp_title',\n",
       " 'emp_length',\n",
       " 'home_ownership',\n",
       " 'annual_inc',\n",
       " 'verification_status',\n",
       " 'issue_d',\n",
       " 'pymnt_plan',\n",
       " 'url',\n",
       " 'purpose',\n",
       " 'title',\n",
       " 'zip_code',\n",
       " 'addr_state',\n",
       " 'dti',\n",
       " 'delinq_2yrs',\n",
       " 'earliest_cr_line',\n",
       " 'fico_range_low',\n",
       " 'fico_range_high',\n",
       " 'inq_last_6mths',\n",
       " 'mths_since_last_delinq',\n",
       " 'mths_since_last_record',\n",
       " 'open_acc',\n",
       " 'pub_rec',\n",
       " 'revol_bal',\n",
       " 'revol_util',\n",
       " 'total_acc',\n",
       " 'initial_list_status',\n",
       " 'out_prncp',\n",
       " 'out_prncp_inv',\n",
       " 'total_pymnt',\n",
       " 'total_pymnt_inv',\n",
       " 'total_rec_prncp',\n",
       " 'total_rec_int',\n",
       " 'total_rec_late_fee',\n",
       " 'recoveries',\n",
       " 'collection_recovery_fee',\n",
       " 'last_pymnt_d',\n",
       " 'last_pymnt_amnt',\n",
       " 'next_pymnt_d',\n",
       " 'last_credit_pull_d',\n",
       " 'last_fico_range_high',\n",
       " 'last_fico_range_low',\n",
       " 'collections_12_mths_ex_med',\n",
       " 'mths_since_last_major_derog',\n",
       " 'policy_code',\n",
       " 'application_type',\n",
       " 'annual_inc_joint',\n",
       " 'dti_joint',\n",
       " 'verification_status_joint',\n",
       " 'acc_now_delinq',\n",
       " 'tot_coll_amt',\n",
       " 'tot_cur_bal',\n",
       " 'open_acc_6m',\n",
       " 'open_act_il',\n",
       " 'open_il_12m',\n",
       " 'open_il_24m',\n",
       " 'mths_since_rcnt_il',\n",
       " 'total_bal_il',\n",
       " 'il_util',\n",
       " 'open_rv_12m',\n",
       " 'open_rv_24m',\n",
       " 'max_bal_bc',\n",
       " 'all_util',\n",
       " 'total_rev_hi_lim',\n",
       " 'inq_fi',\n",
       " 'total_cu_tl',\n",
       " 'inq_last_12m',\n",
       " 'acc_open_past_24mths',\n",
       " 'avg_cur_bal',\n",
       " 'bc_open_to_buy',\n",
       " 'bc_util',\n",
       " 'chargeoff_within_12_mths',\n",
       " 'delinq_amnt',\n",
       " 'mo_sin_old_il_acct',\n",
       " 'mo_sin_old_rev_tl_op',\n",
       " 'mo_sin_rcnt_rev_tl_op',\n",
       " 'mo_sin_rcnt_tl',\n",
       " 'mort_acc',\n",
       " 'mths_since_recent_bc',\n",
       " 'mths_since_recent_bc_dlq',\n",
       " 'mths_since_recent_inq',\n",
       " 'mths_since_recent_revol_delinq',\n",
       " 'num_accts_ever_120_pd',\n",
       " 'num_actv_bc_tl',\n",
       " 'num_actv_rev_tl',\n",
       " 'num_bc_sats',\n",
       " 'num_bc_tl',\n",
       " 'num_il_tl',\n",
       " 'num_op_rev_tl',\n",
       " 'num_rev_accts',\n",
       " 'num_rev_tl_bal_gt_0',\n",
       " 'num_sats',\n",
       " 'num_tl_120dpd_2m',\n",
       " 'num_tl_30dpd',\n",
       " 'num_tl_90g_dpd_24m',\n",
       " 'num_tl_op_past_12m',\n",
       " 'pct_tl_nvr_dlq',\n",
       " 'percent_bc_gt_75',\n",
       " 'pub_rec_bankruptcies',\n",
       " 'tax_liens',\n",
       " 'tot_hi_cred_lim',\n",
       " 'total_bal_ex_mort',\n",
       " 'total_bc_limit',\n",
       " 'total_il_high_credit_limit',\n",
       " 'revol_bal_joint',\n",
       " 'sec_app_fico_range_low',\n",
       " 'sec_app_fico_range_high',\n",
       " 'sec_app_earliest_cr_line',\n",
       " 'sec_app_inq_last_6mths',\n",
       " 'sec_app_mort_acc',\n",
       " 'sec_app_open_acc',\n",
       " 'sec_app_revol_util',\n",
       " 'sec_app_open_act_il',\n",
       " 'sec_app_num_rev_accts',\n",
       " 'sec_app_chargeoff_within_12_mths',\n",
       " 'sec_app_collections_12_mths_ex_med',\n",
       " 'hardship_flag',\n",
       " 'hardship_type',\n",
       " 'hardship_reason',\n",
       " 'hardship_status',\n",
       " 'deferral_term',\n",
       " 'hardship_amount',\n",
       " 'hardship_start_date',\n",
       " 'hardship_end_date',\n",
       " 'payment_plan_start_date',\n",
       " 'hardship_length',\n",
       " 'hardship_dpd',\n",
       " 'hardship_loan_status',\n",
       " 'orig_projected_additional_accrued_interest',\n",
       " 'hardship_payoff_balance_amount',\n",
       " 'hardship_last_payment_amount',\n",
       " 'debt_settlement_flag',\n",
       " 'loan_repaid']"
      ]
     },
     "execution_count": 14,
     "metadata": {},
     "output_type": "execute_result"
    }
   ],
   "source": [
    "list(df.columns)"
   ]
  },
  {
   "cell_type": "code",
   "execution_count": 15,
   "id": "0c6ec568",
   "metadata": {},
   "outputs": [],
   "source": [
    "df.drop(['Unnamed: 0', 'id'], axis = 1, inplace = True)"
   ]
  },
  {
   "cell_type": "code",
   "execution_count": 16,
   "id": "82278f47",
   "metadata": {},
   "outputs": [
    {
     "data": {
      "text/plain": [
       "140"
      ]
     },
     "execution_count": 16,
     "metadata": {},
     "output_type": "execute_result"
    }
   ],
   "source": [
    "len(df.columns)"
   ]
  },
  {
   "cell_type": "code",
   "execution_count": 17,
   "id": "aed9eda0",
   "metadata": {},
   "outputs": [],
   "source": [
    "# delete columns with a high number of null values\n",
    "for col in df.columns:\n",
    "    if df[col].isnull().sum() > len(df)/3:\n",
    "        df.drop(col, axis = 1, inplace = True)"
   ]
  },
  {
   "cell_type": "code",
   "execution_count": 18,
   "id": "36959205",
   "metadata": {
    "scrolled": false
   },
   "outputs": [
    {
     "name": "stdout",
     "output_type": "stream",
     "text": [
      "emp_title : 135905\n",
      "emp_length : 120254\n",
      "title : 21502\n",
      "zip_code : 2\n",
      "dti : 1162\n",
      "inq_last_6mths : 2\n",
      "revol_util : 1444\n",
      "last_pymnt_d : 3365\n",
      "last_credit_pull_d : 66\n",
      "collections_12_mths_ex_med : 57\n",
      "tot_coll_amt : 67528\n",
      "tot_cur_bal : 67528\n",
      "total_rev_hi_lim : 67528\n",
      "acc_open_past_24mths : 47282\n",
      "avg_cur_bal : 67581\n",
      "bc_open_to_buy : 68157\n",
      "bc_util : 69184\n",
      "chargeoff_within_12_mths : 57\n",
      "mo_sin_old_il_acct : 122304\n",
      "mo_sin_old_rev_tl_op : 67529\n",
      "mo_sin_rcnt_rev_tl_op : 67529\n",
      "mo_sin_rcnt_tl : 67528\n",
      "mort_acc : 47282\n",
      "mths_since_recent_bc : 66837\n",
      "mths_since_recent_inq : 234416\n",
      "num_accts_ever_120_pd : 67528\n",
      "num_actv_bc_tl : 67528\n",
      "num_actv_rev_tl : 67528\n",
      "num_bc_sats : 55842\n",
      "num_bc_tl : 67528\n",
      "num_il_tl : 67528\n",
      "num_op_rev_tl : 67528\n",
      "num_rev_accts : 67529\n",
      "num_rev_tl_bal_gt_0 : 67528\n",
      "num_sats : 55842\n",
      "num_tl_120dpd_2m : 136665\n",
      "num_tl_30dpd : 67528\n",
      "num_tl_90g_dpd_24m : 67528\n",
      "num_tl_op_past_12m : 67528\n",
      "pct_tl_nvr_dlq : 67682\n",
      "percent_bc_gt_75 : 68597\n",
      "pub_rec_bankruptcies : 698\n",
      "tax_liens : 40\n",
      "tot_hi_cred_lim : 67528\n",
      "total_bal_ex_mort : 47282\n",
      "total_bc_limit : 47282\n",
      "total_il_high_credit_limit : 67528\n",
      "hardship_flag : 17876\n"
     ]
    }
   ],
   "source": [
    "for col in df.columns:\n",
    "    if df[col].isnull().sum() > 1:\n",
    "        print(col, ':', df[col].isnull().sum())"
   ]
  },
  {
   "cell_type": "code",
   "execution_count": 19,
   "id": "610d26ed",
   "metadata": {},
   "outputs": [],
   "source": [
    "df.drop(['emp_title', 'zip_code', 'inq_last_6mths', 'revol_util', 'last_pymnt_d', 'last_credit_pull_d', 'collections_12_mths_ex_med', 'total_rev_hi_lim', 'avg_cur_bal', 'bc_open_to_buy', 'bc_util', 'mo_sin_old_il_acct', 'mo_sin_old_rev_tl_op', 'mo_sin_rcnt_rev_tl_op', 'mo_sin_rcnt_tl', 'mths_since_recent_bc', 'mths_since_recent_inq', 'num_actv_bc_tl', 'num_actv_rev_tl', 'num_bc_sats', 'num_bc_tl', 'num_il_tl', 'num_op_rev_tl', 'num_rev_accts', 'num_rev_tl_bal_gt_0', 'num_tl_120dpd_2m', 'num_tl_30dpd', 'num_tl_90g_dpd_24m', 'percent_bc_gt_75', 'tot_hi_cred_lim', 'total_bal_ex_mort', 'total_bc_limit', 'total_il_high_credit_limit', 'hardship_flag', 'mort_acc', 'acc_open_past_24mths', ], axis = 1, inplace = True)"
   ]
  },
  {
   "cell_type": "code",
   "execution_count": 20,
   "id": "936daf3a",
   "metadata": {},
   "outputs": [
    {
     "name": "stdout",
     "output_type": "stream",
     "text": [
      "emp_length : 120254\n",
      "title : 21502\n",
      "dti : 1162\n",
      "tot_coll_amt : 67528\n",
      "tot_cur_bal : 67528\n",
      "chargeoff_within_12_mths : 57\n",
      "num_accts_ever_120_pd : 67528\n",
      "num_sats : 55842\n",
      "num_tl_op_past_12m : 67528\n",
      "pct_tl_nvr_dlq : 67682\n",
      "pub_rec_bankruptcies : 698\n",
      "tax_liens : 40\n"
     ]
    }
   ],
   "source": [
    "for col in df.columns:\n",
    "    if df[col].isnull().sum() > 1:\n",
    "        print(col, ':', df[col].isnull().sum())"
   ]
  },
  {
   "cell_type": "code",
   "execution_count": 21,
   "id": "1934c75a",
   "metadata": {},
   "outputs": [
    {
     "data": {
      "text/plain": [
       "10+ years    619963\n",
       "2 years      170939\n",
       "< 1 year     157069\n",
       "3 years      151481\n",
       "1 year       124803\n",
       "5 years      117606\n",
       "4 years      113968\n",
       "6 years       86561\n",
       "8 years       79556\n",
       "7 years       79093\n",
       "9 years       67940\n",
       "Name: emp_length, dtype: int64"
      ]
     },
     "execution_count": 21,
     "metadata": {},
     "output_type": "execute_result"
    }
   ],
   "source": [
    "df['emp_length'].value_counts()"
   ]
  },
  {
   "cell_type": "code",
   "execution_count": 22,
   "id": "2d0ee421",
   "metadata": {},
   "outputs": [],
   "source": [
    "df['emp_length'].fillna('4 years', inplace = True)\n",
    "df['emp_length'] = df['emp_length'].apply(lambda x: '1 year' if str(x)[0] == '<' else x)\n",
    "df['emp_length'] = df['emp_length'].apply(lambda x: 1 if int(str(x)[:2]) > 5 else 0)"
   ]
  },
  {
   "cell_type": "code",
   "execution_count": 23,
   "id": "d38d255d",
   "metadata": {},
   "outputs": [
    {
     "data": {
      "text/plain": [
       "0          1\n",
       "1          0\n",
       "2          1\n",
       "3          1\n",
       "4          0\n",
       "          ..\n",
       "2925488    0\n",
       "2925489    1\n",
       "2925490    1\n",
       "2925491    0\n",
       "2925492    0\n",
       "Name: emp_length, Length: 1889233, dtype: int64"
      ]
     },
     "execution_count": 23,
     "metadata": {},
     "output_type": "execute_result"
    }
   ],
   "source": [
    "df['emp_length']"
   ]
  },
  {
   "cell_type": "code",
   "execution_count": 24,
   "id": "66067b24",
   "metadata": {},
   "outputs": [
    {
     "data": {
      "text/plain": [
       "Debt consolidation         957796\n",
       "Credit card refinancing    372785\n",
       "Home improvement           112949\n",
       "Other                      104137\n",
       "Major purchase              36909\n",
       "Name: title, dtype: int64"
      ]
     },
     "execution_count": 24,
     "metadata": {},
     "output_type": "execute_result"
    }
   ],
   "source": [
    "df['title'].value_counts().head(5)"
   ]
  },
  {
   "cell_type": "code",
   "execution_count": 25,
   "id": "6ccd0482",
   "metadata": {},
   "outputs": [],
   "source": [
    "df['title'].fillna('Other', inplace = True)\n",
    "df['title'] = df['title'].apply(lambda x: 'Other' if x != 'Debt consolidation' and x != 'Credit card refinancing' and x != 'Home improvement' else x)"
   ]
  },
  {
   "cell_type": "code",
   "execution_count": 26,
   "id": "445b32ca",
   "metadata": {},
   "outputs": [
    {
     "name": "stdout",
     "output_type": "stream",
     "text": [
      "loan_amnt : 1\n",
      "funded_amnt : 1\n",
      "funded_amnt_inv : 1\n",
      "term : 1\n",
      "int_rate : 1\n",
      "installment : 1\n",
      "grade : 1\n",
      "sub_grade : 1\n",
      "home_ownership : 1\n",
      "annual_inc : 1\n",
      "verification_status : 1\n",
      "issue_d : 1\n",
      "pymnt_plan : 1\n",
      "url : 1\n",
      "purpose : 1\n",
      "addr_state : 1\n",
      "dti : 1162\n",
      "delinq_2yrs : 1\n",
      "earliest_cr_line : 1\n",
      "fico_range_low : 1\n",
      "fico_range_high : 1\n",
      "open_acc : 1\n",
      "pub_rec : 1\n",
      "revol_bal : 1\n",
      "total_acc : 1\n",
      "initial_list_status : 1\n",
      "out_prncp : 1\n",
      "out_prncp_inv : 1\n",
      "total_pymnt : 1\n",
      "total_pymnt_inv : 1\n",
      "total_rec_prncp : 1\n",
      "total_rec_int : 1\n",
      "total_rec_late_fee : 1\n",
      "recoveries : 1\n",
      "collection_recovery_fee : 1\n",
      "last_pymnt_amnt : 1\n",
      "last_fico_range_high : 1\n",
      "last_fico_range_low : 1\n",
      "policy_code : 1\n",
      "application_type : 1\n",
      "acc_now_delinq : 1\n",
      "tot_coll_amt : 67528\n",
      "tot_cur_bal : 67528\n",
      "chargeoff_within_12_mths : 57\n",
      "delinq_amnt : 1\n",
      "num_accts_ever_120_pd : 67528\n",
      "num_sats : 55842\n",
      "num_tl_op_past_12m : 67528\n",
      "pct_tl_nvr_dlq : 67682\n",
      "pub_rec_bankruptcies : 698\n",
      "tax_liens : 40\n",
      "debt_settlement_flag : 1\n"
     ]
    }
   ],
   "source": [
    "for col in df.columns:\n",
    "    if df[col].isnull().sum() > 0:\n",
    "        print(col, ':', df[col].isnull().sum())"
   ]
  },
  {
   "cell_type": "code",
   "execution_count": 27,
   "id": "56454ca6",
   "metadata": {},
   "outputs": [],
   "source": [
    "df.dropna(inplace = True) # this doesn't drop too many rows since most of the null values are concentrated in a few rows"
   ]
  },
  {
   "cell_type": "code",
   "execution_count": 28,
   "id": "b1392393",
   "metadata": {},
   "outputs": [],
   "source": [
    "df.reset_index(inplace = True) # index is scattered because null values have been dropped - this resets index\n",
    "df.drop('index', axis = 1, inplace = True) # drops new index col"
   ]
  },
  {
   "cell_type": "code",
   "execution_count": 29,
   "id": "b680703d",
   "metadata": {},
   "outputs": [
    {
     "name": "stdout",
     "output_type": "stream",
     "text": [
      "<class 'pandas.core.frame.DataFrame'>\n",
      "RangeIndex: 1820390 entries, 0 to 1820389\n",
      "Data columns (total 55 columns):\n",
      " #   Column                    Dtype  \n",
      "---  ------                    -----  \n",
      " 0   loan_amnt                 float64\n",
      " 1   funded_amnt               float64\n",
      " 2   funded_amnt_inv           float64\n",
      " 3   term                      object \n",
      " 4   int_rate                  object \n",
      " 5   installment               float64\n",
      " 6   grade                     object \n",
      " 7   sub_grade                 object \n",
      " 8   emp_length                int64  \n",
      " 9   home_ownership            object \n",
      " 10  annual_inc                float64\n",
      " 11  verification_status       object \n",
      " 12  issue_d                   object \n",
      " 13  pymnt_plan                object \n",
      " 14  url                       object \n",
      " 15  purpose                   object \n",
      " 16  title                     object \n",
      " 17  addr_state                object \n",
      " 18  dti                       float64\n",
      " 19  delinq_2yrs               float64\n",
      " 20  earliest_cr_line          object \n",
      " 21  fico_range_low            float64\n",
      " 22  fico_range_high           float64\n",
      " 23  open_acc                  float64\n",
      " 24  pub_rec                   float64\n",
      " 25  revol_bal                 float64\n",
      " 26  total_acc                 float64\n",
      " 27  initial_list_status       object \n",
      " 28  out_prncp                 float64\n",
      " 29  out_prncp_inv             float64\n",
      " 30  total_pymnt               float64\n",
      " 31  total_pymnt_inv           float64\n",
      " 32  total_rec_prncp           float64\n",
      " 33  total_rec_int             float64\n",
      " 34  total_rec_late_fee        float64\n",
      " 35  recoveries                float64\n",
      " 36  collection_recovery_fee   float64\n",
      " 37  last_pymnt_amnt           float64\n",
      " 38  last_fico_range_high      float64\n",
      " 39  last_fico_range_low       float64\n",
      " 40  policy_code               float64\n",
      " 41  application_type          object \n",
      " 42  acc_now_delinq            float64\n",
      " 43  tot_coll_amt              float64\n",
      " 44  tot_cur_bal               float64\n",
      " 45  chargeoff_within_12_mths  float64\n",
      " 46  delinq_amnt               float64\n",
      " 47  num_accts_ever_120_pd     float64\n",
      " 48  num_sats                  float64\n",
      " 49  num_tl_op_past_12m        float64\n",
      " 50  pct_tl_nvr_dlq            float64\n",
      " 51  pub_rec_bankruptcies      float64\n",
      " 52  tax_liens                 float64\n",
      " 53  debt_settlement_flag      object \n",
      " 54  loan_repaid               int64  \n",
      "dtypes: float64(37), int64(2), object(16)\n",
      "memory usage: 763.9+ MB\n"
     ]
    }
   ],
   "source": [
    "df.info()"
   ]
  },
  {
   "cell_type": "code",
   "execution_count": 30,
   "id": "afd8c1d5",
   "metadata": {},
   "outputs": [],
   "source": [
    "df.drop(['funded_amnt', 'funded_amnt_inv', 'last_pymnt_amnt', 'tot_coll_amt', 'out_prncp', 'loan_amnt', 'int_rate', 'installment',  'out_prncp_inv', 'total_pymnt', 'total_pymnt_inv', 'total_rec_prncp', 'total_rec_int', 'total_rec_late_fee', 'collection_recovery_fee', 'last_fico_range_high', 'last_fico_range_low', 'policy_code', 'pub_rec_bankruptcies', 'tax_liens', 'pct_tl_nvr_dlq', 'recoveries', 'num_accts_ever_120_pd', 'num_tl_op_past_12m', 'chargeoff_within_12_mths', 'revol_bal'], axis = 1, inplace = True)"
   ]
  },
  {
   "cell_type": "code",
   "execution_count": 31,
   "id": "0d1fba4c",
   "metadata": {},
   "outputs": [
    {
     "name": "stdout",
     "output_type": "stream",
     "text": [
      "<class 'pandas.core.frame.DataFrame'>\n",
      "RangeIndex: 1820390 entries, 0 to 1820389\n",
      "Data columns (total 29 columns):\n",
      " #   Column                Dtype  \n",
      "---  ------                -----  \n",
      " 0   term                  object \n",
      " 1   grade                 object \n",
      " 2   sub_grade             object \n",
      " 3   emp_length            int64  \n",
      " 4   home_ownership        object \n",
      " 5   annual_inc            float64\n",
      " 6   verification_status   object \n",
      " 7   issue_d               object \n",
      " 8   pymnt_plan            object \n",
      " 9   url                   object \n",
      " 10  purpose               object \n",
      " 11  title                 object \n",
      " 12  addr_state            object \n",
      " 13  dti                   float64\n",
      " 14  delinq_2yrs           float64\n",
      " 15  earliest_cr_line      object \n",
      " 16  fico_range_low        float64\n",
      " 17  fico_range_high       float64\n",
      " 18  open_acc              float64\n",
      " 19  pub_rec               float64\n",
      " 20  total_acc             float64\n",
      " 21  initial_list_status   object \n",
      " 22  application_type      object \n",
      " 23  acc_now_delinq        float64\n",
      " 24  tot_cur_bal           float64\n",
      " 25  delinq_amnt           float64\n",
      " 26  num_sats              float64\n",
      " 27  debt_settlement_flag  object \n",
      " 28  loan_repaid           int64  \n",
      "dtypes: float64(12), int64(2), object(15)\n",
      "memory usage: 402.8+ MB\n"
     ]
    }
   ],
   "source": [
    "df.info()"
   ]
  },
  {
   "cell_type": "code",
   "execution_count": 32,
   "id": "02031c22",
   "metadata": {},
   "outputs": [],
   "source": [
    "# dropping object cols\n",
    "for x in df.columns:\n",
    "    if df[x].dtype == object:\n",
    "        df.drop(x, axis = 1, inplace = True)"
   ]
  },
  {
   "cell_type": "code",
   "execution_count": 33,
   "id": "74dced5e",
   "metadata": {},
   "outputs": [],
   "source": [
    "from sklearn.model_selection import train_test_split"
   ]
  },
  {
   "cell_type": "code",
   "execution_count": 34,
   "id": "72e0bf18",
   "metadata": {},
   "outputs": [],
   "source": [
    "lst = list(df.columns)"
   ]
  },
  {
   "cell_type": "code",
   "execution_count": 35,
   "id": "6d921544",
   "metadata": {},
   "outputs": [
    {
     "data": {
      "text/plain": [
       "Index(['emp_length', 'annual_inc', 'dti', 'delinq_2yrs', 'fico_range_low',\n",
       "       'fico_range_high', 'open_acc', 'pub_rec', 'total_acc', 'acc_now_delinq',\n",
       "       'tot_cur_bal', 'delinq_amnt', 'num_sats', 'loan_repaid'],\n",
       "      dtype='object')"
      ]
     },
     "execution_count": 35,
     "metadata": {},
     "output_type": "execute_result"
    }
   ],
   "source": [
    "df.columns"
   ]
  },
  {
   "cell_type": "code",
   "execution_count": 36,
   "id": "ec61ae94",
   "metadata": {},
   "outputs": [],
   "source": [
    "lst.remove('loan_repaid')"
   ]
  },
  {
   "cell_type": "code",
   "execution_count": 45,
   "id": "8b8fdb6f",
   "metadata": {},
   "outputs": [],
   "source": [
    "lst.append('loan_repaid')"
   ]
  },
  {
   "cell_type": "code",
   "execution_count": 46,
   "id": "b79d8254",
   "metadata": {},
   "outputs": [],
   "source": [
    "X = df.loc[0:10000][lst]\n",
    "y = df.loc[0:10000]['loan_repaid']"
   ]
  },
  {
   "cell_type": "code",
   "execution_count": 47,
   "id": "70b9f43c",
   "metadata": {},
   "outputs": [],
   "source": [
    "X_train, X_test, y_train, y_test = train_test_split(X, y, test_size = 0.3) # split the data into train and test sets"
   ]
  },
  {
   "cell_type": "code",
   "execution_count": 48,
   "id": "54a9ae95",
   "metadata": {},
   "outputs": [],
   "source": [
    "from sklearn.linear_model import LogisticRegression"
   ]
  },
  {
   "cell_type": "code",
   "execution_count": 49,
   "id": "4d61770f",
   "metadata": {},
   "outputs": [],
   "source": [
    "model = LogisticRegression(max_iter = 10000) # instantiate the model"
   ]
  },
  {
   "cell_type": "code",
   "execution_count": 50,
   "id": "aa207401",
   "metadata": {},
   "outputs": [
    {
     "data": {
      "text/plain": [
       "LogisticRegression(max_iter=10000)"
      ]
     },
     "execution_count": 50,
     "metadata": {},
     "output_type": "execute_result"
    }
   ],
   "source": [
    "model.fit(X_train, y_train) # train the model"
   ]
  },
  {
   "cell_type": "code",
   "execution_count": 51,
   "id": "d7b15de5",
   "metadata": {},
   "outputs": [],
   "source": [
    "predictions = model.predict(X_test) # make predictions"
   ]
  },
  {
   "cell_type": "code",
   "execution_count": 52,
   "id": "4cd2d304",
   "metadata": {},
   "outputs": [],
   "source": [
    "from sklearn.metrics import confusion_matrix, classification_report"
   ]
  },
  {
   "cell_type": "code",
   "execution_count": 54,
   "id": "3786e00a",
   "metadata": {
    "scrolled": true
   },
   "outputs": [
    {
     "name": "stdout",
     "output_type": "stream",
     "text": [
      "[[   0  477]\n",
      " [   0 2524]]\n",
      "\n",
      "              precision    recall  f1-score   support\n",
      "\n",
      "           0       0.00      0.00      0.00       477\n",
      "           1       0.84      1.00      0.91      2524\n",
      "\n",
      "    accuracy                           0.84      3001\n",
      "   macro avg       0.42      0.50      0.46      3001\n",
      "weighted avg       0.71      0.84      0.77      3001\n",
      "\n"
     ]
    },
    {
     "name": "stderr",
     "output_type": "stream",
     "text": [
      "C:\\Users\\sirki\\anaconda3\\lib\\site-packages\\sklearn\\metrics\\_classification.py:1248: UndefinedMetricWarning: Precision and F-score are ill-defined and being set to 0.0 in labels with no predicted samples. Use `zero_division` parameter to control this behavior.\n",
      "  _warn_prf(average, modifier, msg_start, len(result))\n",
      "C:\\Users\\sirki\\anaconda3\\lib\\site-packages\\sklearn\\metrics\\_classification.py:1248: UndefinedMetricWarning: Precision and F-score are ill-defined and being set to 0.0 in labels with no predicted samples. Use `zero_division` parameter to control this behavior.\n",
      "  _warn_prf(average, modifier, msg_start, len(result))\n",
      "C:\\Users\\sirki\\anaconda3\\lib\\site-packages\\sklearn\\metrics\\_classification.py:1248: UndefinedMetricWarning: Precision and F-score are ill-defined and being set to 0.0 in labels with no predicted samples. Use `zero_division` parameter to control this behavior.\n",
      "  _warn_prf(average, modifier, msg_start, len(result))\n"
     ]
    }
   ],
   "source": [
    "print(confusion_matrix(y_test, predictions))\n",
    "print()\n",
    "print(classification_report(y_test, predictions))"
   ]
  },
  {
   "cell_type": "code",
   "execution_count": null,
   "id": "3510fe89",
   "metadata": {},
   "outputs": [],
   "source": []
  }
 ],
 "metadata": {
  "kernelspec": {
   "display_name": "Python 3 (ipykernel)",
   "language": "python",
   "name": "python3"
  },
  "language_info": {
   "codemirror_mode": {
    "name": "ipython",
    "version": 3
   },
   "file_extension": ".py",
   "mimetype": "text/x-python",
   "name": "python",
   "nbconvert_exporter": "python",
   "pygments_lexer": "ipython3",
   "version": "3.9.7"
  }
 },
 "nbformat": 4,
 "nbformat_minor": 5
}
