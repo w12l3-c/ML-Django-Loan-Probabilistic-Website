{
 "cells": [
  {
   "cell_type": "markdown",
   "id": "de00f172",
   "metadata": {},
   "source": [
    "Decent Small Loan Model; Fit for Usage. The primary issue at the end of the day, the reason for this model not being used, is because of its relatively poor accuracy and slight bias in results (towards 1)."
   ]
  },
  {
   "cell_type": "code",
   "execution_count": 1,
   "id": "afb5dbc8",
   "metadata": {},
   "outputs": [],
   "source": [
    "import numpy as np\n",
    "import pandas as pd\n",
    "import matplotlib as plt\n",
    "import seaborn as sns\n",
    "%matplotlib inline"
   ]
  },
  {
   "cell_type": "code",
   "execution_count": 2,
   "id": "fc33e591",
   "metadata": {},
   "outputs": [],
   "source": [
    "df = pd.read_csv('Dataset 2.gzip', low_memory = False)"
   ]
  },
  {
   "cell_type": "code",
   "execution_count": 3,
   "id": "481bd57e",
   "metadata": {
    "scrolled": true
   },
   "outputs": [
    {
     "data": {
      "text/html": [
       "<div>\n",
       "<style scoped>\n",
       "    .dataframe tbody tr th:only-of-type {\n",
       "        vertical-align: middle;\n",
       "    }\n",
       "\n",
       "    .dataframe tbody tr th {\n",
       "        vertical-align: top;\n",
       "    }\n",
       "\n",
       "    .dataframe thead th {\n",
       "        text-align: right;\n",
       "    }\n",
       "</style>\n",
       "<table border=\"1\" class=\"dataframe\">\n",
       "  <thead>\n",
       "    <tr style=\"text-align: right;\">\n",
       "      <th></th>\n",
       "      <th>Unnamed: 0</th>\n",
       "      <th>id</th>\n",
       "      <th>loan_amnt</th>\n",
       "      <th>funded_amnt</th>\n",
       "      <th>funded_amnt_inv</th>\n",
       "      <th>term</th>\n",
       "      <th>int_rate</th>\n",
       "      <th>installment</th>\n",
       "      <th>grade</th>\n",
       "      <th>sub_grade</th>\n",
       "      <th>...</th>\n",
       "      <th>hardship_start_date</th>\n",
       "      <th>hardship_end_date</th>\n",
       "      <th>payment_plan_start_date</th>\n",
       "      <th>hardship_length</th>\n",
       "      <th>hardship_dpd</th>\n",
       "      <th>hardship_loan_status</th>\n",
       "      <th>orig_projected_additional_accrued_interest</th>\n",
       "      <th>hardship_payoff_balance_amount</th>\n",
       "      <th>hardship_last_payment_amount</th>\n",
       "      <th>debt_settlement_flag</th>\n",
       "    </tr>\n",
       "  </thead>\n",
       "  <tbody>\n",
       "    <tr>\n",
       "      <th>0</th>\n",
       "      <td>0</td>\n",
       "      <td>1077501</td>\n",
       "      <td>5000.0</td>\n",
       "      <td>5000.0</td>\n",
       "      <td>4975.0</td>\n",
       "      <td>36 months</td>\n",
       "      <td>10.65%</td>\n",
       "      <td>162.87</td>\n",
       "      <td>B</td>\n",
       "      <td>B2</td>\n",
       "      <td>...</td>\n",
       "      <td>NaN</td>\n",
       "      <td>NaN</td>\n",
       "      <td>NaN</td>\n",
       "      <td>NaN</td>\n",
       "      <td>NaN</td>\n",
       "      <td>NaN</td>\n",
       "      <td>NaN</td>\n",
       "      <td>NaN</td>\n",
       "      <td>NaN</td>\n",
       "      <td>N</td>\n",
       "    </tr>\n",
       "    <tr>\n",
       "      <th>1</th>\n",
       "      <td>1</td>\n",
       "      <td>1077430</td>\n",
       "      <td>2500.0</td>\n",
       "      <td>2500.0</td>\n",
       "      <td>2500.0</td>\n",
       "      <td>60 months</td>\n",
       "      <td>15.27%</td>\n",
       "      <td>59.83</td>\n",
       "      <td>C</td>\n",
       "      <td>C4</td>\n",
       "      <td>...</td>\n",
       "      <td>NaN</td>\n",
       "      <td>NaN</td>\n",
       "      <td>NaN</td>\n",
       "      <td>NaN</td>\n",
       "      <td>NaN</td>\n",
       "      <td>NaN</td>\n",
       "      <td>NaN</td>\n",
       "      <td>NaN</td>\n",
       "      <td>NaN</td>\n",
       "      <td>N</td>\n",
       "    </tr>\n",
       "    <tr>\n",
       "      <th>2</th>\n",
       "      <td>2</td>\n",
       "      <td>1077175</td>\n",
       "      <td>2400.0</td>\n",
       "      <td>2400.0</td>\n",
       "      <td>2400.0</td>\n",
       "      <td>36 months</td>\n",
       "      <td>15.96%</td>\n",
       "      <td>84.33</td>\n",
       "      <td>C</td>\n",
       "      <td>C5</td>\n",
       "      <td>...</td>\n",
       "      <td>NaN</td>\n",
       "      <td>NaN</td>\n",
       "      <td>NaN</td>\n",
       "      <td>NaN</td>\n",
       "      <td>NaN</td>\n",
       "      <td>NaN</td>\n",
       "      <td>NaN</td>\n",
       "      <td>NaN</td>\n",
       "      <td>NaN</td>\n",
       "      <td>N</td>\n",
       "    </tr>\n",
       "    <tr>\n",
       "      <th>3</th>\n",
       "      <td>3</td>\n",
       "      <td>1076863</td>\n",
       "      <td>10000.0</td>\n",
       "      <td>10000.0</td>\n",
       "      <td>10000.0</td>\n",
       "      <td>36 months</td>\n",
       "      <td>13.49%</td>\n",
       "      <td>339.31</td>\n",
       "      <td>C</td>\n",
       "      <td>C1</td>\n",
       "      <td>...</td>\n",
       "      <td>NaN</td>\n",
       "      <td>NaN</td>\n",
       "      <td>NaN</td>\n",
       "      <td>NaN</td>\n",
       "      <td>NaN</td>\n",
       "      <td>NaN</td>\n",
       "      <td>NaN</td>\n",
       "      <td>NaN</td>\n",
       "      <td>NaN</td>\n",
       "      <td>N</td>\n",
       "    </tr>\n",
       "    <tr>\n",
       "      <th>4</th>\n",
       "      <td>4</td>\n",
       "      <td>1075358</td>\n",
       "      <td>3000.0</td>\n",
       "      <td>3000.0</td>\n",
       "      <td>3000.0</td>\n",
       "      <td>60 months</td>\n",
       "      <td>12.69%</td>\n",
       "      <td>67.79</td>\n",
       "      <td>B</td>\n",
       "      <td>B5</td>\n",
       "      <td>...</td>\n",
       "      <td>NaN</td>\n",
       "      <td>NaN</td>\n",
       "      <td>NaN</td>\n",
       "      <td>NaN</td>\n",
       "      <td>NaN</td>\n",
       "      <td>NaN</td>\n",
       "      <td>NaN</td>\n",
       "      <td>NaN</td>\n",
       "      <td>NaN</td>\n",
       "      <td>N</td>\n",
       "    </tr>\n",
       "  </tbody>\n",
       "</table>\n",
       "<p>5 rows × 142 columns</p>\n",
       "</div>"
      ],
      "text/plain": [
       "   Unnamed: 0       id  loan_amnt  funded_amnt  funded_amnt_inv        term  \\\n",
       "0           0  1077501     5000.0       5000.0           4975.0   36 months   \n",
       "1           1  1077430     2500.0       2500.0           2500.0   60 months   \n",
       "2           2  1077175     2400.0       2400.0           2400.0   36 months   \n",
       "3           3  1076863    10000.0      10000.0          10000.0   36 months   \n",
       "4           4  1075358     3000.0       3000.0           3000.0   60 months   \n",
       "\n",
       "  int_rate  installment grade sub_grade  ... hardship_start_date  \\\n",
       "0   10.65%       162.87     B        B2  ...                 NaN   \n",
       "1   15.27%        59.83     C        C4  ...                 NaN   \n",
       "2   15.96%        84.33     C        C5  ...                 NaN   \n",
       "3   13.49%       339.31     C        C1  ...                 NaN   \n",
       "4   12.69%        67.79     B        B5  ...                 NaN   \n",
       "\n",
       "  hardship_end_date payment_plan_start_date  hardship_length hardship_dpd  \\\n",
       "0               NaN                     NaN              NaN          NaN   \n",
       "1               NaN                     NaN              NaN          NaN   \n",
       "2               NaN                     NaN              NaN          NaN   \n",
       "3               NaN                     NaN              NaN          NaN   \n",
       "4               NaN                     NaN              NaN          NaN   \n",
       "\n",
       "  hardship_loan_status orig_projected_additional_accrued_interest  \\\n",
       "0                  NaN                                        NaN   \n",
       "1                  NaN                                        NaN   \n",
       "2                  NaN                                        NaN   \n",
       "3                  NaN                                        NaN   \n",
       "4                  NaN                                        NaN   \n",
       "\n",
       "  hardship_payoff_balance_amount hardship_last_payment_amount  \\\n",
       "0                            NaN                          NaN   \n",
       "1                            NaN                          NaN   \n",
       "2                            NaN                          NaN   \n",
       "3                            NaN                          NaN   \n",
       "4                            NaN                          NaN   \n",
       "\n",
       "  debt_settlement_flag  \n",
       "0                    N  \n",
       "1                    N  \n",
       "2                    N  \n",
       "3                    N  \n",
       "4                    N  \n",
       "\n",
       "[5 rows x 142 columns]"
      ]
     },
     "execution_count": 3,
     "metadata": {},
     "output_type": "execute_result"
    }
   ],
   "source": [
    "df.head()"
   ]
  },
  {
   "cell_type": "code",
   "execution_count": 4,
   "id": "1e8be682",
   "metadata": {
    "scrolled": true
   },
   "outputs": [
    {
     "name": "stdout",
     "output_type": "stream",
     "text": [
      "<class 'pandas.core.frame.DataFrame'>\n",
      "RangeIndex: 2925493 entries, 0 to 2925492\n",
      "Columns: 142 entries, Unnamed: 0 to debt_settlement_flag\n",
      "dtypes: float64(106), int64(1), object(35)\n",
      "memory usage: 3.1+ GB\n"
     ]
    }
   ],
   "source": [
    "df.info()"
   ]
  },
  {
   "cell_type": "code",
   "execution_count": 5,
   "id": "a53ebcea",
   "metadata": {},
   "outputs": [
    {
     "data": {
      "text/plain": [
       "['Unnamed: 0',\n",
       " 'id',\n",
       " 'loan_amnt',\n",
       " 'funded_amnt',\n",
       " 'funded_amnt_inv',\n",
       " 'term',\n",
       " 'int_rate',\n",
       " 'installment',\n",
       " 'grade',\n",
       " 'sub_grade',\n",
       " 'emp_title',\n",
       " 'emp_length',\n",
       " 'home_ownership',\n",
       " 'annual_inc',\n",
       " 'verification_status',\n",
       " 'issue_d',\n",
       " 'loan_status',\n",
       " 'pymnt_plan',\n",
       " 'url',\n",
       " 'purpose',\n",
       " 'title',\n",
       " 'zip_code',\n",
       " 'addr_state',\n",
       " 'dti',\n",
       " 'delinq_2yrs',\n",
       " 'earliest_cr_line',\n",
       " 'fico_range_low',\n",
       " 'fico_range_high',\n",
       " 'inq_last_6mths',\n",
       " 'mths_since_last_delinq',\n",
       " 'mths_since_last_record',\n",
       " 'open_acc',\n",
       " 'pub_rec',\n",
       " 'revol_bal',\n",
       " 'revol_util',\n",
       " 'total_acc',\n",
       " 'initial_list_status',\n",
       " 'out_prncp',\n",
       " 'out_prncp_inv',\n",
       " 'total_pymnt',\n",
       " 'total_pymnt_inv',\n",
       " 'total_rec_prncp',\n",
       " 'total_rec_int',\n",
       " 'total_rec_late_fee',\n",
       " 'recoveries',\n",
       " 'collection_recovery_fee',\n",
       " 'last_pymnt_d',\n",
       " 'last_pymnt_amnt',\n",
       " 'next_pymnt_d',\n",
       " 'last_credit_pull_d',\n",
       " 'last_fico_range_high',\n",
       " 'last_fico_range_low',\n",
       " 'collections_12_mths_ex_med',\n",
       " 'mths_since_last_major_derog',\n",
       " 'policy_code',\n",
       " 'application_type',\n",
       " 'annual_inc_joint',\n",
       " 'dti_joint',\n",
       " 'verification_status_joint',\n",
       " 'acc_now_delinq',\n",
       " 'tot_coll_amt',\n",
       " 'tot_cur_bal',\n",
       " 'open_acc_6m',\n",
       " 'open_act_il',\n",
       " 'open_il_12m',\n",
       " 'open_il_24m',\n",
       " 'mths_since_rcnt_il',\n",
       " 'total_bal_il',\n",
       " 'il_util',\n",
       " 'open_rv_12m',\n",
       " 'open_rv_24m',\n",
       " 'max_bal_bc',\n",
       " 'all_util',\n",
       " 'total_rev_hi_lim',\n",
       " 'inq_fi',\n",
       " 'total_cu_tl',\n",
       " 'inq_last_12m',\n",
       " 'acc_open_past_24mths',\n",
       " 'avg_cur_bal',\n",
       " 'bc_open_to_buy',\n",
       " 'bc_util',\n",
       " 'chargeoff_within_12_mths',\n",
       " 'delinq_amnt',\n",
       " 'mo_sin_old_il_acct',\n",
       " 'mo_sin_old_rev_tl_op',\n",
       " 'mo_sin_rcnt_rev_tl_op',\n",
       " 'mo_sin_rcnt_tl',\n",
       " 'mort_acc',\n",
       " 'mths_since_recent_bc',\n",
       " 'mths_since_recent_bc_dlq',\n",
       " 'mths_since_recent_inq',\n",
       " 'mths_since_recent_revol_delinq',\n",
       " 'num_accts_ever_120_pd',\n",
       " 'num_actv_bc_tl',\n",
       " 'num_actv_rev_tl',\n",
       " 'num_bc_sats',\n",
       " 'num_bc_tl',\n",
       " 'num_il_tl',\n",
       " 'num_op_rev_tl',\n",
       " 'num_rev_accts',\n",
       " 'num_rev_tl_bal_gt_0',\n",
       " 'num_sats',\n",
       " 'num_tl_120dpd_2m',\n",
       " 'num_tl_30dpd',\n",
       " 'num_tl_90g_dpd_24m',\n",
       " 'num_tl_op_past_12m',\n",
       " 'pct_tl_nvr_dlq',\n",
       " 'percent_bc_gt_75',\n",
       " 'pub_rec_bankruptcies',\n",
       " 'tax_liens',\n",
       " 'tot_hi_cred_lim',\n",
       " 'total_bal_ex_mort',\n",
       " 'total_bc_limit',\n",
       " 'total_il_high_credit_limit',\n",
       " 'revol_bal_joint',\n",
       " 'sec_app_fico_range_low',\n",
       " 'sec_app_fico_range_high',\n",
       " 'sec_app_earliest_cr_line',\n",
       " 'sec_app_inq_last_6mths',\n",
       " 'sec_app_mort_acc',\n",
       " 'sec_app_open_acc',\n",
       " 'sec_app_revol_util',\n",
       " 'sec_app_open_act_il',\n",
       " 'sec_app_num_rev_accts',\n",
       " 'sec_app_chargeoff_within_12_mths',\n",
       " 'sec_app_collections_12_mths_ex_med',\n",
       " 'hardship_flag',\n",
       " 'hardship_type',\n",
       " 'hardship_reason',\n",
       " 'hardship_status',\n",
       " 'deferral_term',\n",
       " 'hardship_amount',\n",
       " 'hardship_start_date',\n",
       " 'hardship_end_date',\n",
       " 'payment_plan_start_date',\n",
       " 'hardship_length',\n",
       " 'hardship_dpd',\n",
       " 'hardship_loan_status',\n",
       " 'orig_projected_additional_accrued_interest',\n",
       " 'hardship_payoff_balance_amount',\n",
       " 'hardship_last_payment_amount',\n",
       " 'debt_settlement_flag']"
      ]
     },
     "execution_count": 5,
     "metadata": {},
     "output_type": "execute_result"
    }
   ],
   "source": [
    "list(df.columns)"
   ]
  },
  {
   "cell_type": "code",
   "execution_count": 6,
   "id": "cbc60454",
   "metadata": {
    "scrolled": true
   },
   "outputs": [
    {
     "data": {
      "text/plain": [
       "0    B\n",
       "1    C\n",
       "2    C\n",
       "3    C\n",
       "4    B\n",
       "Name: grade, dtype: object"
      ]
     },
     "execution_count": 6,
     "metadata": {},
     "output_type": "execute_result"
    }
   ],
   "source": [
    "df['grade'].head()"
   ]
  },
  {
   "cell_type": "code",
   "execution_count": 7,
   "id": "dcf1368d",
   "metadata": {
    "scrolled": true
   },
   "outputs": [
    {
     "data": {
      "text/plain": [
       "B    857573\n",
       "C    802280\n",
       "A    656302\n",
       "D    416280\n",
       "E    139036\n",
       "F     41836\n",
       "G     12185\n",
       "Name: grade, dtype: int64"
      ]
     },
     "execution_count": 7,
     "metadata": {},
     "output_type": "execute_result"
    }
   ],
   "source": [
    "df['grade'].value_counts()"
   ]
  },
  {
   "cell_type": "code",
   "execution_count": 8,
   "id": "48ea8875",
   "metadata": {
    "scrolled": true
   },
   "outputs": [
    {
     "data": {
      "text/plain": [
       "0    B2\n",
       "1    C4\n",
       "2    C5\n",
       "3    C1\n",
       "4    B5\n",
       "Name: sub_grade, dtype: object"
      ]
     },
     "execution_count": 8,
     "metadata": {},
     "output_type": "execute_result"
    }
   ],
   "source": [
    "df['sub_grade'].head()"
   ]
  },
  {
   "cell_type": "code",
   "execution_count": 9,
   "id": "b3299f60",
   "metadata": {},
   "outputs": [
    {
     "data": {
      "text/plain": [
       "B4    185188\n",
       "B5    181856\n",
       "C1    179073\n",
       "B2    164880\n",
       "B1    163455\n",
       "B3    162194\n",
       "C2    161790\n",
       "C3    159015\n",
       "A4    158426\n",
       "A5    157156\n",
       "C4    153184\n",
       "C5    149218\n",
       "A1    133282\n",
       "D2    108645\n",
       "A3    106377\n",
       "A2    101061\n",
       "D1    100822\n",
       "D3     83075\n",
       "D4     67101\n",
       "D5     56637\n",
       "E1     34838\n",
       "E2     30346\n",
       "E3     27229\n",
       "E5     23404\n",
       "E4     23219\n",
       "F1     13425\n",
       "F2      9314\n",
       "F3      7794\n",
       "F4      6129\n",
       "F5      5174\n",
       "G1      4113\n",
       "G2      2697\n",
       "G3      2095\n",
       "G4      1712\n",
       "G5      1568\n",
       "Name: sub_grade, dtype: int64"
      ]
     },
     "execution_count": 9,
     "metadata": {},
     "output_type": "execute_result"
    }
   ],
   "source": [
    "df['sub_grade'].value_counts()"
   ]
  },
  {
   "cell_type": "code",
   "execution_count": 10,
   "id": "f308d59b",
   "metadata": {},
   "outputs": [],
   "source": [
    "# Target Column\n",
    "\n",
    "df['granted'] = df[''].apply(lambda grade: 0 if grade == 'C' or grade == 'D' else 1)"
   ]
  },
  {
   "cell_type": "markdown",
   "id": "2d85584f",
   "metadata": {},
   "source": [
    "### Challenge\n",
    "\n",
    "Detect if a potential borrower will get their loan approved\n",
    "\n",
    "### Strategy\n",
    "\n",
    "Given a dataset of existing borrowers, using only the features the lender would have had before granting the loan, detect the basis by which the lender assigns grades to the borrowers. Train a model using these features to predict the grade for a new borrower. Borrowers with top grades are low risk and will likely get their loan approved while borrowers with poor grades are high risk and whose loan application will likely be rejected."
   ]
  },
  {
   "cell_type": "code",
   "execution_count": 11,
   "id": "31a698d8",
   "metadata": {},
   "outputs": [],
   "source": [
    "# Selecting Features (these are features known to the lender before the loan is issued)\n",
    "\n",
    "df = df[['annual_inc',\n",
    "         'application_type',\n",
    "         'dti',\n",
    "         'earliest_cr_line',\n",
    "         'emp_length',\n",
    "         'emp_title',\n",
    "         'fico_range_high', \n",
    "         'fico_range_low',\n",
    "         'home_ownership',\n",
    "         'num_sats',\n",
    "         'mort_acc',\n",
    "         'open_acc',\n",
    "         'total_acc',\n",
    "         'acc_now_delinq',\n",
    "         'delinq_amnt',\n",
    "         'pub_rec',\n",
    "         'pub_rec_bankruptcies',\n",
    "         'tax_liens',\n",
    "         'purpose',\n",
    "         'title',\n",
    "         'loan_amnt',\n",
    "         'funded_amnt', \n",
    "         'term',\n",
    "         'granted']]"
   ]
  },
  {
   "cell_type": "markdown",
   "id": "fea3b17d",
   "metadata": {},
   "source": [
    "## EDA + Feature Engineering"
   ]
  },
  {
   "cell_type": "code",
   "execution_count": 12,
   "id": "3ebf75d5",
   "metadata": {},
   "outputs": [
    {
     "data": {
      "text/html": [
       "<div>\n",
       "<style scoped>\n",
       "    .dataframe tbody tr th:only-of-type {\n",
       "        vertical-align: middle;\n",
       "    }\n",
       "\n",
       "    .dataframe tbody tr th {\n",
       "        vertical-align: top;\n",
       "    }\n",
       "\n",
       "    .dataframe thead th {\n",
       "        text-align: right;\n",
       "    }\n",
       "</style>\n",
       "<table border=\"1\" class=\"dataframe\">\n",
       "  <thead>\n",
       "    <tr style=\"text-align: right;\">\n",
       "      <th></th>\n",
       "      <th>annual_inc</th>\n",
       "      <th>application_type</th>\n",
       "      <th>dti</th>\n",
       "      <th>earliest_cr_line</th>\n",
       "      <th>emp_length</th>\n",
       "      <th>emp_title</th>\n",
       "      <th>fico_range_high</th>\n",
       "      <th>fico_range_low</th>\n",
       "      <th>home_ownership</th>\n",
       "      <th>num_sats</th>\n",
       "      <th>...</th>\n",
       "      <th>delinq_amnt</th>\n",
       "      <th>pub_rec</th>\n",
       "      <th>pub_rec_bankruptcies</th>\n",
       "      <th>tax_liens</th>\n",
       "      <th>purpose</th>\n",
       "      <th>title</th>\n",
       "      <th>loan_amnt</th>\n",
       "      <th>funded_amnt</th>\n",
       "      <th>term</th>\n",
       "      <th>granted</th>\n",
       "    </tr>\n",
       "  </thead>\n",
       "  <tbody>\n",
       "    <tr>\n",
       "      <th>0</th>\n",
       "      <td>24000.0</td>\n",
       "      <td>Individual</td>\n",
       "      <td>27.65</td>\n",
       "      <td>Jan-1985</td>\n",
       "      <td>10+ years</td>\n",
       "      <td>NaN</td>\n",
       "      <td>739.0</td>\n",
       "      <td>735.0</td>\n",
       "      <td>RENT</td>\n",
       "      <td>NaN</td>\n",
       "      <td>...</td>\n",
       "      <td>0.0</td>\n",
       "      <td>0.0</td>\n",
       "      <td>0.0</td>\n",
       "      <td>0.0</td>\n",
       "      <td>credit_card</td>\n",
       "      <td>Computer</td>\n",
       "      <td>5000.0</td>\n",
       "      <td>5000.0</td>\n",
       "      <td>36 months</td>\n",
       "      <td>1</td>\n",
       "    </tr>\n",
       "    <tr>\n",
       "      <th>1</th>\n",
       "      <td>30000.0</td>\n",
       "      <td>Individual</td>\n",
       "      <td>1.00</td>\n",
       "      <td>Apr-1999</td>\n",
       "      <td>&lt; 1 year</td>\n",
       "      <td>Ryder</td>\n",
       "      <td>744.0</td>\n",
       "      <td>740.0</td>\n",
       "      <td>RENT</td>\n",
       "      <td>NaN</td>\n",
       "      <td>...</td>\n",
       "      <td>0.0</td>\n",
       "      <td>0.0</td>\n",
       "      <td>0.0</td>\n",
       "      <td>0.0</td>\n",
       "      <td>car</td>\n",
       "      <td>bike</td>\n",
       "      <td>2500.0</td>\n",
       "      <td>2500.0</td>\n",
       "      <td>60 months</td>\n",
       "      <td>0</td>\n",
       "    </tr>\n",
       "    <tr>\n",
       "      <th>2</th>\n",
       "      <td>12252.0</td>\n",
       "      <td>Individual</td>\n",
       "      <td>8.72</td>\n",
       "      <td>Nov-2001</td>\n",
       "      <td>10+ years</td>\n",
       "      <td>NaN</td>\n",
       "      <td>739.0</td>\n",
       "      <td>735.0</td>\n",
       "      <td>RENT</td>\n",
       "      <td>NaN</td>\n",
       "      <td>...</td>\n",
       "      <td>0.0</td>\n",
       "      <td>0.0</td>\n",
       "      <td>0.0</td>\n",
       "      <td>0.0</td>\n",
       "      <td>small_business</td>\n",
       "      <td>real estate business</td>\n",
       "      <td>2400.0</td>\n",
       "      <td>2400.0</td>\n",
       "      <td>36 months</td>\n",
       "      <td>0</td>\n",
       "    </tr>\n",
       "    <tr>\n",
       "      <th>3</th>\n",
       "      <td>49200.0</td>\n",
       "      <td>Individual</td>\n",
       "      <td>20.00</td>\n",
       "      <td>Feb-1996</td>\n",
       "      <td>10+ years</td>\n",
       "      <td>AIR RESOURCES BOARD</td>\n",
       "      <td>694.0</td>\n",
       "      <td>690.0</td>\n",
       "      <td>RENT</td>\n",
       "      <td>NaN</td>\n",
       "      <td>...</td>\n",
       "      <td>0.0</td>\n",
       "      <td>0.0</td>\n",
       "      <td>0.0</td>\n",
       "      <td>0.0</td>\n",
       "      <td>other</td>\n",
       "      <td>personel</td>\n",
       "      <td>10000.0</td>\n",
       "      <td>10000.0</td>\n",
       "      <td>36 months</td>\n",
       "      <td>0</td>\n",
       "    </tr>\n",
       "    <tr>\n",
       "      <th>4</th>\n",
       "      <td>80000.0</td>\n",
       "      <td>Individual</td>\n",
       "      <td>17.94</td>\n",
       "      <td>Jan-1996</td>\n",
       "      <td>1 year</td>\n",
       "      <td>University Medical Group</td>\n",
       "      <td>699.0</td>\n",
       "      <td>695.0</td>\n",
       "      <td>RENT</td>\n",
       "      <td>NaN</td>\n",
       "      <td>...</td>\n",
       "      <td>0.0</td>\n",
       "      <td>0.0</td>\n",
       "      <td>0.0</td>\n",
       "      <td>0.0</td>\n",
       "      <td>other</td>\n",
       "      <td>Personal</td>\n",
       "      <td>3000.0</td>\n",
       "      <td>3000.0</td>\n",
       "      <td>60 months</td>\n",
       "      <td>1</td>\n",
       "    </tr>\n",
       "  </tbody>\n",
       "</table>\n",
       "<p>5 rows × 24 columns</p>\n",
       "</div>"
      ],
      "text/plain": [
       "   annual_inc application_type    dti earliest_cr_line emp_length  \\\n",
       "0     24000.0       Individual  27.65         Jan-1985  10+ years   \n",
       "1     30000.0       Individual   1.00         Apr-1999   < 1 year   \n",
       "2     12252.0       Individual   8.72         Nov-2001  10+ years   \n",
       "3     49200.0       Individual  20.00         Feb-1996  10+ years   \n",
       "4     80000.0       Individual  17.94         Jan-1996     1 year   \n",
       "\n",
       "                  emp_title  fico_range_high  fico_range_low home_ownership  \\\n",
       "0                       NaN            739.0           735.0           RENT   \n",
       "1                     Ryder            744.0           740.0           RENT   \n",
       "2                       NaN            739.0           735.0           RENT   \n",
       "3       AIR RESOURCES BOARD            694.0           690.0           RENT   \n",
       "4  University Medical Group            699.0           695.0           RENT   \n",
       "\n",
       "   num_sats  ...  delinq_amnt  pub_rec  pub_rec_bankruptcies  tax_liens  \\\n",
       "0       NaN  ...          0.0      0.0                   0.0        0.0   \n",
       "1       NaN  ...          0.0      0.0                   0.0        0.0   \n",
       "2       NaN  ...          0.0      0.0                   0.0        0.0   \n",
       "3       NaN  ...          0.0      0.0                   0.0        0.0   \n",
       "4       NaN  ...          0.0      0.0                   0.0        0.0   \n",
       "\n",
       "          purpose                 title  loan_amnt  funded_amnt        term  \\\n",
       "0     credit_card              Computer     5000.0       5000.0   36 months   \n",
       "1             car                  bike     2500.0       2500.0   60 months   \n",
       "2  small_business  real estate business     2400.0       2400.0   36 months   \n",
       "3           other              personel    10000.0      10000.0   36 months   \n",
       "4           other              Personal     3000.0       3000.0   60 months   \n",
       "\n",
       "  granted  \n",
       "0       1  \n",
       "1       0  \n",
       "2       0  \n",
       "3       0  \n",
       "4       1  \n",
       "\n",
       "[5 rows x 24 columns]"
      ]
     },
     "execution_count": 12,
     "metadata": {},
     "output_type": "execute_result"
    }
   ],
   "source": [
    "df.head()"
   ]
  },
  {
   "cell_type": "code",
   "execution_count": 13,
   "id": "e825d7f1",
   "metadata": {},
   "outputs": [
    {
     "name": "stdout",
     "output_type": "stream",
     "text": [
      "<class 'pandas.core.frame.DataFrame'>\n",
      "RangeIndex: 2925493 entries, 0 to 2925492\n",
      "Data columns (total 24 columns):\n",
      " #   Column                Dtype  \n",
      "---  ------                -----  \n",
      " 0   annual_inc            float64\n",
      " 1   application_type      object \n",
      " 2   dti                   float64\n",
      " 3   earliest_cr_line      object \n",
      " 4   emp_length            object \n",
      " 5   emp_title             object \n",
      " 6   fico_range_high       float64\n",
      " 7   fico_range_low        float64\n",
      " 8   home_ownership        object \n",
      " 9   num_sats              float64\n",
      " 10  mort_acc              float64\n",
      " 11  open_acc              float64\n",
      " 12  total_acc             float64\n",
      " 13  acc_now_delinq        float64\n",
      " 14  delinq_amnt           float64\n",
      " 15  pub_rec               float64\n",
      " 16  pub_rec_bankruptcies  float64\n",
      " 17  tax_liens             float64\n",
      " 18  purpose               object \n",
      " 19  title                 object \n",
      " 20  loan_amnt             float64\n",
      " 21  funded_amnt           float64\n",
      " 22  term                  object \n",
      " 23  granted               int64  \n",
      "dtypes: float64(15), int64(1), object(8)\n",
      "memory usage: 535.7+ MB\n"
     ]
    }
   ],
   "source": [
    "df.info()"
   ]
  },
  {
   "cell_type": "code",
   "execution_count": 14,
   "id": "01c6d112",
   "metadata": {},
   "outputs": [
    {
     "data": {
      "text/html": [
       "<div>\n",
       "<style scoped>\n",
       "    .dataframe tbody tr th:only-of-type {\n",
       "        vertical-align: middle;\n",
       "    }\n",
       "\n",
       "    .dataframe tbody tr th {\n",
       "        vertical-align: top;\n",
       "    }\n",
       "\n",
       "    .dataframe thead th {\n",
       "        text-align: right;\n",
       "    }\n",
       "</style>\n",
       "<table border=\"1\" class=\"dataframe\">\n",
       "  <thead>\n",
       "    <tr style=\"text-align: right;\">\n",
       "      <th></th>\n",
       "      <th>annual_inc</th>\n",
       "      <th>dti</th>\n",
       "      <th>fico_range_high</th>\n",
       "      <th>fico_range_low</th>\n",
       "      <th>num_sats</th>\n",
       "      <th>mort_acc</th>\n",
       "      <th>open_acc</th>\n",
       "      <th>total_acc</th>\n",
       "      <th>acc_now_delinq</th>\n",
       "      <th>delinq_amnt</th>\n",
       "      <th>pub_rec</th>\n",
       "      <th>pub_rec_bankruptcies</th>\n",
       "      <th>tax_liens</th>\n",
       "      <th>loan_amnt</th>\n",
       "      <th>funded_amnt</th>\n",
       "      <th>granted</th>\n",
       "    </tr>\n",
       "  </thead>\n",
       "  <tbody>\n",
       "    <tr>\n",
       "      <th>count</th>\n",
       "      <td>2.925488e+06</td>\n",
       "      <td>2.922384e+06</td>\n",
       "      <td>2.925492e+06</td>\n",
       "      <td>2.925492e+06</td>\n",
       "      <td>2.866902e+06</td>\n",
       "      <td>2.875462e+06</td>\n",
       "      <td>2.925463e+06</td>\n",
       "      <td>2.925463e+06</td>\n",
       "      <td>2.925463e+06</td>\n",
       "      <td>2.925463e+06</td>\n",
       "      <td>2.925463e+06</td>\n",
       "      <td>2.924127e+06</td>\n",
       "      <td>2.925387e+06</td>\n",
       "      <td>2.925492e+06</td>\n",
       "      <td>2.925492e+06</td>\n",
       "      <td>2.925493e+06</td>\n",
       "    </tr>\n",
       "    <tr>\n",
       "      <th>mean</th>\n",
       "      <td>7.993727e+04</td>\n",
       "      <td>1.929648e+01</td>\n",
       "      <td>7.045112e+02</td>\n",
       "      <td>7.005110e+02</td>\n",
       "      <td>1.168603e+01</td>\n",
       "      <td>1.512336e+00</td>\n",
       "      <td>1.167616e+01</td>\n",
       "      <td>2.401835e+01</td>\n",
       "      <td>3.230258e-03</td>\n",
       "      <td>9.907502e+00</td>\n",
       "      <td>1.762846e-01</td>\n",
       "      <td>1.226790e-01</td>\n",
       "      <td>3.614188e-02</td>\n",
       "      <td>1.535878e+04</td>\n",
       "      <td>1.535470e+04</td>\n",
       "      <td>5.834685e-01</td>\n",
       "    </tr>\n",
       "    <tr>\n",
       "      <th>std</th>\n",
       "      <td>1.117476e+05</td>\n",
       "      <td>1.571977e+01</td>\n",
       "      <td>3.376653e+01</td>\n",
       "      <td>3.376565e+01</td>\n",
       "      <td>5.736746e+00</td>\n",
       "      <td>1.869776e+00</td>\n",
       "      <td>5.733312e+00</td>\n",
       "      <td>1.207625e+01</td>\n",
       "      <td>6.142950e-02</td>\n",
       "      <td>6.480591e+02</td>\n",
       "      <td>5.243762e-01</td>\n",
       "      <td>3.531414e-01</td>\n",
       "      <td>3.324517e-01</td>\n",
       "      <td>9.478383e+03</td>\n",
       "      <td>9.477145e+03</td>\n",
       "      <td>4.929839e-01</td>\n",
       "    </tr>\n",
       "    <tr>\n",
       "      <th>min</th>\n",
       "      <td>0.000000e+00</td>\n",
       "      <td>-1.000000e+00</td>\n",
       "      <td>6.140000e+02</td>\n",
       "      <td>6.100000e+02</td>\n",
       "      <td>0.000000e+00</td>\n",
       "      <td>0.000000e+00</td>\n",
       "      <td>0.000000e+00</td>\n",
       "      <td>1.000000e+00</td>\n",
       "      <td>0.000000e+00</td>\n",
       "      <td>0.000000e+00</td>\n",
       "      <td>0.000000e+00</td>\n",
       "      <td>0.000000e+00</td>\n",
       "      <td>0.000000e+00</td>\n",
       "      <td>5.000000e+02</td>\n",
       "      <td>5.000000e+02</td>\n",
       "      <td>0.000000e+00</td>\n",
       "    </tr>\n",
       "    <tr>\n",
       "      <th>25%</th>\n",
       "      <td>4.700000e+04</td>\n",
       "      <td>1.208000e+01</td>\n",
       "      <td>6.790000e+02</td>\n",
       "      <td>6.750000e+02</td>\n",
       "      <td>8.000000e+00</td>\n",
       "      <td>0.000000e+00</td>\n",
       "      <td>8.000000e+00</td>\n",
       "      <td>1.500000e+01</td>\n",
       "      <td>0.000000e+00</td>\n",
       "      <td>0.000000e+00</td>\n",
       "      <td>0.000000e+00</td>\n",
       "      <td>0.000000e+00</td>\n",
       "      <td>0.000000e+00</td>\n",
       "      <td>8.000000e+03</td>\n",
       "      <td>8.000000e+03</td>\n",
       "      <td>0.000000e+00</td>\n",
       "    </tr>\n",
       "    <tr>\n",
       "      <th>50%</th>\n",
       "      <td>6.600000e+04</td>\n",
       "      <td>1.810000e+01</td>\n",
       "      <td>6.990000e+02</td>\n",
       "      <td>6.950000e+02</td>\n",
       "      <td>1.100000e+01</td>\n",
       "      <td>1.000000e+00</td>\n",
       "      <td>1.100000e+01</td>\n",
       "      <td>2.200000e+01</td>\n",
       "      <td>0.000000e+00</td>\n",
       "      <td>0.000000e+00</td>\n",
       "      <td>0.000000e+00</td>\n",
       "      <td>0.000000e+00</td>\n",
       "      <td>0.000000e+00</td>\n",
       "      <td>1.300000e+04</td>\n",
       "      <td>1.300000e+04</td>\n",
       "      <td>1.000000e+00</td>\n",
       "    </tr>\n",
       "    <tr>\n",
       "      <th>75%</th>\n",
       "      <td>9.500000e+04</td>\n",
       "      <td>2.488000e+01</td>\n",
       "      <td>7.240000e+02</td>\n",
       "      <td>7.200000e+02</td>\n",
       "      <td>1.500000e+01</td>\n",
       "      <td>2.000000e+00</td>\n",
       "      <td>1.500000e+01</td>\n",
       "      <td>3.100000e+01</td>\n",
       "      <td>0.000000e+00</td>\n",
       "      <td>0.000000e+00</td>\n",
       "      <td>0.000000e+00</td>\n",
       "      <td>0.000000e+00</td>\n",
       "      <td>0.000000e+00</td>\n",
       "      <td>2.000000e+04</td>\n",
       "      <td>2.000000e+04</td>\n",
       "      <td>1.000000e+00</td>\n",
       "    </tr>\n",
       "    <tr>\n",
       "      <th>max</th>\n",
       "      <td>1.100000e+08</td>\n",
       "      <td>9.990000e+02</td>\n",
       "      <td>8.500000e+02</td>\n",
       "      <td>8.450000e+02</td>\n",
       "      <td>1.040000e+02</td>\n",
       "      <td>9.400000e+01</td>\n",
       "      <td>1.040000e+02</td>\n",
       "      <td>1.760000e+02</td>\n",
       "      <td>1.400000e+01</td>\n",
       "      <td>2.499250e+05</td>\n",
       "      <td>8.600000e+01</td>\n",
       "      <td>1.200000e+01</td>\n",
       "      <td>8.500000e+01</td>\n",
       "      <td>4.000000e+04</td>\n",
       "      <td>4.000000e+04</td>\n",
       "      <td>1.000000e+00</td>\n",
       "    </tr>\n",
       "  </tbody>\n",
       "</table>\n",
       "</div>"
      ],
      "text/plain": [
       "         annual_inc           dti  fico_range_high  fico_range_low  \\\n",
       "count  2.925488e+06  2.922384e+06     2.925492e+06    2.925492e+06   \n",
       "mean   7.993727e+04  1.929648e+01     7.045112e+02    7.005110e+02   \n",
       "std    1.117476e+05  1.571977e+01     3.376653e+01    3.376565e+01   \n",
       "min    0.000000e+00 -1.000000e+00     6.140000e+02    6.100000e+02   \n",
       "25%    4.700000e+04  1.208000e+01     6.790000e+02    6.750000e+02   \n",
       "50%    6.600000e+04  1.810000e+01     6.990000e+02    6.950000e+02   \n",
       "75%    9.500000e+04  2.488000e+01     7.240000e+02    7.200000e+02   \n",
       "max    1.100000e+08  9.990000e+02     8.500000e+02    8.450000e+02   \n",
       "\n",
       "           num_sats      mort_acc      open_acc     total_acc  acc_now_delinq  \\\n",
       "count  2.866902e+06  2.875462e+06  2.925463e+06  2.925463e+06    2.925463e+06   \n",
       "mean   1.168603e+01  1.512336e+00  1.167616e+01  2.401835e+01    3.230258e-03   \n",
       "std    5.736746e+00  1.869776e+00  5.733312e+00  1.207625e+01    6.142950e-02   \n",
       "min    0.000000e+00  0.000000e+00  0.000000e+00  1.000000e+00    0.000000e+00   \n",
       "25%    8.000000e+00  0.000000e+00  8.000000e+00  1.500000e+01    0.000000e+00   \n",
       "50%    1.100000e+01  1.000000e+00  1.100000e+01  2.200000e+01    0.000000e+00   \n",
       "75%    1.500000e+01  2.000000e+00  1.500000e+01  3.100000e+01    0.000000e+00   \n",
       "max    1.040000e+02  9.400000e+01  1.040000e+02  1.760000e+02    1.400000e+01   \n",
       "\n",
       "        delinq_amnt       pub_rec  pub_rec_bankruptcies     tax_liens  \\\n",
       "count  2.925463e+06  2.925463e+06          2.924127e+06  2.925387e+06   \n",
       "mean   9.907502e+00  1.762846e-01          1.226790e-01  3.614188e-02   \n",
       "std    6.480591e+02  5.243762e-01          3.531414e-01  3.324517e-01   \n",
       "min    0.000000e+00  0.000000e+00          0.000000e+00  0.000000e+00   \n",
       "25%    0.000000e+00  0.000000e+00          0.000000e+00  0.000000e+00   \n",
       "50%    0.000000e+00  0.000000e+00          0.000000e+00  0.000000e+00   \n",
       "75%    0.000000e+00  0.000000e+00          0.000000e+00  0.000000e+00   \n",
       "max    2.499250e+05  8.600000e+01          1.200000e+01  8.500000e+01   \n",
       "\n",
       "          loan_amnt   funded_amnt       granted  \n",
       "count  2.925492e+06  2.925492e+06  2.925493e+06  \n",
       "mean   1.535878e+04  1.535470e+04  5.834685e-01  \n",
       "std    9.478383e+03  9.477145e+03  4.929839e-01  \n",
       "min    5.000000e+02  5.000000e+02  0.000000e+00  \n",
       "25%    8.000000e+03  8.000000e+03  0.000000e+00  \n",
       "50%    1.300000e+04  1.300000e+04  1.000000e+00  \n",
       "75%    2.000000e+04  2.000000e+04  1.000000e+00  \n",
       "max    4.000000e+04  4.000000e+04  1.000000e+00  "
      ]
     },
     "execution_count": 14,
     "metadata": {},
     "output_type": "execute_result"
    }
   ],
   "source": [
    "df.describe()"
   ]
  },
  {
   "cell_type": "code",
   "execution_count": 15,
   "id": "123d2be0",
   "metadata": {},
   "outputs": [
    {
     "data": {
      "text/plain": [
       "annual_inc                   5\n",
       "application_type             1\n",
       "dti                       3109\n",
       "earliest_cr_line            30\n",
       "emp_length              205221\n",
       "emp_title               264087\n",
       "fico_range_high              1\n",
       "fico_range_low               1\n",
       "home_ownership               1\n",
       "num_sats                 58591\n",
       "mort_acc                 50031\n",
       "open_acc                    30\n",
       "total_acc                   30\n",
       "acc_now_delinq              30\n",
       "delinq_amnt                 30\n",
       "pub_rec                     30\n",
       "pub_rec_bankruptcies      1366\n",
       "tax_liens                  106\n",
       "purpose                      1\n",
       "title                    23326\n",
       "loan_amnt                    1\n",
       "funded_amnt                  1\n",
       "term                         1\n",
       "granted                      0\n",
       "dtype: int64"
      ]
     },
     "execution_count": 15,
     "metadata": {},
     "output_type": "execute_result"
    }
   ],
   "source": [
    "df.isnull().sum()"
   ]
  },
  {
   "cell_type": "code",
   "execution_count": 16,
   "id": "fc8159ad",
   "metadata": {},
   "outputs": [
    {
     "name": "stdout",
     "output_type": "stream",
     "text": [
      "<class 'pandas.core.frame.DataFrame'>\n",
      "Int64Index: 2585393 entries, 42536 to 2925492\n",
      "Data columns (total 24 columns):\n",
      " #   Column                Dtype  \n",
      "---  ------                -----  \n",
      " 0   annual_inc            float64\n",
      " 1   application_type      object \n",
      " 2   dti                   float64\n",
      " 3   earliest_cr_line      object \n",
      " 4   emp_length            object \n",
      " 5   emp_title             object \n",
      " 6   fico_range_high       float64\n",
      " 7   fico_range_low        float64\n",
      " 8   home_ownership        object \n",
      " 9   num_sats              float64\n",
      " 10  mort_acc              float64\n",
      " 11  open_acc              float64\n",
      " 12  total_acc             float64\n",
      " 13  acc_now_delinq        float64\n",
      " 14  delinq_amnt           float64\n",
      " 15  pub_rec               float64\n",
      " 16  pub_rec_bankruptcies  float64\n",
      " 17  tax_liens             float64\n",
      " 18  purpose               object \n",
      " 19  title                 object \n",
      " 20  loan_amnt             float64\n",
      " 21  funded_amnt           float64\n",
      " 22  term                  object \n",
      " 23  granted               int64  \n",
      "dtypes: float64(15), int64(1), object(8)\n",
      "memory usage: 493.1+ MB\n"
     ]
    }
   ],
   "source": [
    "df.dropna().info() # have over 2.5 million datapoints after dropping null values"
   ]
  },
  {
   "cell_type": "code",
   "execution_count": 17,
   "id": "75611cfb",
   "metadata": {},
   "outputs": [],
   "source": [
    "df.dropna(inplace = True) # permanently dropping all null vals"
   ]
  },
  {
   "cell_type": "code",
   "execution_count": 18,
   "id": "2245d2ed",
   "metadata": {},
   "outputs": [],
   "source": [
    "df.reset_index(inplace = True) # reset index\n",
    "df.drop('index', axis = 1, inplace = True) # drop original index col"
   ]
  },
  {
   "cell_type": "markdown",
   "id": "58182d8e",
   "metadata": {},
   "source": [
    "### Analyzing Object Features"
   ]
  },
  {
   "cell_type": "code",
   "execution_count": 19,
   "id": "ee0f4289",
   "metadata": {},
   "outputs": [
    {
     "data": {
      "text/plain": [
       "0    Individual\n",
       "1    Individual\n",
       "2    Individual\n",
       "3    Individual\n",
       "4    Individual\n",
       "Name: application_type, dtype: object"
      ]
     },
     "execution_count": 19,
     "metadata": {},
     "output_type": "execute_result"
    }
   ],
   "source": [
    "df['application_type'].head()"
   ]
  },
  {
   "cell_type": "code",
   "execution_count": 20,
   "id": "3720356d",
   "metadata": {},
   "outputs": [
    {
     "data": {
      "text/plain": [
       "Individual    2413191\n",
       "Joint App      172202\n",
       "Name: application_type, dtype: int64"
      ]
     },
     "execution_count": 20,
     "metadata": {},
     "output_type": "execute_result"
    }
   ],
   "source": [
    "df['application_type'].value_counts()"
   ]
  },
  {
   "cell_type": "code",
   "execution_count": 21,
   "id": "2e739927",
   "metadata": {},
   "outputs": [],
   "source": [
    "df['application_type'] = df['application_type'].apply(lambda typ: 1 if typ == 'Individual' else 2)"
   ]
  },
  {
   "cell_type": "code",
   "execution_count": 22,
   "id": "0b0eec4c",
   "metadata": {},
   "outputs": [
    {
     "data": {
      "text/plain": [
       "0          Dec-2009\n",
       "1          Aug-1995\n",
       "2          Oct-1986\n",
       "3          Sep-2003\n",
       "4          Jun-1988\n",
       "             ...   \n",
       "2585388    Apr-1995\n",
       "2585389    Sep-1993\n",
       "2585390    May-1993\n",
       "2585391    May-1990\n",
       "2585392    Nov-1997\n",
       "Name: earliest_cr_line, Length: 2585393, dtype: object"
      ]
     },
     "execution_count": 22,
     "metadata": {},
     "output_type": "execute_result"
    }
   ],
   "source": [
    "df['earliest_cr_line']"
   ]
  },
  {
   "cell_type": "code",
   "execution_count": 23,
   "id": "6b4a3aa0",
   "metadata": {},
   "outputs": [],
   "source": [
    "df['earliest_cr_line'] = df['earliest_cr_line'].apply(lambda date: int(date[4:]))"
   ]
  },
  {
   "cell_type": "code",
   "execution_count": 24,
   "id": "d42d5ac5",
   "metadata": {},
   "outputs": [
    {
     "data": {
      "text/plain": [
       "0      4 years\n",
       "1      2 years\n",
       "2    10+ years\n",
       "3      3 years\n",
       "4      4 years\n",
       "Name: emp_length, dtype: object"
      ]
     },
     "execution_count": 24,
     "metadata": {},
     "output_type": "execute_result"
    }
   ],
   "source": [
    "df['emp_length'].head()"
   ]
  },
  {
   "cell_type": "code",
   "execution_count": 25,
   "id": "b243a262",
   "metadata": {},
   "outputs": [
    {
     "data": {
      "text/plain": [
       "10+ years    920406\n",
       "2 years      252630\n",
       "3 years      223809\n",
       "< 1 year     218463\n",
       "1 year       186430\n",
       "5 years      175170\n",
       "4 years      169146\n",
       "6 years      125756\n",
       "7 years      112095\n",
       "8 years      109068\n",
       "9 years       92420\n",
       "Name: emp_length, dtype: int64"
      ]
     },
     "execution_count": 25,
     "metadata": {},
     "output_type": "execute_result"
    }
   ],
   "source": [
    "df['emp_length'].value_counts()"
   ]
  },
  {
   "cell_type": "code",
   "execution_count": 26,
   "id": "73e347b9",
   "metadata": {},
   "outputs": [],
   "source": [
    "df['emp_length'] = df['emp_length'].apply(lambda x: '1 year' if str(x)[0] == '<' else x)\n",
    "df['emp_length'] = df['emp_length'].apply(lambda x: int(str(x)[:2]))"
   ]
  },
  {
   "cell_type": "code",
   "execution_count": 27,
   "id": "3b495a95",
   "metadata": {},
   "outputs": [
    {
     "data": {
      "text/plain": [
       "0                         Project Manager\n",
       "1                     Surgical Technician\n",
       "2     Team Leadern Customer Ops & Systems\n",
       "3                        Systems Engineer\n",
       "4    Assistant Director - Human Resources\n",
       "Name: emp_title, dtype: object"
      ]
     },
     "execution_count": 27,
     "metadata": {},
     "output_type": "execute_result"
    }
   ],
   "source": [
    "df['emp_title'].head()"
   ]
  },
  {
   "cell_type": "code",
   "execution_count": 28,
   "id": "37ff3d85",
   "metadata": {},
   "outputs": [
    {
     "data": {
      "text/plain": [
       "Teacher                                   49749\n",
       "Manager                                   43416\n",
       "Owner                                     24327\n",
       "Registered Nurse                          20531\n",
       "Driver                                    19399\n",
       "                                          ...  \n",
       "Tri. State employment                         1\n",
       "Team Leader Receiving                         1\n",
       "Director, Transportation- Global Sales        1\n",
       "Direct mail marketing manager                 1\n",
       "Contact input                                 1\n",
       "Name: emp_title, Length: 555179, dtype: int64"
      ]
     },
     "execution_count": 28,
     "metadata": {},
     "output_type": "execute_result"
    }
   ],
   "source": [
    "df['emp_title'].value_counts()"
   ]
  },
  {
   "cell_type": "code",
   "execution_count": 29,
   "id": "ad857665",
   "metadata": {},
   "outputs": [],
   "source": [
    "df.drop('emp_title', axis = 1, inplace = True)"
   ]
  },
  {
   "cell_type": "code",
   "execution_count": 30,
   "id": "8a7fcda8",
   "metadata": {},
   "outputs": [
    {
     "data": {
      "text/plain": [
       "0        RENT\n",
       "1    MORTGAGE\n",
       "2         OWN\n",
       "3    MORTGAGE\n",
       "4        RENT\n",
       "Name: home_ownership, dtype: object"
      ]
     },
     "execution_count": 30,
     "metadata": {},
     "output_type": "execute_result"
    }
   ],
   "source": [
    "df['home_ownership'].head()"
   ]
  },
  {
   "cell_type": "code",
   "execution_count": 31,
   "id": "9d172caa",
   "metadata": {},
   "outputs": [
    {
     "data": {
      "text/plain": [
       "MORTGAGE    1285224\n",
       "RENT        1024360\n",
       "OWN          273094\n",
       "ANY            2630\n",
       "NONE             44\n",
       "OTHER            41\n",
       "Name: home_ownership, dtype: int64"
      ]
     },
     "execution_count": 31,
     "metadata": {},
     "output_type": "execute_result"
    }
   ],
   "source": [
    "df['home_ownership'].value_counts()"
   ]
  },
  {
   "cell_type": "code",
   "execution_count": 32,
   "id": "fb6d13f3",
   "metadata": {},
   "outputs": [],
   "source": [
    "def home_ownership_nums(x):\n",
    "    if x == 'OWN':\n",
    "        return 3\n",
    "    elif x == 'MORTGAGE':\n",
    "        return 2\n",
    "    elif x == 'RENT':\n",
    "        return 1\n",
    "    else:\n",
    "        return 0"
   ]
  },
  {
   "cell_type": "code",
   "execution_count": 33,
   "id": "d259ce8d",
   "metadata": {},
   "outputs": [],
   "source": [
    "df['home_ownership'] = df['home_ownership'].apply(lambda x: home_ownership_nums(x))"
   ]
  },
  {
   "cell_type": "code",
   "execution_count": 34,
   "id": "9ce5c8ea",
   "metadata": {},
   "outputs": [
    {
     "data": {
      "text/plain": [
       "0    debt_consolidation\n",
       "1      home_improvement\n",
       "2    debt_consolidation\n",
       "3    debt_consolidation\n",
       "4    debt_consolidation\n",
       "Name: purpose, dtype: object"
      ]
     },
     "execution_count": 34,
     "metadata": {},
     "output_type": "execute_result"
    }
   ],
   "source": [
    "df['purpose'].head()"
   ]
  },
  {
   "cell_type": "code",
   "execution_count": 35,
   "id": "70af0f6d",
   "metadata": {},
   "outputs": [
    {
     "data": {
      "text/plain": [
       "0                                No Regrets\n",
       "1                             For The House\n",
       "2                        Debt Consolidation\n",
       "3    Debt Consolidation and Credit Transfer\n",
       "4                        Debt consolidation\n",
       "Name: title, dtype: object"
      ]
     },
     "execution_count": 35,
     "metadata": {},
     "output_type": "execute_result"
    }
   ],
   "source": [
    "df['title'].head()"
   ]
  },
  {
   "cell_type": "code",
   "execution_count": 36,
   "id": "47ad813e",
   "metadata": {},
   "outputs": [
    {
     "data": {
      "text/plain": [
       "debt_consolidation    1458597\n",
       "credit_card            619725\n",
       "home_improvement       167636\n",
       "other                  152901\n",
       "major_purchase          54226\n",
       "medical                 29905\n",
       "car                     24999\n",
       "small_business          23829\n",
       "vacation                17571\n",
       "house                   16822\n",
       "moving                  16665\n",
       "renewable_energy         1479\n",
       "wedding                  1036\n",
       "educational                 2\n",
       "Name: purpose, dtype: int64"
      ]
     },
     "execution_count": 36,
     "metadata": {},
     "output_type": "execute_result"
    }
   ],
   "source": [
    "df['purpose'].value_counts()"
   ]
  },
  {
   "cell_type": "code",
   "execution_count": 37,
   "id": "bb28cfb6",
   "metadata": {},
   "outputs": [
    {
     "data": {
      "text/plain": [
       "Debt consolidation         1380158\n",
       "Credit card refinancing     588521\n",
       "Home improvement            160699\n",
       "Other                       147770\n",
       "Major purchase               51955\n",
       "                            ...   \n",
       "My Debt Consolodation            1\n",
       "Amazon Visa payoff Loan          1\n",
       "Try this                         1\n",
       "able to sleep at night           1\n",
       "Credit Card/Auto Repair          1\n",
       "Name: title, Length: 39219, dtype: int64"
      ]
     },
     "execution_count": 37,
     "metadata": {},
     "output_type": "execute_result"
    }
   ],
   "source": [
    "df['title'].value_counts()"
   ]
  },
  {
   "cell_type": "code",
   "execution_count": 38,
   "id": "1dda05b4",
   "metadata": {},
   "outputs": [],
   "source": [
    "df.drop('purpose', axis = 1, inplace = True) # since the purpose and title cols are quite similar"
   ]
  },
  {
   "cell_type": "code",
   "execution_count": 39,
   "id": "0e50df92",
   "metadata": {},
   "outputs": [],
   "source": [
    "def title_nums(x):\n",
    "    if x == 'Debt consolidation':\n",
    "        return 3\n",
    "    elif x == 'Credit card refinancing':\n",
    "        return 2\n",
    "    elif x == 'Home Improvement':\n",
    "        return 1\n",
    "    else:\n",
    "        return 0"
   ]
  },
  {
   "cell_type": "code",
   "execution_count": 40,
   "id": "d5f5dafd",
   "metadata": {},
   "outputs": [],
   "source": [
    "df['title'] = df['title'].apply(lambda x: title_nums(x))"
   ]
  },
  {
   "cell_type": "code",
   "execution_count": 41,
   "id": "286328df",
   "metadata": {},
   "outputs": [
    {
     "data": {
      "text/plain": [
       "0     36 months\n",
       "1     36 months\n",
       "2     36 months\n",
       "3     36 months\n",
       "4     36 months\n",
       "Name: term, dtype: object"
      ]
     },
     "execution_count": 41,
     "metadata": {},
     "output_type": "execute_result"
    }
   ],
   "source": [
    "df['term'].head()"
   ]
  },
  {
   "cell_type": "code",
   "execution_count": 42,
   "id": "eff6e97c",
   "metadata": {},
   "outputs": [
    {
     "data": {
      "text/plain": [
       " 36 months    1801864\n",
       " 60 months     783529\n",
       "Name: term, dtype: int64"
      ]
     },
     "execution_count": 42,
     "metadata": {},
     "output_type": "execute_result"
    }
   ],
   "source": [
    "df['term'].value_counts()"
   ]
  },
  {
   "cell_type": "code",
   "execution_count": 43,
   "id": "e65e9222",
   "metadata": {},
   "outputs": [],
   "source": [
    "df['term'] = df['term'].apply(lambda x: int(x[:3]))"
   ]
  },
  {
   "cell_type": "code",
   "execution_count": 44,
   "id": "36f4d764",
   "metadata": {},
   "outputs": [
    {
     "data": {
      "text/plain": [
       "<AxesSubplot:>"
      ]
     },
     "execution_count": 44,
     "metadata": {},
     "output_type": "execute_result"
    },
    {
     "data": {
      "image/png": "[encoded data removed]",
      "text/plain": [
       "<Figure size 432x288 with 2 Axes>"
      ]
     },
     "metadata": {
      "needs_background": "light"
     },
     "output_type": "display_data"
    }
   ],
   "source": [
    "sns.heatmap(df.corr())"
   ]
  },
  {
   "cell_type": "code",
   "execution_count": 45,
   "id": "0e7900f0",
   "metadata": {},
   "outputs": [],
   "source": [
    "from sklearn.model_selection import train_test_split"
   ]
  },
  {
   "cell_type": "code",
   "execution_count": 63,
   "id": "0a2b6369",
   "metadata": {},
   "outputs": [],
   "source": [
    "feats = list(df.columns)\n",
    "feats.remove('granted')\n",
    "X = df.loc[:500000][feats]\n",
    "y = df.loc[:500000]['granted']"
   ]
  },
  {
   "cell_type": "code",
   "execution_count": 65,
   "id": "e932d18f",
   "metadata": {},
   "outputs": [],
   "source": [
    "X_train, X_test, y_train, y_test = train_test_split(X, y, test_size = 0.2)"
   ]
  },
  {
   "cell_type": "code",
   "execution_count": 66,
   "id": "887fd49a",
   "metadata": {},
   "outputs": [],
   "source": [
    "from sklearn.linear_model import LogisticRegression"
   ]
  },
  {
   "cell_type": "code",
   "execution_count": 67,
   "id": "49a40f61",
   "metadata": {},
   "outputs": [],
   "source": [
    "model = LogisticRegression()"
   ]
  },
  {
   "cell_type": "code",
   "execution_count": 68,
   "id": "725c6cbe",
   "metadata": {},
   "outputs": [
    {
     "name": "stderr",
     "output_type": "stream",
     "text": [
      "C:\\Users\\sirki\\anaconda3\\lib\\site-packages\\sklearn\\linear_model\\_logistic.py:763: ConvergenceWarning: lbfgs failed to converge (status=1):\n",
      "STOP: TOTAL NO. of ITERATIONS REACHED LIMIT.\n",
      "\n",
      "Increase the number of iterations (max_iter) or scale the data as shown in:\n",
      "    https://scikit-learn.org/stable/modules/preprocessing.html\n",
      "Please also refer to the documentation for alternative solver options:\n",
      "    https://scikit-learn.org/stable/modules/linear_model.html#logistic-regression\n",
      "  n_iter_i = _check_optimize_result(\n"
     ]
    },
    {
     "data": {
      "text/plain": [
       "LogisticRegression()"
      ]
     },
     "execution_count": 68,
     "metadata": {},
     "output_type": "execute_result"
    }
   ],
   "source": [
    "model.fit(X_train, y_train)"
   ]
  },
  {
   "cell_type": "code",
   "execution_count": 69,
   "id": "d4cfa69e",
   "metadata": {},
   "outputs": [],
   "source": [
    "predictions = model.predict(X_test)"
   ]
  },
  {
   "cell_type": "code",
   "execution_count": 70,
   "id": "3e5b14cc",
   "metadata": {},
   "outputs": [],
   "source": [
    "from sklearn.metrics import confusion_matrix, classification_report"
   ]
  },
  {
   "cell_type": "code",
   "execution_count": 71,
   "id": "a52ff96d",
   "metadata": {},
   "outputs": [
    {
     "name": "stdout",
     "output_type": "stream",
     "text": [
      "[[25095 13791]\n",
      " [17826 43289]]\n"
     ]
    }
   ],
   "source": [
    "print(confusion_matrix(predictions, y_test))"
   ]
  },
  {
   "cell_type": "code",
   "execution_count": 72,
   "id": "66e099cf",
   "metadata": {},
   "outputs": [
    {
     "name": "stdout",
     "output_type": "stream",
     "text": [
      "              precision    recall  f1-score   support\n",
      "\n",
      "           0       0.58      0.65      0.61     38886\n",
      "           1       0.76      0.71      0.73     61115\n",
      "\n",
      "    accuracy                           0.68    100001\n",
      "   macro avg       0.67      0.68      0.67    100001\n",
      "weighted avg       0.69      0.68      0.69    100001\n",
      "\n"
     ]
    }
   ],
   "source": [
    "print(classification_report(predictions, y_test))"
   ]
  },
  {
   "cell_type": "code",
   "execution_count": 73,
   "id": "693d965c",
   "metadata": {},
   "outputs": [
    {
     "data": {
      "text/plain": [
       "RandomForestClassifier()"
      ]
     },
     "execution_count": 73,
     "metadata": {},
     "output_type": "execute_result"
    }
   ],
   "source": [
    "from sklearn.ensemble import RandomForestClassifier\n",
    "rfc = RandomForestClassifier(n_estimators=100)\n",
    "rfc.fit(X_train, y_train)"
   ]
  },
  {
   "cell_type": "code",
   "execution_count": 74,
   "id": "10466bf5",
   "metadata": {},
   "outputs": [],
   "source": [
    "rfc_pred = rfc.predict(X_test)"
   ]
  },
  {
   "cell_type": "code",
   "execution_count": 75,
   "id": "d1b78293",
   "metadata": {},
   "outputs": [
    {
     "name": "stdout",
     "output_type": "stream",
     "text": [
      "[[29100 13821]\n",
      " [16104 40976]]\n"
     ]
    }
   ],
   "source": [
    "print(confusion_matrix(y_test,rfc_pred))"
   ]
  },
  {
   "cell_type": "code",
   "execution_count": 76,
   "id": "ce02bd36",
   "metadata": {},
   "outputs": [
    {
     "name": "stdout",
     "output_type": "stream",
     "text": [
      "              precision    recall  f1-score   support\n",
      "\n",
      "           0       0.58      0.65      0.61     38886\n",
      "           1       0.76      0.71      0.73     61115\n",
      "\n",
      "    accuracy                           0.68    100001\n",
      "   macro avg       0.67      0.68      0.67    100001\n",
      "weighted avg       0.69      0.68      0.69    100001\n",
      "\n"
     ]
    }
   ],
   "source": [
    "print(classification_report(predictions, y_test))"
   ]
  },
  {
   "cell_type": "code",
   "execution_count": null,
   "id": "59483ae3",
   "metadata": {},
   "outputs": [],
   "source": []
  }
 ],
 "metadata": {
  "kernelspec": {
   "display_name": "Python 3 (ipykernel)",
   "language": "python",
   "name": "python3"
  },
  "language_info": {
   "codemirror_mode": {
    "name": "ipython",
    "version": 3
   },
   "file_extension": ".py",
   "mimetype": "text/x-python",
   "name": "python",
   "nbconvert_exporter": "python",
   "pygments_lexer": "ipython3",
   "version": "3.9.7"
  }
 },
 "nbformat": 4,
 "nbformat_minor": 5
}
